{
 "cells": [
  {
   "cell_type": "code",
   "execution_count": 1,
   "metadata": {},
   "outputs": [],
   "source": [
    "%load_ext autoreload\n",
    "%reload_ext autoreload\n",
    "%autoreload 2"
   ]
  },
  {
   "cell_type": "code",
   "execution_count": 2,
   "metadata": {},
   "outputs": [],
   "source": [
    "from pathlib import Path\n",
    "\n",
    "from attila.util.config import get_config\n",
    "from attila.data.parse import parse_data, get_data\n",
    "from attila.experiments.data import load_experiments, save_experiments\n",
    "from attila.experiments.do import do_experiments\n",
    "\n",
    "_here = Path('.').resolve()"
   ]
  },
  {
   "cell_type": "code",
   "execution_count": 4,
   "metadata": {},
   "outputs": [],
   "source": [
    "config = get_config(_here / './config.ini')\n",
    "\n",
    "data_path = _here / config.get('data', 'folder')\n",
    "data_path = data_path.resolve()\n",
    "\n",
    "out_path = Path(config.get('experiments', 'output folder')).resolve()\n",
    "out_path.mkdir(parents=True, exist_ok=True)  # rm and mkdir if existing\n",
    "\n",
    "images_path = data_path / config.get('data', 'images')\n",
    "masks_path = data_path / config.get('data', 'masks')"
   ]
  },
  {
   "cell_type": "code",
   "execution_count": 4,
   "metadata": {},
   "outputs": [],
   "source": [
    "raw = get_data(images_path, masks_path)\n",
    "X, y = parse_data(\n",
    "    raw,\n",
    "    (config.getint('image', 'width'), config.getint('image', 'height'))\n",
    ")"
   ]
  },
  {
   "cell_type": "code",
   "execution_count": 12,
   "metadata": {},
   "outputs": [],
   "source": [
    "experiments_file = _here / config.get('experiments', 'output file')\n",
    "experiments = load_experiments(experiments_file)"
   ]
  },
  {
   "cell_type": "code",
   "execution_count": 13,
   "metadata": {},
   "outputs": [],
   "source": [
    "do_experiments(experiments, (X, y), config, out_path)\n",
    "save_experiments(experiments, out_path / config.get('experiments', 'output file'))"
   ]
  }
 ],
 "metadata": {
  "kernelspec": {
   "display_name": "Python 3",
   "language": "python",
   "name": "python3"
  },
  "language_info": {
   "codemirror_mode": {
    "name": "ipython",
    "version": 3
   },
   "file_extension": ".py",
   "mimetype": "text/x-python",
   "name": "python",
   "nbconvert_exporter": "python",
   "pygments_lexer": "ipython3",
   "version": "3.8.5"
  }
 },
 "nbformat": 4,
 "nbformat_minor": 4
}
