{
 "cells": [
  {
   "cell_type": "code",
   "execution_count": 1,
   "metadata": {},
   "outputs": [],
   "source": [
    "%load_ext autoreload\n",
    "%reload_ext autoreload\n",
    "%autoreload 2"
   ]
  },
  {
   "cell_type": "code",
   "execution_count": 2,
   "metadata": {},
   "outputs": [],
   "source": [
    "%matplotlib inline\n",
    "\n",
    "from pathlib import Path\n",
    "\n",
    "from attila.data.parse import parse_data, get_data\n",
    "from attila.util.config import get_config\n",
    "from attila.util.plots import plot_sample\n",
    "from attila.experiments.data import load_experiments\n",
    "from attila.experiments.do import do_batch_experiments\n",
    "from attila.experiments.tools import create_tex_experiments"
   ]
  },
  {
   "cell_type": "code",
   "execution_count": 3,
   "metadata": {},
   "outputs": [],
   "source": [
    "_here = Path('.').resolve()\n",
    "config = get_config(_here / 'config.ini')\n",
    "\n",
    "data_path = _here / config.get('data', 'folder')\n",
    "data_path = data_path.resolve()\n",
    "\n",
    "out_path = Path(config.get('experiments', 'output folder')).resolve()\n",
    "out_path.mkdir(parents=True, exist_ok=True)  # rm and mkdir if existing\n",
    "\n",
    "images_path = data_path / config.get('data', 'images')\n",
    "masks_path = data_path / config.get('data', 'masks')"
   ]
  },
  {
   "cell_type": "code",
   "execution_count": 4,
   "metadata": {},
   "outputs": [],
   "source": [
    "raw = get_data(images_path, masks_path)\n",
    "X, y = parse_data(\n",
    "    raw,\n",
    "    (config.getint('image', 'width'), config.getint('image', 'height'))\n",
    ")"
   ]
  },
  {
   "cell_type": "code",
   "execution_count": 5,
   "metadata": {},
   "outputs": [],
   "source": [
    "experiments_file = _here / 'experiments.json'\n",
    "experiments = load_experiments(experiments_file)"
   ]
  },
  {
   "cell_type": "code",
   "execution_count": 8,
   "metadata": {
    "scrolled": true
   },
   "outputs": [
    {
     "name": "stdout",
     "output_type": "stream",
     "text": [
      "testing data: X ~ (28, 120, 120, 1), y ~ (28, 120, 120, 3)\n",
      "ready to perform #1 / 1 batch of experiments\n",
      "ready to perform 8 experiments\n",
      "=== experiment #1 / 8: with_same\n",
      "= dataset training: X ~ (54, 120, 120, 1), y ~ (54, 120, 120, 3)\n",
      "= dataset validation: X ~ (10, 120, 120, 1), y ~ (10, 120, 120, 3)\n",
      "= dataset test: X ~ (28, 120, 120, 1), y ~ (28, 120, 120, 3)\n",
      "=== model\n",
      "= # layers: 25\n",
      "= # total params: 1882115\n",
      "= # trainable params: 1882115\n",
      "= # non-trainable params: 0\n",
      "Epoch 1/5\n",
      "14/14 [==============================] - 1s 92ms/step - loss: 0.3638 - accuracy: 0.8905 - batch_metric-mean_IoU: 0.0141 - batch_metric-DSC: 0.0785 - val_loss: 0.1327 - val_accuracy: 0.9598 - val_batch_metric-mean_IoU: 2.1855e-10 - val_batch_metric-DSC: 0.0022 - lr: 0.0010\n",
      "Epoch 2/5\n",
      "14/14 [==============================] - 0s 16ms/step - loss: 0.1154 - accuracy: 0.9578 - batch_metric-mean_IoU: 0.0253 - batch_metric-DSC: 0.0690 - val_loss: 0.1557 - val_accuracy: 0.9598 - val_batch_metric-mean_IoU: 2.2847e-10 - val_batch_metric-DSC: 0.0023 - lr: 0.0010\n",
      "Epoch 3/5\n",
      "14/14 [==============================] - 0s 17ms/step - loss: 0.1249 - accuracy: 0.9578 - batch_metric-mean_IoU: 0.0496 - batch_metric-DSC: 0.0913 - val_loss: 0.0781 - val_accuracy: 0.9598 - val_batch_metric-mean_IoU: 0.1317 - val_batch_metric-DSC: 0.1874 - lr: 0.0010\n",
      "Epoch 4/5\n",
      "14/14 [==============================] - 0s 16ms/step - loss: 0.0724 - accuracy: 0.9587 - batch_metric-mean_IoU: 0.3251 - batch_metric-DSC: 0.3627 - val_loss: 0.0594 - val_accuracy: 0.9711 - val_batch_metric-mean_IoU: 0.3777 - val_batch_metric-DSC: 0.3940 - lr: 0.0010\n",
      "Epoch 5/5\n",
      "14/14 [==============================] - 0s 16ms/step - loss: 0.0791 - accuracy: 0.9624 - batch_metric-mean_IoU: 0.3299 - batch_metric-DSC: 0.3611 - val_loss: 0.0664 - val_accuracy: 0.9598 - val_batch_metric-mean_IoU: 0.0396 - val_batch_metric-DSC: 0.0703 - lr: 0.0010\n",
      "7/7 [==============================] - 0s 4ms/step\n",
      "=== evaluation stats\n",
      "= metrics on test set (size: 28)\n",
      "= batch_metric-mean_IoU ~ mean 0.132 median 0.019 std 0.303\n",
      "= batch_metric-mean_DSC ~ mean 0.169 median 0.044 std 0.297\n"
     ]
    },
    {
     "name": "stderr",
     "output_type": "stream",
     "text": [
      "/home/h4/stfo194b/scratch/attila/attila/util/plots.py:123: UserWarning: No contour levels were found within the data range.\n",
      "  plt.contour(ground_truth, colors='red', levels=[0.5])\n"
     ]
    },
    {
     "name": "stdout",
     "output_type": "stream",
     "text": [
      "=== experiment #2 / 8: without_same\n",
      "= dataset training: X ~ (54, 120, 120, 1), y ~ (54, 120, 120, 3)\n",
      "= dataset validation: X ~ (10, 120, 120, 1), y ~ (10, 120, 120, 3)\n",
      "= dataset test: X ~ (28, 120, 120, 1), y ~ (28, 120, 120, 3)\n",
      "=== model\n",
      "= # layers: 21\n",
      "= # total params: 1697795\n",
      "= # trainable params: 1697795\n",
      "= # non-trainable params: 0\n",
      "Epoch 1/5\n",
      "14/14 [==============================] - 1s 50ms/step - loss: 0.4551 - accuracy: 0.8197 - batch_metric-mean_IoU: 0.0117 - batch_metric-DSC: 0.0243 - val_loss: 0.1712 - val_accuracy: 0.9598 - val_batch_metric-mean_IoU: 0.0082 - val_batch_metric-DSC: 0.0169 - lr: 0.0010\n",
      "Epoch 2/5\n",
      "14/14 [==============================] - 0s 16ms/step - loss: 0.1330 - accuracy: 0.9578 - batch_metric-mean_IoU: 0.0127 - batch_metric-DSC: 0.0442 - val_loss: 0.1035 - val_accuracy: 0.9598 - val_batch_metric-mean_IoU: 0.0283 - val_batch_metric-DSC: 0.0532 - lr: 0.0010\n",
      "Epoch 3/5\n",
      "14/14 [==============================] - 0s 14ms/step - loss: 0.0803 - accuracy: 0.9578 - batch_metric-mean_IoU: 0.1583 - batch_metric-DSC: 0.2391 - val_loss: 0.0454 - val_accuracy: 0.9598 - val_batch_metric-mean_IoU: 0.5255 - val_batch_metric-DSC: 0.4952 - lr: 0.0010\n",
      "Epoch 4/5\n",
      "14/14 [==============================] - 0s 15ms/step - loss: 0.0858 - accuracy: 0.9590 - batch_metric-mean_IoU: 0.4821 - batch_metric-DSC: 0.4748 - val_loss: 0.2653 - val_accuracy: 0.9598 - val_batch_metric-mean_IoU: 0.2138 - val_batch_metric-DSC: 0.2852 - lr: 0.0010\n",
      "Epoch 5/5\n",
      "14/14 [==============================] - 0s 15ms/step - loss: 0.1041 - accuracy: 0.9576 - batch_metric-mean_IoU: 0.4511 - batch_metric-DSC: 0.4398 - val_loss: 0.0895 - val_accuracy: 0.9683 - val_batch_metric-mean_IoU: 0.2245 - val_batch_metric-DSC: 0.2864 - lr: 0.0010\n",
      "7/7 [==============================] - 0s 4ms/step\n",
      "=== evaluation stats\n",
      "= metrics on test set (size: 28)\n",
      "= batch_metric-mean_IoU ~ mean 0.341 median 0.348 std 0.287\n",
      "= batch_metric-mean_DSC ~ mean 0.399 median 0.420 std 0.263\n",
      "=== experiment #3 / 8: with_valid\n",
      "= dataset training: X ~ (54, 120, 120, 1), y ~ (54, 76, 76, 3)\n",
      "= dataset validation: X ~ (10, 120, 120, 1), y ~ (10, 76, 76, 3)\n",
      "= dataset test: X ~ (28, 120, 120, 1), y ~ (28, 76, 76, 3)\n",
      "=== model\n",
      "= # layers: 26\n",
      "= # total params: 1882115\n",
      "= # trainable params: 1882115\n",
      "= # non-trainable params: 0\n",
      "Epoch 1/5\n",
      "14/14 [==============================] - 1s 72ms/step - loss: 0.4265 - accuracy: 0.8858 - batch_metric-mean_IoU: 0.3055 - batch_metric-DSC: 0.3227 - val_loss: 0.2053 - val_accuracy: 0.9615 - val_batch_metric-mean_IoU: 0.3333 - val_batch_metric-DSC: 0.3349 - lr: 0.0010\n",
      "Epoch 2/5\n",
      "14/14 [==============================] - 0s 14ms/step - loss: 0.1554 - accuracy: 0.9567 - batch_metric-mean_IoU: 0.6429 - batch_metric-DSC: 0.6438 - val_loss: 0.0974 - val_accuracy: 0.9615 - val_batch_metric-mean_IoU: 0.3333 - val_batch_metric-DSC: 0.3349 - lr: 0.0010\n",
      "Epoch 3/5\n",
      "14/14 [==============================] - 0s 13ms/step - loss: 0.1161 - accuracy: 0.9567 - batch_metric-mean_IoU: 0.6429 - batch_metric-DSC: 0.6460 - val_loss: 0.0768 - val_accuracy: 0.9615 - val_batch_metric-mean_IoU: 0.3333 - val_batch_metric-DSC: 0.3349 - lr: 0.0010\n",
      "Epoch 4/5\n",
      "14/14 [==============================] - 0s 13ms/step - loss: 0.0703 - accuracy: 0.9572 - batch_metric-mean_IoU: 0.5153 - batch_metric-DSC: 0.5101 - val_loss: 0.1707 - val_accuracy: 0.9615 - val_batch_metric-mean_IoU: 0.3333 - val_batch_metric-DSC: 0.3349 - lr: 0.0010\n",
      "Epoch 5/5\n",
      "14/14 [==============================] - 0s 13ms/step - loss: 0.0556 - accuracy: 0.9814 - batch_metric-mean_IoU: 0.8313 - batch_metric-DSC: 0.8042 - val_loss: 0.0316 - val_accuracy: 0.9850 - val_batch_metric-mean_IoU: 0.7862 - val_batch_metric-DSC: 0.7127 - lr: 0.0010\n",
      "7/7 [==============================] - 0s 3ms/step\n",
      "=== evaluation stats\n",
      "= metrics on test set (size: 28)\n",
      "= batch_metric-mean_IoU ~ mean 0.809 median 0.837 std 0.210\n",
      "= batch_metric-mean_DSC ~ mean 0.737 median 0.626 std 0.221\n",
      "=== experiment #4 / 8: without_valid\n",
      "= dataset training: X ~ (54, 120, 120, 1), y ~ (54, 76, 76, 3)\n",
      "= dataset validation: X ~ (10, 120, 120, 1), y ~ (10, 76, 76, 3)\n",
      "= dataset test: X ~ (28, 120, 120, 1), y ~ (28, 76, 76, 3)\n",
      "=== model\n",
      "= # layers: 22\n",
      "= # total params: 1697795\n",
      "= # trainable params: 1697795\n",
      "= # non-trainable params: 0\n",
      "Epoch 1/5\n",
      "14/14 [==============================] - 1s 47ms/step - loss: 0.3301 - accuracy: 0.8915 - batch_metric-mean_IoU: 0.4319 - batch_metric-DSC: 0.4353 - val_loss: 0.2725 - val_accuracy: 0.9615 - val_batch_metric-mean_IoU: 0.3333 - val_batch_metric-DSC: 0.3349 - lr: 0.0010\n",
      "Epoch 2/5\n",
      "14/14 [==============================] - 0s 12ms/step - loss: 0.1899 - accuracy: 0.9567 - batch_metric-mean_IoU: 0.5714 - batch_metric-DSC: 0.5720 - val_loss: 0.1198 - val_accuracy: 0.9615 - val_batch_metric-mean_IoU: 0.3333 - val_batch_metric-DSC: 0.3349 - lr: 0.0010\n",
      "Epoch 3/5\n",
      "14/14 [==============================] - 0s 12ms/step - loss: 0.1398 - accuracy: 0.9567 - batch_metric-mean_IoU: 0.3571 - batch_metric-DSC: 0.3583 - val_loss: 0.0988 - val_accuracy: 0.9615 - val_batch_metric-mean_IoU: 0.3333 - val_batch_metric-DSC: 0.3349 - lr: 0.0010\n",
      "Epoch 4/5\n",
      "14/14 [==============================] - 0s 12ms/step - loss: 0.1141 - accuracy: 0.9567 - batch_metric-mean_IoU: 0.6429 - batch_metric-DSC: 0.6459 - val_loss: 0.1105 - val_accuracy: 0.9615 - val_batch_metric-mean_IoU: 0.3333 - val_batch_metric-DSC: 0.3349 - lr: 0.0010\n",
      "Epoch 5/5\n",
      "14/14 [==============================] - 0s 12ms/step - loss: 0.1160 - accuracy: 0.9567 - batch_metric-mean_IoU: 0.5000 - batch_metric-DSC: 0.5033 - val_loss: 0.0887 - val_accuracy: 0.9615 - val_batch_metric-mean_IoU: 0.3333 - val_batch_metric-DSC: 0.3349 - lr: 0.0010\n",
      "7/7 [==============================] - 0s 3ms/step\n",
      "=== evaluation stats\n",
      "= metrics on test set (size: 28)\n",
      "= batch_metric-mean_IoU ~ mean 0.393 median 0.000 std 0.488\n",
      "= batch_metric-mean_DSC ~ mean 0.396 median 0.004 std 0.486\n",
      "=== experiment #5 / 8: with_same_se\n",
      "= dataset training: X ~ (54, 120, 120, 1), y ~ (54, 120, 120, 3)\n",
      "= dataset validation: X ~ (10, 120, 120, 1), y ~ (10, 120, 120, 3)\n",
      "= dataset test: X ~ (28, 120, 120, 1), y ~ (28, 120, 120, 3)\n",
      "=== model\n",
      "= # layers: 53\n",
      "= # total params: 1897987\n",
      "= # trainable params: 1897987\n",
      "= # non-trainable params: 0\n",
      "Epoch 1/5\n",
      "14/14 [==============================] - 1s 62ms/step - loss: 0.3998 - accuracy: 0.8882 - batch_metric-mean_IoU: 0.0147 - batch_metric-DSC: 0.0290 - val_loss: 0.1337 - val_accuracy: 0.9598 - val_batch_metric-mean_IoU: 0.0142 - val_batch_metric-DSC: 0.0290 - lr: 0.0010\n",
      "Epoch 2/5\n",
      "14/14 [==============================] - 0s 20ms/step - loss: 0.1217 - accuracy: 0.9578 - batch_metric-mean_IoU: 0.0276 - batch_metric-DSC: 0.0581 - val_loss: 0.0808 - val_accuracy: 0.9598 - val_batch_metric-mean_IoU: 0.1675 - val_batch_metric-DSC: 0.2424 - lr: 0.0010\n",
      "Epoch 3/5\n",
      "14/14 [==============================] - 0s 20ms/step - loss: 0.0747 - accuracy: 0.9578 - batch_metric-mean_IoU: 0.2058 - batch_metric-DSC: 0.2833 - val_loss: 0.0520 - val_accuracy: 0.9598 - val_batch_metric-mean_IoU: 0.5473 - val_batch_metric-DSC: 0.5178 - lr: 0.0010\n",
      "Epoch 4/5\n",
      "14/14 [==============================] - 0s 19ms/step - loss: 0.0383 - accuracy: 0.9665 - batch_metric-mean_IoU: 0.7183 - batch_metric-DSC: 0.6068 - val_loss: 0.0274 - val_accuracy: 0.9903 - val_batch_metric-mean_IoU: 0.7687 - val_batch_metric-DSC: 0.6047 - lr: 0.0010\n",
      "Epoch 5/5\n",
      "14/14 [==============================] - 0s 19ms/step - loss: 0.0219 - accuracy: 0.9912 - batch_metric-mean_IoU: 0.8762 - batch_metric-DSC: 0.7286 - val_loss: 0.0183 - val_accuracy: 0.9896 - val_batch_metric-mean_IoU: 0.8014 - val_batch_metric-DSC: 0.6160 - lr: 0.0010\n",
      "7/7 [==============================] - 0s 4ms/step\n",
      "=== evaluation stats\n",
      "= metrics on test set (size: 28)\n",
      "= batch_metric-mean_IoU ~ mean 0.774 median 0.818 std 0.233\n",
      "= batch_metric-mean_DSC ~ mean 0.638 median 0.621 std 0.156\n",
      "=== experiment #6 / 8: without_same_se\n",
      "= dataset training: X ~ (54, 120, 120, 1), y ~ (54, 120, 120, 3)\n",
      "= dataset validation: X ~ (10, 120, 120, 1), y ~ (10, 120, 120, 3)\n",
      "= dataset test: X ~ (28, 120, 120, 1), y ~ (28, 120, 120, 3)\n",
      "=== model\n",
      "= # layers: 49\n",
      "= # total params: 1713667\n",
      "= # trainable params: 1713667\n",
      "= # non-trainable params: 0\n",
      "Epoch 1/5\n"
     ]
    },
    {
     "name": "stdout",
     "output_type": "stream",
     "text": [
      "14/14 [==============================] - 1s 59ms/step - loss: 0.4577 - accuracy: 0.8859 - batch_metric-mean_IoU: 0.0155 - batch_metric-DSC: 0.0624 - val_loss: 0.1972 - val_accuracy: 0.9598 - val_batch_metric-mean_IoU: 0.0040 - val_batch_metric-DSC: 0.0089 - lr: 0.0010\n",
      "Epoch 2/5\n",
      "14/14 [==============================] - 0s 18ms/step - loss: 0.1512 - accuracy: 0.9578 - batch_metric-mean_IoU: 0.0293 - batch_metric-DSC: 0.0546 - val_loss: 0.1043 - val_accuracy: 0.9598 - val_batch_metric-mean_IoU: 0.0657 - val_batch_metric-DSC: 0.1129 - lr: 0.0010\n",
      "Epoch 3/5\n",
      "14/14 [==============================] - 0s 19ms/step - loss: 0.0864 - accuracy: 0.9578 - batch_metric-mean_IoU: 0.1271 - batch_metric-DSC: 0.1722 - val_loss: 0.0771 - val_accuracy: 0.9598 - val_batch_metric-mean_IoU: 0.1651 - val_batch_metric-DSC: 0.2451 - lr: 0.0010\n",
      "Epoch 4/5\n",
      "14/14 [==============================] - 0s 19ms/step - loss: 0.0744 - accuracy: 0.9578 - batch_metric-mean_IoU: 0.1550 - batch_metric-DSC: 0.2256 - val_loss: 0.0744 - val_accuracy: 0.9598 - val_batch_metric-mean_IoU: 0.1385 - val_batch_metric-DSC: 0.2041 - lr: 0.0010\n",
      "Epoch 5/5\n",
      "14/14 [==============================] - 0s 18ms/step - loss: 0.0661 - accuracy: 0.9578 - batch_metric-mean_IoU: 0.1487 - batch_metric-DSC: 0.2413 - val_loss: 0.0446 - val_accuracy: 0.9601 - val_batch_metric-mean_IoU: 0.7868 - val_batch_metric-DSC: 0.6115 - lr: 0.0010\n",
      "7/7 [==============================] - 0s 4ms/step\n",
      "=== evaluation stats\n",
      "= metrics on test set (size: 28)\n",
      "= batch_metric-mean_IoU ~ mean 0.641 median 0.759 std 0.282\n",
      "= batch_metric-mean_DSC ~ mean 0.549 median 0.603 std 0.128\n",
      "=== experiment #7 / 8: with_valid_se\n",
      "= dataset training: X ~ (54, 120, 120, 1), y ~ (54, 76, 76, 3)\n",
      "= dataset validation: X ~ (10, 120, 120, 1), y ~ (10, 76, 76, 3)\n",
      "= dataset test: X ~ (28, 120, 120, 1), y ~ (28, 76, 76, 3)\n",
      "=== model\n",
      "= # layers: 54\n",
      "= # total params: 1897987\n",
      "= # trainable params: 1897987\n",
      "= # non-trainable params: 0\n",
      "Epoch 1/5\n",
      "14/14 [==============================] - 1s 56ms/step - loss: 0.3854 - accuracy: 0.8925 - batch_metric-mean_IoU: 0.2960 - batch_metric-DSC: 0.3045 - val_loss: 0.1773 - val_accuracy: 0.9615 - val_batch_metric-mean_IoU: 0.3333 - val_batch_metric-DSC: 0.3349 - lr: 0.0010\n",
      "Epoch 2/5\n",
      "14/14 [==============================] - 0s 16ms/step - loss: 0.1526 - accuracy: 0.9567 - batch_metric-mean_IoU: 0.5714 - batch_metric-DSC: 0.5745 - val_loss: 0.0952 - val_accuracy: 0.9615 - val_batch_metric-mean_IoU: 0.3333 - val_batch_metric-DSC: 0.3349 - lr: 0.0010\n",
      "Epoch 3/5\n",
      "14/14 [==============================] - 0s 16ms/step - loss: 0.0999 - accuracy: 0.9567 - batch_metric-mean_IoU: 0.5752 - batch_metric-DSC: 0.5815 - val_loss: 0.1103 - val_accuracy: 0.9615 - val_batch_metric-mean_IoU: 0.3333 - val_batch_metric-DSC: 0.3349 - lr: 0.0010\n",
      "Epoch 4/5\n",
      "14/14 [==============================] - 0s 16ms/step - loss: 0.0654 - accuracy: 0.9567 - batch_metric-mean_IoU: 0.6559 - batch_metric-DSC: 0.6795 - val_loss: 0.0548 - val_accuracy: 0.9615 - val_batch_metric-mean_IoU: 0.4876 - val_batch_metric-DSC: 0.5067 - lr: 0.0010\n",
      "Epoch 5/5\n",
      "14/14 [==============================] - 0s 16ms/step - loss: 0.0498 - accuracy: 0.9608 - batch_metric-mean_IoU: 0.8018 - batch_metric-DSC: 0.7931 - val_loss: 0.0378 - val_accuracy: 0.9812 - val_batch_metric-mean_IoU: 0.7653 - val_batch_metric-DSC: 0.7052 - lr: 0.0010\n",
      "7/7 [==============================] - 0s 3ms/step\n",
      "=== evaluation stats\n",
      "= metrics on test set (size: 28)\n",
      "= batch_metric-mean_IoU ~ mean 0.805 median 0.795 std 0.192\n",
      "= batch_metric-mean_DSC ~ mean 0.738 median 0.614 std 0.215\n",
      "=== experiment #8 / 8: without_valid_se\n",
      "= dataset training: X ~ (54, 120, 120, 1), y ~ (54, 76, 76, 3)\n",
      "= dataset validation: X ~ (10, 120, 120, 1), y ~ (10, 76, 76, 3)\n",
      "= dataset test: X ~ (28, 120, 120, 1), y ~ (28, 76, 76, 3)\n",
      "=== model\n",
      "= # layers: 50\n",
      "= # total params: 1713667\n",
      "= # trainable params: 1713667\n",
      "= # non-trainable params: 0\n",
      "Epoch 1/5\n",
      "14/14 [==============================] - 1s 52ms/step - loss: 0.4992 - accuracy: 0.8896 - batch_metric-mean_IoU: 0.4448 - batch_metric-DSC: 0.4555 - val_loss: 0.1827 - val_accuracy: 0.9615 - val_batch_metric-mean_IoU: 0.3333 - val_batch_metric-DSC: 0.3349 - lr: 0.0010\n",
      "Epoch 2/5\n",
      "14/14 [==============================] - 0s 16ms/step - loss: 0.1519 - accuracy: 0.9567 - batch_metric-mean_IoU: 0.7143 - batch_metric-DSC: 0.7149 - val_loss: 0.1050 - val_accuracy: 0.9615 - val_batch_metric-mean_IoU: 0.3333 - val_batch_metric-DSC: 0.3349 - lr: 0.0010\n",
      "Epoch 3/5\n",
      "14/14 [==============================] - 0s 16ms/step - loss: 0.1249 - accuracy: 0.9567 - batch_metric-mean_IoU: 0.4286 - batch_metric-DSC: 0.4308 - val_loss: 0.1050 - val_accuracy: 0.9615 - val_batch_metric-mean_IoU: 0.3333 - val_batch_metric-DSC: 0.3349 - lr: 0.0010\n",
      "Epoch 4/5\n",
      "14/14 [==============================] - 0s 17ms/step - loss: 0.0924 - accuracy: 0.9567 - batch_metric-mean_IoU: 0.5992 - batch_metric-DSC: 0.6115 - val_loss: 0.0681 - val_accuracy: 0.9615 - val_batch_metric-mean_IoU: 0.4991 - val_batch_metric-DSC: 0.5479 - lr: 0.0010\n",
      "Epoch 5/5\n",
      "14/14 [==============================] - 0s 15ms/step - loss: 0.0718 - accuracy: 0.9567 - batch_metric-mean_IoU: 0.6682 - batch_metric-DSC: 0.6758 - val_loss: 0.0584 - val_accuracy: 0.9615 - val_batch_metric-mean_IoU: 0.4035 - val_batch_metric-DSC: 0.4497 - lr: 0.0010\n",
      "7/7 [==============================] - 0s 3ms/step\n",
      "=== evaluation stats\n",
      "= metrics on test set (size: 28)\n",
      "= batch_metric-mean_IoU ~ mean 0.437 median 0.156 std 0.456\n",
      "= batch_metric-mean_DSC ~ mean 0.466 median 0.239 std 0.435\n"
     ]
    },
    {
     "ename": "KeyError",
     "evalue": "'batch_metric-mean_DSC'",
     "output_type": "error",
     "traceback": [
      "\u001b[0;31m---------------------------------------------------------------------------\u001b[0m",
      "\u001b[0;31mKeyError\u001b[0m                                  Traceback (most recent call last)",
      "\u001b[0;32m<ipython-input-8-c870c2ae80b6>\u001b[0m in \u001b[0;36m<module>\u001b[0;34m\u001b[0m\n\u001b[0;32m----> 1\u001b[0;31m \u001b[0mdo_batch_experiments\u001b[0m\u001b[0;34m(\u001b[0m\u001b[0mexperiments\u001b[0m\u001b[0;34m,\u001b[0m \u001b[0;34m(\u001b[0m\u001b[0mX\u001b[0m\u001b[0;34m,\u001b[0m \u001b[0my\u001b[0m\u001b[0;34m)\u001b[0m\u001b[0;34m,\u001b[0m \u001b[0mconfig\u001b[0m\u001b[0;34m,\u001b[0m \u001b[0mout_path\u001b[0m\u001b[0;34m)\u001b[0m\u001b[0;34m\u001b[0m\u001b[0;34m\u001b[0m\u001b[0m\n\u001b[0m",
      "\u001b[0;32m/home/h4/stfo194b/scratch/attila/attila/experiments/do.py\u001b[0m in \u001b[0;36mdo_batch_experiments\u001b[0;34m(experiments, data, config, out_folder)\u001b[0m\n\u001b[1;32m    217\u001b[0m             \u001b[0mdata\u001b[0m\u001b[0;34m,\u001b[0m\u001b[0;34m\u001b[0m\u001b[0;34m\u001b[0m\u001b[0m\n\u001b[1;32m    218\u001b[0m             \u001b[0mconfig\u001b[0m\u001b[0;34m,\u001b[0m\u001b[0;34m\u001b[0m\u001b[0;34m\u001b[0m\u001b[0m\n\u001b[0;32m--> 219\u001b[0;31m             \u001b[0mfolder\u001b[0m\u001b[0;34m\u001b[0m\u001b[0;34m\u001b[0m\u001b[0m\n\u001b[0m\u001b[1;32m    220\u001b[0m         )\n\u001b[1;32m    221\u001b[0m         \u001b[0mout_f\u001b[0m \u001b[0;34m=\u001b[0m \u001b[0mfolder\u001b[0m \u001b[0;34m/\u001b[0m \u001b[0mconfig\u001b[0m\u001b[0;34m.\u001b[0m\u001b[0mget\u001b[0m\u001b[0;34m(\u001b[0m\u001b[0;34m'experiments'\u001b[0m\u001b[0;34m,\u001b[0m \u001b[0;34m'output file'\u001b[0m\u001b[0;34m)\u001b[0m\u001b[0;34m\u001b[0m\u001b[0;34m\u001b[0m\u001b[0m\n",
      "\u001b[0;32m/home/h4/stfo194b/scratch/attila/attila/experiments/do.py\u001b[0m in \u001b[0;36mdo_experiments\u001b[0;34m(experiments, data, config, out_folder)\u001b[0m\n\u001b[1;32m    169\u001b[0m \u001b[0;34m\u001b[0m\u001b[0m\n\u001b[1;32m    170\u001b[0m     \u001b[0mlast_epochs\u001b[0m \u001b[0;34m=\u001b[0m \u001b[0mint\u001b[0m\u001b[0;34m(\u001b[0m\u001b[0mconfig\u001b[0m\u001b[0;34m.\u001b[0m\u001b[0mgetint\u001b[0m\u001b[0;34m(\u001b[0m\u001b[0;34m'training'\u001b[0m\u001b[0;34m,\u001b[0m \u001b[0;34m'epochs'\u001b[0m\u001b[0;34m)\u001b[0m \u001b[0;34m*\u001b[0m \u001b[0;36m0.8\u001b[0m\u001b[0;34m)\u001b[0m\u001b[0;34m\u001b[0m\u001b[0;34m\u001b[0m\u001b[0m\n\u001b[0;32m--> 171\u001b[0;31m     \u001b[0mplot_history\u001b[0m\u001b[0;34m(\u001b[0m\u001b[0mexperiments\u001b[0m\u001b[0;34m,\u001b[0m \u001b[0mlast\u001b[0m\u001b[0;34m=\u001b[0m\u001b[0mlast_epochs\u001b[0m\u001b[0;34m,\u001b[0m \u001b[0mout_folder\u001b[0m\u001b[0;34m=\u001b[0m\u001b[0mout_folder\u001b[0m\u001b[0;34m)\u001b[0m\u001b[0;34m\u001b[0m\u001b[0;34m\u001b[0m\u001b[0m\n\u001b[0m\u001b[1;32m    172\u001b[0m \u001b[0;34m\u001b[0m\u001b[0m\n\u001b[1;32m    173\u001b[0m     \u001b[0;32mreturn\u001b[0m \u001b[0mexperiments\u001b[0m\u001b[0;34m\u001b[0m\u001b[0;34m\u001b[0m\u001b[0m\n",
      "\u001b[0;32m/home/h4/stfo194b/scratch/attila/attila/util/plots.py\u001b[0m in \u001b[0;36mplot_history\u001b[0;34m(experiments, last, out_folder)\u001b[0m\n\u001b[1;32m     96\u001b[0m         }\n\u001b[1;32m     97\u001b[0m \u001b[0;34m\u001b[0m\u001b[0m\n\u001b[0;32m---> 98\u001b[0;31m         \u001b[0m_plot_results\u001b[0m\u001b[0;34m(\u001b[0m\u001b[0mresults\u001b[0m\u001b[0;34m,\u001b[0m \u001b[0ma\u001b[0m\u001b[0;34m,\u001b[0m \u001b[0mexperiment\u001b[0m\u001b[0;34m[\u001b[0m\u001b[0;34m'name'\u001b[0m\u001b[0;34m]\u001b[0m\u001b[0;34m)\u001b[0m\u001b[0;34m\u001b[0m\u001b[0;34m\u001b[0m\u001b[0m\n\u001b[0m\u001b[1;32m     99\u001b[0m \u001b[0;34m\u001b[0m\u001b[0m\n\u001b[1;32m    100\u001b[0m     \u001b[0;32mif\u001b[0m \u001b[0mout_folder\u001b[0m\u001b[0;34m:\u001b[0m\u001b[0;34m\u001b[0m\u001b[0;34m\u001b[0m\u001b[0m\n",
      "\u001b[0;32m/home/h4/stfo194b/scratch/attila/attila/util/plots.py\u001b[0m in \u001b[0;36m_plot_results\u001b[0;34m(results, ax, title)\u001b[0m\n\u001b[1;32m     83\u001b[0m \u001b[0;34m\u001b[0m\u001b[0m\n\u001b[1;32m     84\u001b[0m         \u001b[0m_plot_key\u001b[0m\u001b[0;34m(\u001b[0m\u001b[0max\u001b[0m\u001b[0;34m,\u001b[0m \u001b[0;34m'batch_metric-mean_IoU'\u001b[0m\u001b[0;34m,\u001b[0m \u001b[0mresults\u001b[0m\u001b[0;34m,\u001b[0m \u001b[0;34m'C0'\u001b[0m\u001b[0;34m,\u001b[0m \u001b[0mscale\u001b[0m\u001b[0;34m=\u001b[0m\u001b[0;34m[\u001b[0m\u001b[0;36m0.5\u001b[0m\u001b[0;34m,\u001b[0m \u001b[0;36m1\u001b[0m\u001b[0;34m]\u001b[0m\u001b[0;34m,\u001b[0m \u001b[0mfind_max\u001b[0m\u001b[0;34m=\u001b[0m\u001b[0;32mTrue\u001b[0m\u001b[0;34m)\u001b[0m\u001b[0;34m\u001b[0m\u001b[0;34m\u001b[0m\u001b[0m\n\u001b[0;32m---> 85\u001b[0;31m         \u001b[0m_plot_key\u001b[0m\u001b[0;34m(\u001b[0m\u001b[0max\u001b[0m\u001b[0;34m,\u001b[0m \u001b[0;34m'batch_metric-mean_DSC'\u001b[0m\u001b[0;34m,\u001b[0m \u001b[0mresults\u001b[0m\u001b[0;34m,\u001b[0m \u001b[0;34m'C2'\u001b[0m\u001b[0;34m,\u001b[0m \u001b[0mscale\u001b[0m\u001b[0;34m=\u001b[0m\u001b[0;34m[\u001b[0m\u001b[0;36m0.5\u001b[0m\u001b[0;34m,\u001b[0m \u001b[0;36m1\u001b[0m\u001b[0;34m]\u001b[0m\u001b[0;34m,\u001b[0m \u001b[0mfind_max\u001b[0m\u001b[0;34m=\u001b[0m\u001b[0;32mTrue\u001b[0m\u001b[0;34m)\u001b[0m\u001b[0;34m\u001b[0m\u001b[0;34m\u001b[0m\u001b[0m\n\u001b[0m\u001b[1;32m     86\u001b[0m \u001b[0;34m\u001b[0m\u001b[0m\n\u001b[1;32m     87\u001b[0m         \u001b[0;31m# ax.legend()\u001b[0m\u001b[0;34m\u001b[0m\u001b[0;34m\u001b[0m\u001b[0;34m\u001b[0m\u001b[0m\n",
      "\u001b[0;32m/home/h4/stfo194b/scratch/attila/attila/util/plots.py\u001b[0m in \u001b[0;36m_plot_key\u001b[0;34m(ax, key, results, color, scale, find_min, find_max)\u001b[0m\n\u001b[1;32m     61\u001b[0m \u001b[0;34m\u001b[0m\u001b[0m\n\u001b[1;32m     62\u001b[0m     \u001b[0;32mdef\u001b[0m \u001b[0m_plot_key\u001b[0m\u001b[0;34m(\u001b[0m\u001b[0max\u001b[0m\u001b[0;34m,\u001b[0m \u001b[0mkey\u001b[0m\u001b[0;34m,\u001b[0m \u001b[0mresults\u001b[0m\u001b[0;34m,\u001b[0m \u001b[0mcolor\u001b[0m\u001b[0;34m,\u001b[0m \u001b[0mscale\u001b[0m\u001b[0;34m=\u001b[0m\u001b[0;32mNone\u001b[0m\u001b[0;34m,\u001b[0m \u001b[0mfind_min\u001b[0m\u001b[0;34m=\u001b[0m\u001b[0;32mFalse\u001b[0m\u001b[0;34m,\u001b[0m \u001b[0mfind_max\u001b[0m\u001b[0;34m=\u001b[0m\u001b[0;32mFalse\u001b[0m\u001b[0;34m)\u001b[0m\u001b[0;34m:\u001b[0m\u001b[0;34m\u001b[0m\u001b[0;34m\u001b[0m\u001b[0m\n\u001b[0;32m---> 63\u001b[0;31m         \u001b[0mtraining\u001b[0m \u001b[0;34m=\u001b[0m \u001b[0mresults\u001b[0m\u001b[0;34m[\u001b[0m\u001b[0mkey\u001b[0m\u001b[0;34m]\u001b[0m\u001b[0;34m\u001b[0m\u001b[0;34m\u001b[0m\u001b[0m\n\u001b[0m\u001b[1;32m     64\u001b[0m         \u001b[0mvalidation\u001b[0m \u001b[0;34m=\u001b[0m \u001b[0mresults\u001b[0m\u001b[0;34m[\u001b[0m\u001b[0;34m'val_{}'\u001b[0m\u001b[0;34m.\u001b[0m\u001b[0mformat\u001b[0m\u001b[0;34m(\u001b[0m\u001b[0mkey\u001b[0m\u001b[0;34m)\u001b[0m\u001b[0;34m]\u001b[0m\u001b[0;34m\u001b[0m\u001b[0;34m\u001b[0m\u001b[0m\n\u001b[1;32m     65\u001b[0m \u001b[0;34m\u001b[0m\u001b[0m\n",
      "\u001b[0;31mKeyError\u001b[0m: 'batch_metric-mean_DSC'"
     ]
    },
    {
     "data": {
      "image/png": "[encoded data removed]",
      "text/plain": [
       "<Figure size 1440x1152 with 9 Axes>"
      ]
     },
     "metadata": {
      "needs_background": "light"
     },
     "output_type": "display_data"
    }
   ],
   "source": [
    "do_batch_experiments(experiments, (X, y), config, out_path)"
   ]
  },
  {
   "cell_type": "code",
   "execution_count": null,
   "metadata": {
    "scrolled": true
   },
   "outputs": [],
   "source": [
    "create_tex_experiments(config, out_path, out_path / 'tables.tex')"
   ]
  }
 ],
 "metadata": {
  "kernelspec": {
   "display_name": "attila",
   "language": "python",
   "name": "attila"
  },
  "language_info": {
   "codemirror_mode": {
    "name": "ipython",
    "version": 3
   },
   "file_extension": ".py",
   "mimetype": "text/x-python",
   "name": "python",
   "nbconvert_exporter": "python",
   "pygments_lexer": "ipython3",
   "version": "3.7.4"
  }
 },
 "nbformat": 4,
 "nbformat_minor": 4
}
