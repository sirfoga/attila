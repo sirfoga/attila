{
 "cells": [
  {
   "cell_type": "code",
   "execution_count": 1,
   "metadata": {},
   "outputs": [],
   "source": [
    "%load_ext autoreload\n",
    "%reload_ext autoreload\n",
    "%autoreload 2"
   ]
  },
  {
   "cell_type": "code",
   "execution_count": 2,
   "metadata": {},
   "outputs": [],
   "source": [
    "%matplotlib inline\n",
    "\n",
    "from pathlib import Path\n",
    "\n",
    "from attila.data.parse import parse_data, get_data\n",
    "from attila.util.config import get_config\n",
    "from attila.util.plots import plot_sample\n",
    "from attila.experiments.data import load_experiments\n",
    "from attila.experiments.do import do_batch_experiments\n",
    "from attila.experiments.tools import create_tex_experiments"
   ]
  },
  {
   "cell_type": "code",
   "execution_count": 3,
   "metadata": {},
   "outputs": [],
   "source": [
    "_here = Path('.').resolve()\n",
    "config = get_config(_here / 'config.ini')\n",
    "\n",
    "data_path = _here / config.get('data', 'folder')\n",
    "data_path = data_path.resolve()\n",
    "\n",
    "out_path = Path(config.get('experiments', 'output folder')).resolve()\n",
    "out_path.mkdir(parents=True, exist_ok=True)\n",
    "\n",
    "images_path = data_path / config.get('data', 'images')\n",
    "masks_path = data_path / config.get('data', 'masks')"
   ]
  },
  {
   "cell_type": "code",
   "execution_count": 4,
   "metadata": {},
   "outputs": [],
   "source": [
    "raw = get_data(images_path, masks_path)\n",
    "X, y = parse_data(\n",
    "    raw,\n",
    "    (config.getint('image', 'width'), config.getint('image', 'height'))\n",
    ")"
   ]
  },
  {
   "cell_type": "code",
   "execution_count": 5,
   "metadata": {},
   "outputs": [],
   "source": [
    "experiments_file = _here / 'experiments.json'\n",
    "experiments = load_experiments(experiments_file)"
   ]
  },
  {
   "cell_type": "code",
   "execution_count": 6,
   "metadata": {
    "scrolled": true
   },
   "outputs": [
    {
     "name": "stdout",
     "output_type": "stream",
     "text": [
      "testing data: X ~ (28, 480, 480, 1), y ~ (28, 480, 480, 2)\n",
      "ready to perform #1 / 1 batch of experiments\n",
      "ready to perform 8 experiments\n",
      "=== experiment #1 / 8: with_same\n",
      "= dataset training: X ~ (54, 480, 480, 1), y ~ (54, 480, 480, 2)\n",
      "= dataset validation: X ~ (10, 480, 480, 1), y ~ (10, 480, 480, 2)\n",
      "= dataset test: X ~ (28, 480, 480, 1), y ~ (28, 480, 480, 2)\n",
      "=== model\n",
      "= # layers: 54\n",
      "= # total params: 31389634\n",
      "= # trainable params: 31383746\n",
      "= # non-trainable params: 5888\n",
      "Epoch 1/15\n",
      "14/14 [==============================] - ETA: 0s - loss: 0.5113 - accuracy: 0.0853 - batch_metric-mean_IoU: 0.6503 - batch_metric-DSC: 0.7811\n",
      "Epoch 00001: loss improved from inf to 0.51131, saving model to /home/h4/stfo194b/scratch/attila/out/run-0/with_same/model.h5\n",
      "14/14 [==============================] - 8s 598ms/step - loss: 0.5113 - accuracy: 0.0853 - batch_metric-mean_IoU: 0.6503 - batch_metric-DSC: 0.7811 - val_loss: 6.2237 - val_accuracy: 0.0099 - val_batch_metric-mean_IoU: 0.6179 - val_batch_metric-DSC: 0.7530 - lr: 0.0010\n",
      "Epoch 2/15\n",
      "14/14 [==============================] - ETA: 0s - loss: 0.2430 - accuracy: 0.0690 - batch_metric-mean_IoU: 0.6503 - batch_metric-DSC: 0.7811\n",
      "Epoch 00002: loss improved from 0.51131 to 0.24298, saving model to /home/h4/stfo194b/scratch/attila/out/run-0/with_same/model.h5\n",
      "14/14 [==============================] - 5s 353ms/step - loss: 0.2430 - accuracy: 0.0690 - batch_metric-mean_IoU: 0.6503 - batch_metric-DSC: 0.7811 - val_loss: 0.6625 - val_accuracy: 0.9888 - val_batch_metric-mean_IoU: 0.6067 - val_batch_metric-DSC: 0.7461 - lr: 0.0010\n",
      "Epoch 3/15\n",
      "14/14 [==============================] - ETA: 0s - loss: 0.1754 - accuracy: 0.0570 - batch_metric-mean_IoU: 0.6503 - batch_metric-DSC: 0.7811\n",
      "Epoch 00003: loss improved from 0.24298 to 0.17542, saving model to /home/h4/stfo194b/scratch/attila/out/run-0/with_same/model.h5\n",
      "14/14 [==============================] - 5s 354ms/step - loss: 0.1754 - accuracy: 0.0570 - batch_metric-mean_IoU: 0.6503 - batch_metric-DSC: 0.7811 - val_loss: 0.3855 - val_accuracy: 0.8458 - val_batch_metric-mean_IoU: 0.6179 - val_batch_metric-DSC: 0.7530 - lr: 0.0010\n",
      "Epoch 4/15\n",
      "14/14 [==============================] - ETA: 0s - loss: 0.1346 - accuracy: 0.0682 - batch_metric-mean_IoU: 0.6503 - batch_metric-DSC: 0.7811\n",
      "Epoch 00004: loss improved from 0.17542 to 0.13460, saving model to /home/h4/stfo194b/scratch/attila/out/run-0/with_same/model.h5\n",
      "14/14 [==============================] - 5s 351ms/step - loss: 0.1346 - accuracy: 0.0682 - batch_metric-mean_IoU: 0.6503 - batch_metric-DSC: 0.7811 - val_loss: 0.3537 - val_accuracy: 0.5447 - val_batch_metric-mean_IoU: 0.6179 - val_batch_metric-DSC: 0.7530 - lr: 0.0010\n",
      "Epoch 5/15\n",
      "14/14 [==============================] - ETA: 0s - loss: 0.1059 - accuracy: 0.0773 - batch_metric-mean_IoU: 0.6503 - batch_metric-DSC: 0.7811\n",
      "Epoch 00005: loss improved from 0.13460 to 0.10591, saving model to /home/h4/stfo194b/scratch/attila/out/run-0/with_same/model.h5\n",
      "14/14 [==============================] - 5s 356ms/step - loss: 0.1059 - accuracy: 0.0773 - batch_metric-mean_IoU: 0.6503 - batch_metric-DSC: 0.7811 - val_loss: 0.2299 - val_accuracy: 0.4580 - val_batch_metric-mean_IoU: 0.6179 - val_batch_metric-DSC: 0.7530 - lr: 0.0010\n",
      "Epoch 6/15\n",
      "14/14 [==============================] - ETA: 0s - loss: 0.0850 - accuracy: 0.0780 - batch_metric-mean_IoU: 0.6503 - batch_metric-DSC: 0.7811\n",
      "Epoch 00006: loss improved from 0.10591 to 0.08499, saving model to /home/h4/stfo194b/scratch/attila/out/run-0/with_same/model.h5\n",
      "14/14 [==============================] - 5s 352ms/step - loss: 0.0850 - accuracy: 0.0780 - batch_metric-mean_IoU: 0.6503 - batch_metric-DSC: 0.7811 - val_loss: 0.2262 - val_accuracy: 0.2455 - val_batch_metric-mean_IoU: 0.6179 - val_batch_metric-DSC: 0.7530 - lr: 0.0010\n",
      "Epoch 7/15\n",
      "14/14 [==============================] - ETA: 0s - loss: 0.0714 - accuracy: 0.0851 - batch_metric-mean_IoU: 0.6503 - batch_metric-DSC: 0.7811\n",
      "Epoch 00007: loss improved from 0.08499 to 0.07137, saving model to /home/h4/stfo194b/scratch/attila/out/run-0/with_same/model.h5\n",
      "14/14 [==============================] - 5s 352ms/step - loss: 0.0714 - accuracy: 0.0851 - batch_metric-mean_IoU: 0.6503 - batch_metric-DSC: 0.7811 - val_loss: 0.1752 - val_accuracy: 0.1413 - val_batch_metric-mean_IoU: 0.6179 - val_batch_metric-DSC: 0.7530 - lr: 0.0010\n",
      "Epoch 8/15\n",
      "14/14 [==============================] - ETA: 0s - loss: 0.0593 - accuracy: 0.0962 - batch_metric-mean_IoU: 0.6503 - batch_metric-DSC: 0.7811\n",
      "Epoch 00008: loss improved from 0.07137 to 0.05927, saving model to /home/h4/stfo194b/scratch/attila/out/run-0/with_same/model.h5\n",
      "14/14 [==============================] - 5s 352ms/step - loss: 0.0593 - accuracy: 0.0962 - batch_metric-mean_IoU: 0.6503 - batch_metric-DSC: 0.7811 - val_loss: 0.1388 - val_accuracy: 0.1055 - val_batch_metric-mean_IoU: 0.6179 - val_batch_metric-DSC: 0.7530 - lr: 0.0010\n",
      "Epoch 9/15\n",
      "14/14 [==============================] - ETA: 0s - loss: 0.0503 - accuracy: 0.0763 - batch_metric-mean_IoU: 0.6503 - batch_metric-DSC: 0.7811\n",
      "Epoch 00009: loss improved from 0.05927 to 0.05034, saving model to /home/h4/stfo194b/scratch/attila/out/run-0/with_same/model.h5\n",
      "14/14 [==============================] - 5s 352ms/step - loss: 0.0503 - accuracy: 0.0763 - batch_metric-mean_IoU: 0.6503 - batch_metric-DSC: 0.7811 - val_loss: 0.1006 - val_accuracy: 0.1247 - val_batch_metric-mean_IoU: 0.6179 - val_batch_metric-DSC: 0.7530 - lr: 0.0010\n",
      "Epoch 10/15\n",
      "14/14 [==============================] - ETA: 0s - loss: 0.0433 - accuracy: 0.0868 - batch_metric-mean_IoU: 0.6503 - batch_metric-DSC: 0.7811\n",
      "Epoch 00010: loss improved from 0.05034 to 0.04329, saving model to /home/h4/stfo194b/scratch/attila/out/run-0/with_same/model.h5\n",
      "14/14 [==============================] - 5s 351ms/step - loss: 0.0433 - accuracy: 0.0868 - batch_metric-mean_IoU: 0.6503 - batch_metric-DSC: 0.7811 - val_loss: 0.1036 - val_accuracy: 0.1685 - val_batch_metric-mean_IoU: 0.6179 - val_batch_metric-DSC: 0.7530 - lr: 0.0010\n",
      "Epoch 11/15\n",
      "14/14 [==============================] - ETA: 0s - loss: 0.0386 - accuracy: 0.0735 - batch_metric-mean_IoU: 0.6503 - batch_metric-DSC: 0.7811\n",
      "Epoch 00011: loss improved from 0.04329 to 0.03857, saving model to /home/h4/stfo194b/scratch/attila/out/run-0/with_same/model.h5\n",
      "14/14 [==============================] - 5s 352ms/step - loss: 0.0386 - accuracy: 0.0735 - batch_metric-mean_IoU: 0.6503 - batch_metric-DSC: 0.7811 - val_loss: 0.1082 - val_accuracy: 0.1447 - val_batch_metric-mean_IoU: 0.6179 - val_batch_metric-DSC: 0.7530 - lr: 0.0010\n",
      "Epoch 12/15\n",
      "14/14 [==============================] - ETA: 0s - loss: 0.0343 - accuracy: 0.0791 - batch_metric-mean_IoU: 0.6503 - batch_metric-DSC: 0.7811\n",
      "Epoch 00012: ReduceLROnPlateau reducing learning rate to 0.00010000000474974513.\n",
      "\n",
      "Epoch 00012: loss improved from 0.03857 to 0.03429, saving model to /home/h4/stfo194b/scratch/attila/out/run-0/with_same/model.h5\n",
      "14/14 [==============================] - 5s 351ms/step - loss: 0.0343 - accuracy: 0.0791 - batch_metric-mean_IoU: 0.6503 - batch_metric-DSC: 0.7811 - val_loss: 0.1147 - val_accuracy: 0.1962 - val_batch_metric-mean_IoU: 0.6179 - val_batch_metric-DSC: 0.7530 - lr: 0.0010\n",
      "Epoch 13/15\n",
      "14/14 [==============================] - ETA: 0s - loss: 0.0320 - accuracy: 0.0729 - batch_metric-mean_IoU: 0.6503 - batch_metric-DSC: 0.7811\n",
      "Epoch 00013: loss improved from 0.03429 to 0.03197, saving model to /home/h4/stfo194b/scratch/attila/out/run-0/with_same/model.h5\n",
      "14/14 [==============================] - 5s 353ms/step - loss: 0.0320 - accuracy: 0.0729 - batch_metric-mean_IoU: 0.6503 - batch_metric-DSC: 0.7811 - val_loss: 0.1409 - val_accuracy: 0.9048 - val_batch_metric-mean_IoU: 0.6179 - val_batch_metric-DSC: 0.7530 - lr: 1.0000e-04\n",
      "Epoch 14/15\n",
      "14/14 [==============================] - ETA: 0s - loss: 0.0309 - accuracy: 0.0697 - batch_metric-mean_IoU: 0.6503 - batch_metric-DSC: 0.7811\n",
      "Epoch 00014: loss improved from 0.03197 to 0.03093, saving model to /home/h4/stfo194b/scratch/attila/out/run-0/with_same/model.h5\n",
      "14/14 [==============================] - 5s 351ms/step - loss: 0.0309 - accuracy: 0.0697 - batch_metric-mean_IoU: 0.6503 - batch_metric-DSC: 0.7811 - val_loss: 0.1911 - val_accuracy: 0.9758 - val_batch_metric-mean_IoU: 0.6179 - val_batch_metric-DSC: 0.7530 - lr: 1.0000e-04\n"
     ]
    },
    {
     "name": "stdout",
     "output_type": "stream",
     "text": [
      "Epoch 15/15\n",
      "14/14 [==============================] - ETA: 0s - loss: 0.0306 - accuracy: 0.0738 - batch_metric-mean_IoU: 0.6503 - batch_metric-DSC: 0.7811\n",
      "Epoch 00015: ReduceLROnPlateau reducing learning rate to 1.0000000474974514e-05.\n",
      "\n",
      "Epoch 00015: loss improved from 0.03093 to 0.03065, saving model to /home/h4/stfo194b/scratch/attila/out/run-0/with_same/model.h5\n",
      "14/14 [==============================] - 5s 360ms/step - loss: 0.0306 - accuracy: 0.0738 - batch_metric-mean_IoU: 0.6503 - batch_metric-DSC: 0.7811 - val_loss: 0.2710 - val_accuracy: 0.9887 - val_batch_metric-mean_IoU: 0.6179 - val_batch_metric-DSC: 0.7530 - lr: 1.0000e-04\n",
      "7/7 [==============================] - 1s 79ms/step\n",
      "=== evaluation stats\n",
      "= metrics on test set (size: 28)\n",
      "= batch_metric-mean_IoU ~ mean 0.660 median 0.640 std 0.133\n",
      "= batch_metric-DSC ~ mean 0.788 median 0.780 std 0.096\n",
      "=== experiment #2 / 8: without_same\n",
      "= dataset training: X ~ (54, 480, 480, 1), y ~ (54, 480, 480, 2)\n",
      "= dataset validation: X ~ (10, 480, 480, 1), y ~ (10, 480, 480, 2)\n",
      "= dataset test: X ~ (28, 480, 480, 1), y ~ (28, 480, 480, 2)\n",
      "=== model\n",
      "= # layers: 46\n",
      "= # total params: 28256194\n",
      "= # trainable params: 28250306\n",
      "= # non-trainable params: 5888\n",
      "Epoch 1/15\n",
      "14/14 [==============================] - ETA: 0s - loss: 0.5212 - accuracy: 0.2399 - batch_metric-mean_IoU: 0.6503 - batch_metric-DSC: 0.7811\n",
      "Epoch 00001: loss improved from inf to 0.52125, saving model to /home/h4/stfo194b/scratch/attila/out/run-0/without_same/model.h5\n"
     ]
    },
    {
     "ename": "KeyboardInterrupt",
     "evalue": "",
     "output_type": "error",
     "traceback": [
      "\u001b[0;31m---------------------------------------------------------------------------\u001b[0m",
      "\u001b[0;31mKeyboardInterrupt\u001b[0m                         Traceback (most recent call last)",
      "\u001b[0;32m<ipython-input-6-c870c2ae80b6>\u001b[0m in \u001b[0;36m<module>\u001b[0;34m\u001b[0m\n\u001b[0;32m----> 1\u001b[0;31m \u001b[0mdo_batch_experiments\u001b[0m\u001b[0;34m(\u001b[0m\u001b[0mexperiments\u001b[0m\u001b[0;34m,\u001b[0m \u001b[0;34m(\u001b[0m\u001b[0mX\u001b[0m\u001b[0;34m,\u001b[0m \u001b[0my\u001b[0m\u001b[0;34m)\u001b[0m\u001b[0;34m,\u001b[0m \u001b[0mconfig\u001b[0m\u001b[0;34m,\u001b[0m \u001b[0mout_path\u001b[0m\u001b[0;34m)\u001b[0m\u001b[0;34m\u001b[0m\u001b[0;34m\u001b[0m\u001b[0m\n\u001b[0m",
      "\u001b[0;32m/home/h4/stfo194b/scratch/attila/attila/experiments/do.py\u001b[0m in \u001b[0;36mdo_batch_experiments\u001b[0;34m(experiments, data, config, out_folder)\u001b[0m\n\u001b[1;32m    240\u001b[0m             \u001b[0mconfig\u001b[0m\u001b[0;34m,\u001b[0m\u001b[0;34m\u001b[0m\u001b[0;34m\u001b[0m\u001b[0m\n\u001b[1;32m    241\u001b[0m             \u001b[0mfolder\u001b[0m\u001b[0;34m,\u001b[0m\u001b[0;34m\u001b[0m\u001b[0;34m\u001b[0m\u001b[0m\n\u001b[0;32m--> 242\u001b[0;31m             \u001b[0mplot_ids\u001b[0m\u001b[0;34m=\u001b[0m\u001b[0mplot_ids\u001b[0m\u001b[0;34m\u001b[0m\u001b[0;34m\u001b[0m\u001b[0m\n\u001b[0m\u001b[1;32m    243\u001b[0m         )\n\u001b[1;32m    244\u001b[0m         \u001b[0mout_f\u001b[0m \u001b[0;34m=\u001b[0m \u001b[0mfolder\u001b[0m \u001b[0;34m/\u001b[0m \u001b[0mconfig\u001b[0m\u001b[0;34m.\u001b[0m\u001b[0mget\u001b[0m\u001b[0;34m(\u001b[0m\u001b[0;34m'experiments'\u001b[0m\u001b[0;34m,\u001b[0m \u001b[0;34m'output file'\u001b[0m\u001b[0;34m)\u001b[0m\u001b[0;34m\u001b[0m\u001b[0;34m\u001b[0m\u001b[0m\n",
      "\u001b[0;32m/home/h4/stfo194b/scratch/attila/attila/experiments/do.py\u001b[0m in \u001b[0;36mdo_experiments\u001b[0;34m(experiments, data, config, out_folder, plot_ids)\u001b[0m\n\u001b[1;32m    185\u001b[0m             \u001b[0mprint\u001b[0m\u001b[0;34m(\u001b[0m\u001b[0;34m'=== experiment #{} / {}: {}'\u001b[0m\u001b[0;34m.\u001b[0m\u001b[0mformat\u001b[0m\u001b[0;34m(\u001b[0m\u001b[0mi\u001b[0m \u001b[0;34m+\u001b[0m \u001b[0;36m1\u001b[0m\u001b[0;34m,\u001b[0m \u001b[0mlen\u001b[0m\u001b[0;34m(\u001b[0m\u001b[0mexperiments\u001b[0m\u001b[0;34m)\u001b[0m\u001b[0;34m,\u001b[0m \u001b[0mexperiment\u001b[0m\u001b[0;34m[\u001b[0m\u001b[0;34m'name'\u001b[0m\u001b[0;34m]\u001b[0m\u001b[0;34m)\u001b[0m\u001b[0;34m)\u001b[0m\u001b[0;34m\u001b[0m\u001b[0;34m\u001b[0m\u001b[0m\n\u001b[1;32m    186\u001b[0m \u001b[0;34m\u001b[0m\u001b[0m\n\u001b[0;32m--> 187\u001b[0;31m         \u001b[0msummary\u001b[0m \u001b[0;34m=\u001b[0m \u001b[0mdo_experiment\u001b[0m\u001b[0;34m(\u001b[0m\u001b[0mexperiment\u001b[0m\u001b[0;34m,\u001b[0m \u001b[0mdata\u001b[0m\u001b[0;34m,\u001b[0m \u001b[0mconfig\u001b[0m\u001b[0;34m,\u001b[0m \u001b[0mout_folder\u001b[0m\u001b[0;34m,\u001b[0m \u001b[0mplot_ids\u001b[0m\u001b[0;34m)\u001b[0m\u001b[0;34m\u001b[0m\u001b[0;34m\u001b[0m\u001b[0m\n\u001b[0m\u001b[1;32m    188\u001b[0m         \u001b[0mexperiments\u001b[0m\u001b[0;34m[\u001b[0m\u001b[0mi\u001b[0m\u001b[0;34m]\u001b[0m\u001b[0;34m[\u001b[0m\u001b[0;34m'history'\u001b[0m\u001b[0;34m]\u001b[0m \u001b[0;34m=\u001b[0m \u001b[0msummary\u001b[0m\u001b[0;34m[\u001b[0m\u001b[0;34m'history'\u001b[0m\u001b[0;34m]\u001b[0m\u001b[0;34m\u001b[0m\u001b[0;34m\u001b[0m\u001b[0m\n\u001b[1;32m    189\u001b[0m         \u001b[0mexperiments\u001b[0m\u001b[0;34m[\u001b[0m\u001b[0mi\u001b[0m\u001b[0;34m]\u001b[0m\u001b[0;34m[\u001b[0m\u001b[0;34m'stats'\u001b[0m\u001b[0;34m]\u001b[0m \u001b[0;34m=\u001b[0m \u001b[0msummary\u001b[0m\u001b[0;34m[\u001b[0m\u001b[0;34m'stats'\u001b[0m\u001b[0;34m]\u001b[0m\u001b[0;34m\u001b[0m\u001b[0;34m\u001b[0m\u001b[0m\n",
      "\u001b[0;32m/home/h4/stfo194b/scratch/attila/attila/experiments/do.py\u001b[0m in \u001b[0;36mdo_experiment\u001b[0;34m(experiment, data, config, out_folder, plot_ids)\u001b[0m\n\u001b[1;32m    137\u001b[0m         \u001b[0mcompile_args\u001b[0m\u001b[0;34m,\u001b[0m\u001b[0;34m\u001b[0m\u001b[0;34m\u001b[0m\u001b[0m\n\u001b[1;32m    138\u001b[0m         \u001b[0mcallbacks\u001b[0m\u001b[0;34m,\u001b[0m\u001b[0;34m\u001b[0m\u001b[0;34m\u001b[0m\u001b[0m\n\u001b[0;32m--> 139\u001b[0;31m         \u001b[0mverbose\u001b[0m\u001b[0;34m\u001b[0m\u001b[0;34m\u001b[0m\u001b[0m\n\u001b[0m\u001b[1;32m    140\u001b[0m     )\n\u001b[1;32m    141\u001b[0m \u001b[0;34m\u001b[0m\u001b[0m\n",
      "\u001b[0;32m/home/h4/stfo194b/scratch/attila/attila/nn/core.py\u001b[0m in \u001b[0;36mdo_training\u001b[0;34m(model, X_train, X_val, y_train, y_val, batch_size, n_epochs, compile_args, callbacks, verbose)\u001b[0m\n\u001b[1;32m     32\u001b[0m         \u001b[0mvalidation_data\u001b[0m\u001b[0;34m=\u001b[0m\u001b[0;34m(\u001b[0m\u001b[0mX_val\u001b[0m\u001b[0;34m,\u001b[0m \u001b[0my_val\u001b[0m\u001b[0;34m)\u001b[0m\u001b[0;34m,\u001b[0m\u001b[0;34m\u001b[0m\u001b[0;34m\u001b[0m\u001b[0m\n\u001b[1;32m     33\u001b[0m         \u001b[0mworkers\u001b[0m\u001b[0;34m=\u001b[0m\u001b[0;36m1\u001b[0m\u001b[0;34m,\u001b[0m\u001b[0;34m\u001b[0m\u001b[0;34m\u001b[0m\u001b[0m\n\u001b[0;32m---> 34\u001b[0;31m         \u001b[0muse_multiprocessing\u001b[0m\u001b[0;34m=\u001b[0m\u001b[0;32mFalse\u001b[0m\u001b[0;34m,\u001b[0m\u001b[0;34m\u001b[0m\u001b[0;34m\u001b[0m\u001b[0m\n\u001b[0m\u001b[1;32m     35\u001b[0m     )  # history\n\u001b[1;32m     36\u001b[0m \u001b[0;34m\u001b[0m\u001b[0m\n",
      "\u001b[0;32m/sw/installed/TensorFlow/2.2.0-fosscuda-2019b-Python-3.7.4/lib/python3.7/site-packages/tensorflow/python/keras/engine/training.py\u001b[0m in \u001b[0;36m_method_wrapper\u001b[0;34m(self, *args, **kwargs)\u001b[0m\n\u001b[1;32m     64\u001b[0m   \u001b[0;32mdef\u001b[0m \u001b[0m_method_wrapper\u001b[0m\u001b[0;34m(\u001b[0m\u001b[0mself\u001b[0m\u001b[0;34m,\u001b[0m \u001b[0;34m*\u001b[0m\u001b[0margs\u001b[0m\u001b[0;34m,\u001b[0m \u001b[0;34m**\u001b[0m\u001b[0mkwargs\u001b[0m\u001b[0;34m)\u001b[0m\u001b[0;34m:\u001b[0m\u001b[0;34m\u001b[0m\u001b[0;34m\u001b[0m\u001b[0m\n\u001b[1;32m     65\u001b[0m     \u001b[0;32mif\u001b[0m \u001b[0;32mnot\u001b[0m \u001b[0mself\u001b[0m\u001b[0;34m.\u001b[0m\u001b[0m_in_multi_worker_mode\u001b[0m\u001b[0;34m(\u001b[0m\u001b[0;34m)\u001b[0m\u001b[0;34m:\u001b[0m  \u001b[0;31m# pylint: disable=protected-access\u001b[0m\u001b[0;34m\u001b[0m\u001b[0;34m\u001b[0m\u001b[0m\n\u001b[0;32m---> 66\u001b[0;31m       \u001b[0;32mreturn\u001b[0m \u001b[0mmethod\u001b[0m\u001b[0;34m(\u001b[0m\u001b[0mself\u001b[0m\u001b[0;34m,\u001b[0m \u001b[0;34m*\u001b[0m\u001b[0margs\u001b[0m\u001b[0;34m,\u001b[0m \u001b[0;34m**\u001b[0m\u001b[0mkwargs\u001b[0m\u001b[0;34m)\u001b[0m\u001b[0;34m\u001b[0m\u001b[0;34m\u001b[0m\u001b[0m\n\u001b[0m\u001b[1;32m     67\u001b[0m \u001b[0;34m\u001b[0m\u001b[0m\n\u001b[1;32m     68\u001b[0m     \u001b[0;31m# Running inside `run_distribute_coordinator` already.\u001b[0m\u001b[0;34m\u001b[0m\u001b[0;34m\u001b[0m\u001b[0;34m\u001b[0m\u001b[0m\n",
      "\u001b[0;32m/sw/installed/TensorFlow/2.2.0-fosscuda-2019b-Python-3.7.4/lib/python3.7/site-packages/tensorflow/python/keras/engine/training.py\u001b[0m in \u001b[0;36mfit\u001b[0;34m(self, x, y, batch_size, epochs, verbose, callbacks, validation_split, validation_data, shuffle, class_weight, sample_weight, initial_epoch, steps_per_epoch, validation_steps, validation_batch_size, validation_freq, max_queue_size, workers, use_multiprocessing)\u001b[0m\n\u001b[1;32m    874\u001b[0m           \u001b[0mepoch_logs\u001b[0m\u001b[0;34m.\u001b[0m\u001b[0mupdate\u001b[0m\u001b[0;34m(\u001b[0m\u001b[0mval_logs\u001b[0m\u001b[0;34m)\u001b[0m\u001b[0;34m\u001b[0m\u001b[0;34m\u001b[0m\u001b[0m\n\u001b[1;32m    875\u001b[0m \u001b[0;34m\u001b[0m\u001b[0m\n\u001b[0;32m--> 876\u001b[0;31m         \u001b[0mcallbacks\u001b[0m\u001b[0;34m.\u001b[0m\u001b[0mon_epoch_end\u001b[0m\u001b[0;34m(\u001b[0m\u001b[0mepoch\u001b[0m\u001b[0;34m,\u001b[0m \u001b[0mepoch_logs\u001b[0m\u001b[0;34m)\u001b[0m\u001b[0;34m\u001b[0m\u001b[0;34m\u001b[0m\u001b[0m\n\u001b[0m\u001b[1;32m    877\u001b[0m         \u001b[0;32mif\u001b[0m \u001b[0mself\u001b[0m\u001b[0;34m.\u001b[0m\u001b[0mstop_training\u001b[0m\u001b[0;34m:\u001b[0m\u001b[0;34m\u001b[0m\u001b[0;34m\u001b[0m\u001b[0m\n\u001b[1;32m    878\u001b[0m           \u001b[0;32mbreak\u001b[0m\u001b[0;34m\u001b[0m\u001b[0;34m\u001b[0m\u001b[0m\n",
      "\u001b[0;32m/sw/installed/TensorFlow/2.2.0-fosscuda-2019b-Python-3.7.4/lib/python3.7/site-packages/tensorflow/python/keras/callbacks.py\u001b[0m in \u001b[0;36mon_epoch_end\u001b[0;34m(self, epoch, logs)\u001b[0m\n\u001b[1;32m    363\u001b[0m     \u001b[0mlogs\u001b[0m \u001b[0;34m=\u001b[0m \u001b[0mself\u001b[0m\u001b[0;34m.\u001b[0m\u001b[0m_process_logs\u001b[0m\u001b[0;34m(\u001b[0m\u001b[0mlogs\u001b[0m\u001b[0;34m)\u001b[0m\u001b[0;34m\u001b[0m\u001b[0;34m\u001b[0m\u001b[0m\n\u001b[1;32m    364\u001b[0m     \u001b[0;32mfor\u001b[0m \u001b[0mcallback\u001b[0m \u001b[0;32min\u001b[0m \u001b[0mself\u001b[0m\u001b[0;34m.\u001b[0m\u001b[0mcallbacks\u001b[0m\u001b[0;34m:\u001b[0m\u001b[0;34m\u001b[0m\u001b[0;34m\u001b[0m\u001b[0m\n\u001b[0;32m--> 365\u001b[0;31m       \u001b[0mcallback\u001b[0m\u001b[0;34m.\u001b[0m\u001b[0mon_epoch_end\u001b[0m\u001b[0;34m(\u001b[0m\u001b[0mepoch\u001b[0m\u001b[0;34m,\u001b[0m \u001b[0mlogs\u001b[0m\u001b[0;34m)\u001b[0m\u001b[0;34m\u001b[0m\u001b[0;34m\u001b[0m\u001b[0m\n\u001b[0m\u001b[1;32m    366\u001b[0m \u001b[0;34m\u001b[0m\u001b[0m\n\u001b[1;32m    367\u001b[0m   \u001b[0;32mdef\u001b[0m \u001b[0mon_train_batch_begin\u001b[0m\u001b[0;34m(\u001b[0m\u001b[0mself\u001b[0m\u001b[0;34m,\u001b[0m \u001b[0mbatch\u001b[0m\u001b[0;34m,\u001b[0m \u001b[0mlogs\u001b[0m\u001b[0;34m=\u001b[0m\u001b[0;32mNone\u001b[0m\u001b[0;34m)\u001b[0m\u001b[0;34m:\u001b[0m\u001b[0;34m\u001b[0m\u001b[0;34m\u001b[0m\u001b[0m\n",
      "\u001b[0;32m/sw/installed/TensorFlow/2.2.0-fosscuda-2019b-Python-3.7.4/lib/python3.7/site-packages/tensorflow/python/keras/callbacks.py\u001b[0m in \u001b[0;36mon_epoch_end\u001b[0;34m(self, epoch, logs)\u001b[0m\n\u001b[1;32m   1175\u001b[0m           \u001b[0mself\u001b[0m\u001b[0;34m.\u001b[0m\u001b[0m_save_model\u001b[0m\u001b[0;34m(\u001b[0m\u001b[0mepoch\u001b[0m\u001b[0;34m=\u001b[0m\u001b[0mepoch\u001b[0m\u001b[0;34m,\u001b[0m \u001b[0mlogs\u001b[0m\u001b[0;34m=\u001b[0m\u001b[0mlogs\u001b[0m\u001b[0;34m)\u001b[0m\u001b[0;34m\u001b[0m\u001b[0;34m\u001b[0m\u001b[0m\n\u001b[1;32m   1176\u001b[0m       \u001b[0;32melse\u001b[0m\u001b[0;34m:\u001b[0m\u001b[0;34m\u001b[0m\u001b[0;34m\u001b[0m\u001b[0m\n\u001b[0;32m-> 1177\u001b[0;31m         \u001b[0mself\u001b[0m\u001b[0;34m.\u001b[0m\u001b[0m_save_model\u001b[0m\u001b[0;34m(\u001b[0m\u001b[0mepoch\u001b[0m\u001b[0;34m=\u001b[0m\u001b[0mepoch\u001b[0m\u001b[0;34m,\u001b[0m \u001b[0mlogs\u001b[0m\u001b[0;34m=\u001b[0m\u001b[0mlogs\u001b[0m\u001b[0;34m)\u001b[0m\u001b[0;34m\u001b[0m\u001b[0;34m\u001b[0m\u001b[0m\n\u001b[0m\u001b[1;32m   1178\u001b[0m     \u001b[0;32mif\u001b[0m \u001b[0mself\u001b[0m\u001b[0;34m.\u001b[0m\u001b[0mmodel\u001b[0m\u001b[0;34m.\u001b[0m\u001b[0m_in_multi_worker_mode\u001b[0m\u001b[0;34m(\u001b[0m\u001b[0;34m)\u001b[0m\u001b[0;34m:\u001b[0m\u001b[0;34m\u001b[0m\u001b[0;34m\u001b[0m\u001b[0m\n\u001b[1;32m   1179\u001b[0m       \u001b[0;31m# For multi-worker training, back up the weights and current training\u001b[0m\u001b[0;34m\u001b[0m\u001b[0;34m\u001b[0m\u001b[0;34m\u001b[0m\u001b[0m\n",
      "\u001b[0;32m/sw/installed/TensorFlow/2.2.0-fosscuda-2019b-Python-3.7.4/lib/python3.7/site-packages/tensorflow/python/keras/callbacks.py\u001b[0m in \u001b[0;36m_save_model\u001b[0;34m(self, epoch, logs)\u001b[0m\n\u001b[1;32m   1210\u001b[0m               \u001b[0mself\u001b[0m\u001b[0;34m.\u001b[0m\u001b[0mbest\u001b[0m \u001b[0;34m=\u001b[0m \u001b[0mcurrent\u001b[0m\u001b[0;34m\u001b[0m\u001b[0;34m\u001b[0m\u001b[0m\n\u001b[1;32m   1211\u001b[0m               \u001b[0;32mif\u001b[0m \u001b[0mself\u001b[0m\u001b[0;34m.\u001b[0m\u001b[0msave_weights_only\u001b[0m\u001b[0;34m:\u001b[0m\u001b[0;34m\u001b[0m\u001b[0;34m\u001b[0m\u001b[0m\n\u001b[0;32m-> 1212\u001b[0;31m                 \u001b[0mself\u001b[0m\u001b[0;34m.\u001b[0m\u001b[0mmodel\u001b[0m\u001b[0;34m.\u001b[0m\u001b[0msave_weights\u001b[0m\u001b[0;34m(\u001b[0m\u001b[0mfilepath\u001b[0m\u001b[0;34m,\u001b[0m \u001b[0moverwrite\u001b[0m\u001b[0;34m=\u001b[0m\u001b[0;32mTrue\u001b[0m\u001b[0;34m)\u001b[0m\u001b[0;34m\u001b[0m\u001b[0;34m\u001b[0m\u001b[0m\n\u001b[0m\u001b[1;32m   1213\u001b[0m               \u001b[0;32melse\u001b[0m\u001b[0;34m:\u001b[0m\u001b[0;34m\u001b[0m\u001b[0;34m\u001b[0m\u001b[0m\n\u001b[1;32m   1214\u001b[0m                 \u001b[0mself\u001b[0m\u001b[0;34m.\u001b[0m\u001b[0mmodel\u001b[0m\u001b[0;34m.\u001b[0m\u001b[0msave\u001b[0m\u001b[0;34m(\u001b[0m\u001b[0mfilepath\u001b[0m\u001b[0;34m,\u001b[0m \u001b[0moverwrite\u001b[0m\u001b[0;34m=\u001b[0m\u001b[0;32mTrue\u001b[0m\u001b[0;34m)\u001b[0m\u001b[0;34m\u001b[0m\u001b[0;34m\u001b[0m\u001b[0m\n",
      "\u001b[0;32m/sw/installed/TensorFlow/2.2.0-fosscuda-2019b-Python-3.7.4/lib/python3.7/site-packages/tensorflow/python/keras/engine/network.py\u001b[0m in \u001b[0;36msave_weights\u001b[0;34m(self, filepath, overwrite, save_format)\u001b[0m\n\u001b[1;32m   1149\u001b[0m     \u001b[0;32mif\u001b[0m \u001b[0msave_format\u001b[0m \u001b[0;34m==\u001b[0m \u001b[0;34m'h5'\u001b[0m\u001b[0;34m:\u001b[0m\u001b[0;34m\u001b[0m\u001b[0;34m\u001b[0m\u001b[0m\n\u001b[1;32m   1150\u001b[0m       \u001b[0;32mwith\u001b[0m \u001b[0mh5py\u001b[0m\u001b[0;34m.\u001b[0m\u001b[0mFile\u001b[0m\u001b[0;34m(\u001b[0m\u001b[0mfilepath\u001b[0m\u001b[0;34m,\u001b[0m \u001b[0;34m'w'\u001b[0m\u001b[0;34m)\u001b[0m \u001b[0;32mas\u001b[0m \u001b[0mf\u001b[0m\u001b[0;34m:\u001b[0m\u001b[0;34m\u001b[0m\u001b[0;34m\u001b[0m\u001b[0m\n\u001b[0;32m-> 1151\u001b[0;31m         \u001b[0mhdf5_format\u001b[0m\u001b[0;34m.\u001b[0m\u001b[0msave_weights_to_hdf5_group\u001b[0m\u001b[0;34m(\u001b[0m\u001b[0mf\u001b[0m\u001b[0;34m,\u001b[0m \u001b[0mself\u001b[0m\u001b[0;34m.\u001b[0m\u001b[0mlayers\u001b[0m\u001b[0;34m)\u001b[0m\u001b[0;34m\u001b[0m\u001b[0;34m\u001b[0m\u001b[0m\n\u001b[0m\u001b[1;32m   1152\u001b[0m     \u001b[0;32melse\u001b[0m\u001b[0;34m:\u001b[0m\u001b[0;34m\u001b[0m\u001b[0;34m\u001b[0m\u001b[0m\n\u001b[1;32m   1153\u001b[0m       \u001b[0;32mif\u001b[0m \u001b[0mcontext\u001b[0m\u001b[0;34m.\u001b[0m\u001b[0mexecuting_eagerly\u001b[0m\u001b[0;34m(\u001b[0m\u001b[0;34m)\u001b[0m\u001b[0;34m:\u001b[0m\u001b[0;34m\u001b[0m\u001b[0;34m\u001b[0m\u001b[0m\n",
      "\u001b[0;32mh5py/_objects.pyx\u001b[0m in \u001b[0;36mh5py._objects.with_phil.wrapper\u001b[0;34m()\u001b[0m\n",
      "\u001b[0;32mh5py/_objects.pyx\u001b[0m in \u001b[0;36mh5py._objects.with_phil.wrapper\u001b[0;34m()\u001b[0m\n",
      "\u001b[0;32m/sw/installed/h5py/2.10.0-fosscuda-2019b-Python-3.7.4/lib/python3.7/site-packages/h5py-2.10.0-py3.7-linux-ppc64le.egg/h5py/_hl/files.py\u001b[0m in \u001b[0;36m__exit__\u001b[0;34m(self, *args)\u001b[0m\n\u001b[1;32m    459\u001b[0m     \u001b[0;32mdef\u001b[0m \u001b[0m__exit__\u001b[0m\u001b[0;34m(\u001b[0m\u001b[0mself\u001b[0m\u001b[0;34m,\u001b[0m \u001b[0;34m*\u001b[0m\u001b[0margs\u001b[0m\u001b[0;34m)\u001b[0m\u001b[0;34m:\u001b[0m\u001b[0;34m\u001b[0m\u001b[0;34m\u001b[0m\u001b[0m\n\u001b[1;32m    460\u001b[0m         \u001b[0;32mif\u001b[0m \u001b[0mself\u001b[0m\u001b[0;34m.\u001b[0m\u001b[0mid\u001b[0m\u001b[0;34m:\u001b[0m\u001b[0;34m\u001b[0m\u001b[0;34m\u001b[0m\u001b[0m\n\u001b[0;32m--> 461\u001b[0;31m             \u001b[0mself\u001b[0m\u001b[0;34m.\u001b[0m\u001b[0mclose\u001b[0m\u001b[0;34m(\u001b[0m\u001b[0;34m)\u001b[0m\u001b[0;34m\u001b[0m\u001b[0;34m\u001b[0m\u001b[0m\n\u001b[0m\u001b[1;32m    462\u001b[0m \u001b[0;34m\u001b[0m\u001b[0m\n\u001b[1;32m    463\u001b[0m     \u001b[0;34m@\u001b[0m\u001b[0mwith_phil\u001b[0m\u001b[0;34m\u001b[0m\u001b[0;34m\u001b[0m\u001b[0m\n",
      "\u001b[0;32m/sw/installed/h5py/2.10.0-fosscuda-2019b-Python-3.7.4/lib/python3.7/site-packages/h5py-2.10.0-py3.7-linux-ppc64le.egg/h5py/_hl/files.py\u001b[0m in \u001b[0;36mclose\u001b[0;34m(self)\u001b[0m\n\u001b[1;32m    441\u001b[0m                 \u001b[0;32mfor\u001b[0m \u001b[0mid_\u001b[0m \u001b[0;32min\u001b[0m \u001b[0mfile_list\u001b[0m\u001b[0;34m:\u001b[0m\u001b[0;34m\u001b[0m\u001b[0;34m\u001b[0m\u001b[0m\n\u001b[1;32m    442\u001b[0m                     \u001b[0;32mwhile\u001b[0m \u001b[0mid_\u001b[0m\u001b[0;34m.\u001b[0m\u001b[0mvalid\u001b[0m\u001b[0;34m:\u001b[0m\u001b[0;34m\u001b[0m\u001b[0;34m\u001b[0m\u001b[0m\n\u001b[0;32m--> 443\u001b[0;31m                         \u001b[0mh5i\u001b[0m\u001b[0;34m.\u001b[0m\u001b[0mdec_ref\u001b[0m\u001b[0;34m(\u001b[0m\u001b[0mid_\u001b[0m\u001b[0;34m)\u001b[0m\u001b[0;34m\u001b[0m\u001b[0;34m\u001b[0m\u001b[0m\n\u001b[0m\u001b[1;32m    444\u001b[0m \u001b[0;34m\u001b[0m\u001b[0m\n\u001b[1;32m    445\u001b[0m                 \u001b[0mself\u001b[0m\u001b[0;34m.\u001b[0m\u001b[0mid\u001b[0m\u001b[0;34m.\u001b[0m\u001b[0mclose\u001b[0m\u001b[0;34m(\u001b[0m\u001b[0;34m)\u001b[0m\u001b[0;34m\u001b[0m\u001b[0;34m\u001b[0m\u001b[0m\n",
      "\u001b[0;31mKeyboardInterrupt\u001b[0m: "
     ]
    }
   ],
   "source": [
    "do_batch_experiments(experiments, (X, y), config, out_path)"
   ]
  },
  {
   "cell_type": "code",
   "execution_count": null,
   "metadata": {
    "scrolled": true
   },
   "outputs": [],
   "source": [
    "create_tex_experiments(config, out_path, out_path / 'tables.tex')"
   ]
  }
 ],
 "metadata": {
  "kernelspec": {
   "display_name": "attila",
   "language": "python",
   "name": "attila"
  },
  "language_info": {
   "codemirror_mode": {
    "name": "ipython",
    "version": 3
   },
   "file_extension": ".py",
   "mimetype": "text/x-python",
   "name": "python",
   "nbconvert_exporter": "python",
   "pygments_lexer": "ipython3",
   "version": "3.7.4"
  }
 },
 "nbformat": 4,
 "nbformat_minor": 4
}