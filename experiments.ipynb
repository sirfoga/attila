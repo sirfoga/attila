{
 "cells": [
  {
   "cell_type": "code",
   "execution_count": 1,
   "metadata": {},
   "outputs": [],
   "source": [
    "%load_ext autoreload\n",
    "%reload_ext autoreload\n",
    "%autoreload 2"
   ]
  },
  {
   "cell_type": "code",
   "execution_count": 2,
   "metadata": {},
   "outputs": [],
   "source": [
    "%matplotlib inline\n",
    "\n",
    "from pathlib import Path\n",
    "\n",
    "from attila.data.parse import parse_data, get_data\n",
    "from attila.util.config import get_config\n",
    "from attila.util.plots import plot_sample\n",
    "from attila.experiments.data import load_experiments\n",
    "from attila.experiments.do import do_batch_experiments\n",
    "from attila.experiments.tools import create_tex_experiments"
   ]
  },
  {
   "cell_type": "code",
   "execution_count": 3,
   "metadata": {},
   "outputs": [],
   "source": [
    "_here = Path('.').resolve()\n",
    "config = get_config(_here / 'config.ini')\n",
    "\n",
    "data_path = _here / config.get('data', 'folder')\n",
    "data_path = data_path.resolve()\n",
    "\n",
    "out_path = Path(config.get('experiments', 'output folder')).resolve()\n",
    "out_path.mkdir(parents=True, exist_ok=True)\n",
    "\n",
    "images_path = data_path / config.get('data', 'images')\n",
    "masks_path = data_path / config.get('data', 'masks')"
   ]
  },
  {
   "cell_type": "code",
   "execution_count": 4,
   "metadata": {},
   "outputs": [],
   "source": [
    "raw = get_data(images_path, masks_path)\n",
    "X, y = parse_data(\n",
    "    raw,\n",
    "    (config.getint('image', 'width'), config.getint('image', 'height'))\n",
    ")"
   ]
  },
  {
   "cell_type": "code",
   "execution_count": 5,
   "metadata": {},
   "outputs": [],
   "source": [
    "experiments_file = _here / 'experiments.json'\n",
    "experiments = load_experiments(experiments_file)"
   ]
  },
  {
   "cell_type": "code",
   "execution_count": 10,
   "metadata": {
    "scrolled": true
   },
   "outputs": [
    {
     "name": "stdout",
     "output_type": "stream",
     "text": [
      "testing data: X ~ (28, 120, 120, 1), y ~ (28, 120, 120, 3)\n",
      "ready to perform #1 / 1 batch of experiments\n"
     ]
    },
    {
     "name": "stderr",
     "output_type": "stream",
     "text": [
      "/home/h4/stfo194b/scratch/attila/attila/util/plots.py:46: UserWarning: No contour levels were found within the data range.\n",
      "  if out_folder:\n"
     ]
    },
    {
     "name": "stdout",
     "output_type": "stream",
     "text": [
      "ready to perform 8 experiments\n",
      "=== experiment #1 / 8: with_same\n",
      "= dataset training: X ~ (54, 120, 120, 1), y ~ (54, 120, 120, 3)\n",
      "= dataset validation: X ~ (10, 120, 120, 1), y ~ (10, 120, 120, 3)\n",
      "= dataset test: X ~ (28, 120, 120, 1), y ~ (28, 120, 120, 3)\n",
      "=== model\n",
      "= # layers: 25\n",
      "= # total params: 1882115\n",
      "= # trainable params: 1882115\n",
      "= # non-trainable params: 0\n",
      "Epoch 1/5\n",
      "14/14 [==============================] - 1s 45ms/step - loss: 0.2781 - accuracy: 0.9523 - batch_metric-mean_IoU: 0.0049 - batch_metric-DSC: 0.0237 - val_loss: 0.2615 - val_accuracy: 0.9324 - val_batch_metric-mean_IoU: 1.6518e-04 - val_batch_metric-DSC: 0.0131 - lr: 0.0010\n",
      "Epoch 2/5\n",
      "14/14 [==============================] - 0s 17ms/step - loss: 0.1227 - accuracy: 0.9591 - batch_metric-mean_IoU: 0.0428 - batch_metric-DSC: 0.0815 - val_loss: 0.1672 - val_accuracy: 0.9324 - val_batch_metric-mean_IoU: 0.0355 - val_batch_metric-DSC: 0.0739 - lr: 0.0010\n",
      "Epoch 3/5\n",
      "14/14 [==============================] - 0s 17ms/step - loss: 0.0778 - accuracy: 0.9591 - batch_metric-mean_IoU: 0.1737 - batch_metric-DSC: 0.2746 - val_loss: 0.0815 - val_accuracy: 0.9324 - val_batch_metric-mean_IoU: 0.3209 - val_batch_metric-DSC: 0.3367 - lr: 0.0010\n",
      "Epoch 4/5\n",
      "14/14 [==============================] - 0s 17ms/step - loss: 0.0435 - accuracy: 0.9690 - batch_metric-mean_IoU: 0.6497 - batch_metric-DSC: 0.5982 - val_loss: 0.0328 - val_accuracy: 0.9867 - val_batch_metric-mean_IoU: 0.5995 - val_batch_metric-DSC: 0.4419 - lr: 0.0010\n",
      "Epoch 5/5\n",
      "14/14 [==============================] - 0s 16ms/step - loss: 0.0166 - accuracy: 0.9923 - batch_metric-mean_IoU: 0.8523 - batch_metric-DSC: 0.6822 - val_loss: 0.0235 - val_accuracy: 0.9867 - val_batch_metric-mean_IoU: 0.8960 - val_batch_metric-DSC: 0.6431 - lr: 0.0010\n",
      "7/7 [==============================] - 0s 4ms/step\n",
      "=== evaluation stats\n",
      "= metrics on test set (size: 28)\n",
      "= batch_metric-mean_IoU ~ mean 0.745 median 0.910 std 0.351\n",
      "= batch_metric-DSC ~ mean 0.620 median 0.646 std 0.161\n"
     ]
    },
    {
     "name": "stderr",
     "output_type": "stream",
     "text": [
      "/home/h4/stfo194b/scratch/attila/attila/util/plots.py:112: UserWarning: No contour levels were found within the data range.\n",
      "  if out_folder:\n"
     ]
    },
    {
     "name": "stdout",
     "output_type": "stream",
     "text": [
      "=== experiment #2 / 8: without_same\n",
      "= dataset training: X ~ (54, 120, 120, 1), y ~ (54, 120, 120, 3)\n",
      "= dataset validation: X ~ (10, 120, 120, 1), y ~ (10, 120, 120, 3)\n",
      "= dataset test: X ~ (28, 120, 120, 1), y ~ (28, 120, 120, 3)\n",
      "=== model\n",
      "= # layers: 21\n",
      "= # total params: 1697795\n",
      "= # trainable params: 1697795\n",
      "= # non-trainable params: 0\n",
      "Epoch 1/5\n",
      "14/14 [==============================] - 1s 56ms/step - loss: 0.2998 - accuracy: 0.8930 - batch_metric-mean_IoU: 0.0280 - batch_metric-DSC: 0.0606 - val_loss: 0.1674 - val_accuracy: 0.9324 - val_batch_metric-mean_IoU: 0.0339 - val_batch_metric-DSC: 0.0630 - lr: 0.0010\n",
      "Epoch 2/5\n",
      "14/14 [==============================] - 0s 15ms/step - loss: 0.1294 - accuracy: 0.9591 - batch_metric-mean_IoU: 0.0359 - batch_metric-DSC: 0.0714 - val_loss: 0.1455 - val_accuracy: 0.9324 - val_batch_metric-mean_IoU: 0.0693 - val_batch_metric-DSC: 0.1195 - lr: 0.0010\n",
      "Epoch 3/5\n",
      "14/14 [==============================] - 0s 15ms/step - loss: 0.1041 - accuracy: 0.9591 - batch_metric-mean_IoU: 0.0542 - batch_metric-DSC: 0.1056 - val_loss: 0.1105 - val_accuracy: 0.9324 - val_batch_metric-mean_IoU: 0.1291 - val_batch_metric-DSC: 0.1947 - lr: 0.0010\n",
      "Epoch 4/5\n",
      "14/14 [==============================] - 0s 15ms/step - loss: 0.0720 - accuracy: 0.9591 - batch_metric-mean_IoU: 0.3544 - batch_metric-DSC: 0.3568 - val_loss: 0.0678 - val_accuracy: 0.9324 - val_batch_metric-mean_IoU: 0.2902 - val_batch_metric-DSC: 0.3218 - lr: 0.0010\n",
      "Epoch 5/5\n",
      "14/14 [==============================] - 0s 15ms/step - loss: 0.0273 - accuracy: 0.9835 - batch_metric-mean_IoU: 0.7676 - batch_metric-DSC: 0.6503 - val_loss: 0.1253 - val_accuracy: 0.9661 - val_batch_metric-mean_IoU: 0.6253 - val_batch_metric-DSC: 0.5474 - lr: 0.0010\n",
      "7/7 [==============================] - 0s 4ms/step\n",
      "=== evaluation stats\n",
      "= metrics on test set (size: 28)\n",
      "= batch_metric-mean_IoU ~ mean 0.562 median 0.709 std 0.332\n",
      "= batch_metric-DSC ~ mean 0.455 median 0.587 std 0.250\n",
      "=== experiment #3 / 8: with_valid\n",
      "= dataset training: X ~ (54, 120, 120, 1), y ~ (54, 76, 76, 3)\n",
      "= dataset validation: X ~ (10, 120, 120, 1), y ~ (10, 76, 76, 3)\n",
      "= dataset test: X ~ (28, 120, 120, 1), y ~ (28, 76, 76, 3)\n",
      "=== model\n",
      "= # layers: 26\n",
      "= # total params: 1882115\n",
      "= # trainable params: 1882115\n",
      "= # non-trainable params: 0\n",
      "Epoch 1/5\n",
      "14/14 [==============================] - 1s 41ms/step - loss: 0.6412 - accuracy: 0.8892 - batch_metric-mean_IoU: 0.3155 - batch_metric-DSC: 0.3379 - val_loss: 0.7467 - val_accuracy: 0.9219 - val_batch_metric-mean_IoU: 0.6667 - val_batch_metric-DSC: 0.6670 - lr: 0.0010\n",
      "Epoch 2/5\n",
      "14/14 [==============================] - 0s 14ms/step - loss: 0.1639 - accuracy: 0.9597 - batch_metric-mean_IoU: 0.5714 - batch_metric-DSC: 0.5753 - val_loss: 0.1703 - val_accuracy: 0.9219 - val_batch_metric-mean_IoU: 0.6667 - val_batch_metric-DSC: 0.6670 - lr: 0.0010\n",
      "Epoch 3/5\n",
      "14/14 [==============================] - 0s 12ms/step - loss: 0.1150 - accuracy: 0.9597 - batch_metric-mean_IoU: 0.6429 - batch_metric-DSC: 0.6466 - val_loss: 0.1997 - val_accuracy: 0.9219 - val_batch_metric-mean_IoU: 0.6667 - val_batch_metric-DSC: 0.6670 - lr: 0.0010\n",
      "Epoch 4/5\n",
      "14/14 [==============================] - 0s 13ms/step - loss: 0.1249 - accuracy: 0.9597 - batch_metric-mean_IoU: 0.3571 - batch_metric-DSC: 0.3583 - val_loss: 0.1329 - val_accuracy: 0.9219 - val_batch_metric-mean_IoU: 0.6667 - val_batch_metric-DSC: 0.6670 - lr: 0.0010\n",
      "Epoch 5/5\n",
      "14/14 [==============================] - 0s 24ms/step - loss: 0.0897 - accuracy: 0.9597 - batch_metric-mean_IoU: 0.9286 - batch_metric-DSC: 0.9287 - val_loss: 0.1722 - val_accuracy: 0.9219 - val_batch_metric-mean_IoU: 0.6667 - val_batch_metric-DSC: 0.6670 - lr: 0.0010\n",
      "7/7 [==============================] - 0s 3ms/step\n",
      "=== evaluation stats\n",
      "= metrics on test set (size: 28)\n",
      "= batch_metric-mean_IoU ~ mean 0.464 median 0.000 std 0.499\n",
      "= batch_metric-DSC ~ mean 0.467 median 0.020 std 0.497\n",
      "=== experiment #4 / 8: without_valid\n",
      "= dataset training: X ~ (54, 120, 120, 1), y ~ (54, 76, 76, 3)\n",
      "= dataset validation: X ~ (10, 120, 120, 1), y ~ (10, 76, 76, 3)\n",
      "= dataset test: X ~ (28, 120, 120, 1), y ~ (28, 76, 76, 3)\n",
      "=== model\n",
      "= # layers: 22\n",
      "= # total params: 1697795\n",
      "= # trainable params: 1697795\n",
      "= # non-trainable params: 0\n",
      "Epoch 1/5\n",
      "14/14 [==============================] - 1s 38ms/step - loss: 0.2670 - accuracy: 0.8943 - batch_metric-mean_IoU: 0.6429 - batch_metric-DSC: 0.6464 - val_loss: 0.2009 - val_accuracy: 0.9219 - val_batch_metric-mean_IoU: 0.6667 - val_batch_metric-DSC: 0.6670 - lr: 0.0010\n",
      "Epoch 2/5\n",
      "14/14 [==============================] - 0s 12ms/step - loss: 0.1041 - accuracy: 0.9597 - batch_metric-mean_IoU: 0.3571 - batch_metric-DSC: 0.3587 - val_loss: 0.1273 - val_accuracy: 0.9219 - val_batch_metric-mean_IoU: 0.6667 - val_batch_metric-DSC: 0.6670 - lr: 0.0010\n",
      "Epoch 3/5\n",
      "14/14 [==============================] - 0s 12ms/step - loss: 0.1101 - accuracy: 0.9597 - batch_metric-mean_IoU: 0.5948 - batch_metric-DSC: 0.6008 - val_loss: 0.0742 - val_accuracy: 0.9218 - val_batch_metric-mean_IoU: 0.7379 - val_batch_metric-DSC: 0.7666 - lr: 0.0010\n",
      "Epoch 4/5\n",
      "14/14 [==============================] - 0s 12ms/step - loss: 0.1127 - accuracy: 0.9578 - batch_metric-mean_IoU: 0.4957 - batch_metric-DSC: 0.4769 - val_loss: 0.2270 - val_accuracy: 0.9219 - val_batch_metric-mean_IoU: 0.6667 - val_batch_metric-DSC: 0.6670 - lr: 0.0010\n",
      "Epoch 5/5\n",
      "14/14 [==============================] - 0s 12ms/step - loss: 0.0851 - accuracy: 0.9597 - batch_metric-mean_IoU: 0.6325 - batch_metric-DSC: 0.6499 - val_loss: 0.0778 - val_accuracy: 0.9219 - val_batch_metric-mean_IoU: 0.9324 - val_batch_metric-DSC: 0.8716 - lr: 0.0010\n",
      "7/7 [==============================] - 0s 3ms/step\n",
      "=== evaluation stats\n",
      "= metrics on test set (size: 28)\n",
      "= batch_metric-mean_IoU ~ mean 0.757 median 0.744 std 0.279\n",
      "= batch_metric-DSC ~ mean 0.728 median 0.598 std 0.278\n",
      "=== experiment #5 / 8: with_same_se\n",
      "= dataset training: X ~ (54, 120, 120, 1), y ~ (54, 120, 120, 3)\n",
      "= dataset validation: X ~ (10, 120, 120, 1), y ~ (10, 120, 120, 3)\n",
      "= dataset test: X ~ (28, 120, 120, 1), y ~ (28, 120, 120, 3)\n",
      "=== model\n",
      "= # layers: 53\n",
      "= # total params: 1897987\n",
      "= # trainable params: 1897987\n",
      "= # non-trainable params: 0\n",
      "Epoch 1/5\n",
      "14/14 [==============================] - 1s 57ms/step - loss: 0.4460 - accuracy: 0.8983 - batch_metric-mean_IoU: 0.0221 - batch_metric-DSC: 0.0498 - val_loss: 0.3699 - val_accuracy: 0.9324 - val_batch_metric-mean_IoU: 0.0059 - val_batch_metric-DSC: 0.0128 - lr: 0.0010\n",
      "Epoch 2/5\n",
      "14/14 [==============================] - 0s 20ms/step - loss: 0.1618 - accuracy: 0.9591 - batch_metric-mean_IoU: 0.0119 - batch_metric-DSC: 0.0297 - val_loss: 0.1734 - val_accuracy: 0.9324 - val_batch_metric-mean_IoU: 0.0268 - val_batch_metric-DSC: 0.0590 - lr: 0.0010\n",
      "Epoch 3/5\n",
      "14/14 [==============================] - 0s 20ms/step - loss: 0.1133 - accuracy: 0.9591 - batch_metric-mean_IoU: 0.0420 - batch_metric-DSC: 0.0723 - val_loss: 0.1133 - val_accuracy: 0.9324 - val_batch_metric-mean_IoU: 0.1401 - val_batch_metric-DSC: 0.2121 - lr: 0.0010\n",
      "Epoch 4/5\n",
      "14/14 [==============================] - 0s 19ms/step - loss: 0.0811 - accuracy: 0.9591 - batch_metric-mean_IoU: 0.2140 - batch_metric-DSC: 0.2475 - val_loss: 0.0876 - val_accuracy: 0.9324 - val_batch_metric-mean_IoU: 0.4520 - val_batch_metric-DSC: 0.4749 - lr: 0.0010\n",
      "Epoch 5/5\n",
      "14/14 [==============================] - 0s 19ms/step - loss: 0.0477 - accuracy: 0.9670 - batch_metric-mean_IoU: 0.5068 - batch_metric-DSC: 0.4385 - val_loss: 0.0295 - val_accuracy: 0.9858 - val_batch_metric-mean_IoU: 0.6007 - val_batch_metric-DSC: 0.4422 - lr: 0.0010\n",
      "7/7 [==============================] - 0s 5ms/step\n",
      "=== evaluation stats\n",
      "= metrics on test set (size: 28)\n",
      "= batch_metric-mean_IoU ~ mean 0.636 median 0.858 std 0.372\n",
      "= batch_metric-DSC ~ mean 0.567 median 0.632 std 0.115\n",
      "=== experiment #6 / 8: without_same_se\n",
      "= dataset training: X ~ (54, 120, 120, 1), y ~ (54, 120, 120, 3)\n",
      "= dataset validation: X ~ (10, 120, 120, 1), y ~ (10, 120, 120, 3)\n",
      "= dataset test: X ~ (28, 120, 120, 1), y ~ (28, 120, 120, 3)\n",
      "=== model\n",
      "= # layers: 49\n",
      "= # total params: 1713667\n",
      "= # trainable params: 1713667\n",
      "= # non-trainable params: 0\n",
      "Epoch 1/5\n"
     ]
    },
    {
     "name": "stdout",
     "output_type": "stream",
     "text": [
      "14/14 [==============================] - 1s 56ms/step - loss: 0.4146 - accuracy: 0.8863 - batch_metric-mean_IoU: 0.0073 - batch_metric-DSC: 0.0177 - val_loss: 0.2768 - val_accuracy: 0.9324 - val_batch_metric-mean_IoU: 0.0011 - val_batch_metric-DSC: 0.0055 - lr: 0.0010\n",
      "Epoch 2/5\n",
      "14/14 [==============================] - 0s 19ms/step - loss: 0.1244 - accuracy: 0.9591 - batch_metric-mean_IoU: 0.0373 - batch_metric-DSC: 0.0662 - val_loss: 0.1483 - val_accuracy: 0.9324 - val_batch_metric-mean_IoU: 0.1105 - val_batch_metric-DSC: 0.1751 - lr: 0.0010\n",
      "Epoch 3/5\n",
      "14/14 [==============================] - 0s 19ms/step - loss: 0.0910 - accuracy: 0.9591 - batch_metric-mean_IoU: 0.1084 - batch_metric-DSC: 0.1641 - val_loss: 0.1096 - val_accuracy: 0.9324 - val_batch_metric-mean_IoU: 0.1419 - val_batch_metric-DSC: 0.2124 - lr: 0.0010\n",
      "Epoch 4/5\n",
      "14/14 [==============================] - 0s 19ms/step - loss: 0.0639 - accuracy: 0.9591 - batch_metric-mean_IoU: 0.2198 - batch_metric-DSC: 0.3353 - val_loss: 0.0771 - val_accuracy: 0.9324 - val_batch_metric-mean_IoU: 0.5221 - val_batch_metric-DSC: 0.5094 - lr: 0.0010\n",
      "Epoch 5/5\n",
      "14/14 [==============================] - 0s 19ms/step - loss: 0.0490 - accuracy: 0.9591 - batch_metric-mean_IoU: 0.5074 - batch_metric-DSC: 0.5860 - val_loss: 0.0656 - val_accuracy: 0.9324 - val_batch_metric-mean_IoU: 0.7026 - val_batch_metric-DSC: 0.5672 - lr: 0.0010\n",
      "7/7 [==============================] - 0s 4ms/step\n",
      "=== evaluation stats\n",
      "= metrics on test set (size: 28)\n",
      "= batch_metric-mean_IoU ~ mean 0.841 median 0.837 std 0.122\n",
      "= batch_metric-DSC ~ mean 0.708 median 0.626 std 0.171\n",
      "=== experiment #7 / 8: with_valid_se\n",
      "= dataset training: X ~ (54, 120, 120, 1), y ~ (54, 76, 76, 3)\n",
      "= dataset validation: X ~ (10, 120, 120, 1), y ~ (10, 76, 76, 3)\n",
      "= dataset test: X ~ (28, 120, 120, 1), y ~ (28, 76, 76, 3)\n",
      "=== model\n",
      "= # layers: 54\n",
      "= # total params: 1897987\n",
      "= # trainable params: 1897987\n",
      "= # non-trainable params: 0\n",
      "Epoch 1/5\n",
      "14/14 [==============================] - 1s 54ms/step - loss: 0.4458 - accuracy: 0.9539 - batch_metric-mean_IoU: 0.2946 - batch_metric-DSC: 0.3019 - val_loss: 0.4890 - val_accuracy: 0.9219 - val_batch_metric-mean_IoU: 0.6667 - val_batch_metric-DSC: 0.6670 - lr: 0.0010\n",
      "Epoch 2/5\n",
      "14/14 [==============================] - 0s 16ms/step - loss: 0.1869 - accuracy: 0.9597 - batch_metric-mean_IoU: 0.5714 - batch_metric-DSC: 0.5724 - val_loss: 0.2278 - val_accuracy: 0.9219 - val_batch_metric-mean_IoU: 0.6667 - val_batch_metric-DSC: 0.6670 - lr: 0.0010\n",
      "Epoch 3/5\n",
      "14/14 [==============================] - 0s 17ms/step - loss: 0.1099 - accuracy: 0.9597 - batch_metric-mean_IoU: 0.2857 - batch_metric-DSC: 0.2901 - val_loss: 0.1405 - val_accuracy: 0.9219 - val_batch_metric-mean_IoU: 0.6667 - val_batch_metric-DSC: 0.6670 - lr: 0.0010\n",
      "Epoch 4/5\n",
      "14/14 [==============================] - 0s 16ms/step - loss: 0.0778 - accuracy: 0.9597 - batch_metric-mean_IoU: 0.5431 - batch_metric-DSC: 0.5559 - val_loss: 0.0873 - val_accuracy: 0.9219 - val_batch_metric-mean_IoU: 0.8439 - val_batch_metric-DSC: 0.8385 - lr: 0.0010\n",
      "Epoch 5/5\n",
      "14/14 [==============================] - 0s 16ms/step - loss: 0.0747 - accuracy: 0.9701 - batch_metric-mean_IoU: 0.7836 - batch_metric-DSC: 0.7412 - val_loss: 0.0714 - val_accuracy: 0.9771 - val_batch_metric-mean_IoU: 0.9476 - val_batch_metric-DSC: 0.8759 - lr: 0.0010\n",
      "7/7 [==============================] - 0s 3ms/step\n",
      "=== evaluation stats\n",
      "= metrics on test set (size: 28)\n",
      "= batch_metric-mean_IoU ~ mean 0.898 median 0.954 std 0.142\n",
      "= batch_metric-DSC ~ mean 0.793 median 0.656 std 0.196\n",
      "=== experiment #8 / 8: without_valid_se\n",
      "= dataset training: X ~ (54, 120, 120, 1), y ~ (54, 76, 76, 3)\n",
      "= dataset validation: X ~ (10, 120, 120, 1), y ~ (10, 76, 76, 3)\n",
      "= dataset test: X ~ (28, 120, 120, 1), y ~ (28, 76, 76, 3)\n",
      "=== model\n",
      "= # layers: 50\n",
      "= # total params: 1713667\n",
      "= # trainable params: 1713667\n",
      "= # non-trainable params: 0\n",
      "Epoch 1/5\n",
      "14/14 [==============================] - 1s 53ms/step - loss: 0.4899 - accuracy: 0.9508 - batch_metric-mean_IoU: 0.0772 - batch_metric-DSC: 0.0822 - val_loss: 0.3316 - val_accuracy: 0.9219 - val_batch_metric-mean_IoU: 0.6667 - val_batch_metric-DSC: 0.6670 - lr: 0.0010\n",
      "Epoch 2/5\n",
      "14/14 [==============================] - 0s 16ms/step - loss: 0.1750 - accuracy: 0.9597 - batch_metric-mean_IoU: 0.5000 - batch_metric-DSC: 0.5035 - val_loss: 0.1794 - val_accuracy: 0.9219 - val_batch_metric-mean_IoU: 0.6667 - val_batch_metric-DSC: 0.6670 - lr: 0.0010\n",
      "Epoch 3/5\n",
      "14/14 [==============================] - 0s 15ms/step - loss: 0.0710 - accuracy: 0.9598 - batch_metric-mean_IoU: 0.6135 - batch_metric-DSC: 0.6237 - val_loss: 0.1070 - val_accuracy: 0.9836 - val_batch_metric-mean_IoU: 0.9583 - val_batch_metric-DSC: 0.8788 - lr: 0.0010\n",
      "Epoch 4/5\n",
      "14/14 [==============================] - 0s 16ms/step - loss: 0.1258 - accuracy: 0.9632 - batch_metric-mean_IoU: 0.5714 - batch_metric-DSC: 0.5721 - val_loss: 0.1993 - val_accuracy: 0.9219 - val_batch_metric-mean_IoU: 0.6667 - val_batch_metric-DSC: 0.6670 - lr: 0.0010\n",
      "Epoch 5/5\n",
      "14/14 [==============================] - 0s 15ms/step - loss: 0.0750 - accuracy: 0.9624 - batch_metric-mean_IoU: 0.4350 - batch_metric-DSC: 0.4410 - val_loss: 0.2154 - val_accuracy: 0.9509 - val_batch_metric-mean_IoU: 0.9006 - val_batch_metric-DSC: 0.8613 - lr: 0.0010\n",
      "7/7 [==============================] - 0s 3ms/step\n",
      "=== evaluation stats\n",
      "= metrics on test set (size: 28)\n",
      "= batch_metric-mean_IoU ~ mean 0.857 median 0.889 std 0.167\n",
      "= batch_metric-DSC ~ mean 0.780 median 0.640 std 0.210\n",
      "done! output folder is /home/h4/stfo194b/scratch/attila/out/run-0\n"
     ]
    }
   ],
   "source": [
    "do_batch_experiments(experiments, (X, y), config, out_path)"
   ]
  },
  {
   "cell_type": "code",
   "execution_count": 11,
   "metadata": {
    "scrolled": true
   },
   "outputs": [
    {
     "name": "stdout",
     "output_type": "stream",
     "text": [
      "=== run #1: loaded 8 results from /home/h4/stfo194b/scratch/attila/out/run-0/summary.json\n",
      "creating .tex table for 8 experiments configurations\n",
      "creating .tex table for 8 experiments results\n",
      "=== all runs\n",
      "creating .tex table for 1 runs\n"
     ]
    }
   ],
   "source": [
    "create_tex_experiments(config, out_path, out_path / 'tables.tex')"
   ]
  }
 ],
 "metadata": {
  "kernelspec": {
   "display_name": "attila",
   "language": "python",
   "name": "attila"
  },
  "language_info": {
   "codemirror_mode": {
    "name": "ipython",
    "version": 3
   },
   "file_extension": ".py",
   "mimetype": "text/x-python",
   "name": "python",
   "nbconvert_exporter": "python",
   "pygments_lexer": "ipython3",
   "version": "3.7.4"
  }
 },
 "nbformat": 4,
 "nbformat_minor": 4
}
