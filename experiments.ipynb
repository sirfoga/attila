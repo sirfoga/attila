{
 "cells": [
  {
   "cell_type": "code",
   "execution_count": 1,
   "metadata": {},
   "outputs": [],
   "source": [
    "%load_ext autoreload\n",
    "%reload_ext autoreload\n",
    "%autoreload 2"
   ]
  },
  {
   "cell_type": "code",
   "execution_count": 2,
   "metadata": {},
   "outputs": [],
   "source": [
    "%matplotlib inline\n",
    "\n",
    "from pathlib import Path\n",
    "\n",
    "from attila.data.parse import parse_data, get_data\n",
    "from attila.util.config import get_config\n",
    "from attila.util.plots import plot_sample\n",
    "from attila.experiments.data import load_experiments\n",
    "from attila.experiments.do import do_batch_experiments\n",
    "from attila.experiments.tools import create_tex_experiments"
   ]
  },
  {
   "cell_type": "code",
   "execution_count": 3,
   "metadata": {},
   "outputs": [],
   "source": [
    "_here = Path('.').resolve()\n",
    "config = get_config(_here / 'config.ini')\n",
    "\n",
    "data_path = _here / config.get('data', 'folder')\n",
    "data_path = data_path.resolve()\n",
    "\n",
    "out_path = Path(config.get('experiments', 'output folder')).resolve()\n",
    "out_path.mkdir(parents=True, exist_ok=True)\n",
    "\n",
    "images_path = data_path / config.get('data', 'images')\n",
    "masks_path = data_path / config.get('data', 'masks')"
   ]
  },
  {
   "cell_type": "code",
   "execution_count": 4,
   "metadata": {},
   "outputs": [],
   "source": [
    "raw = get_data(images_path, masks_path)\n",
    "X, y = parse_data(\n",
    "    raw,\n",
    "    (config.getint('image', 'width'), config.getint('image', 'height'))\n",
    ")"
   ]
  },
  {
   "cell_type": "code",
   "execution_count": 5,
   "metadata": {},
   "outputs": [],
   "source": [
    "experiments_file = _here / 'experiments.json'\n",
    "experiments = load_experiments(experiments_file)"
   ]
  },
  {
   "cell_type": "code",
   "execution_count": null,
   "metadata": {
    "scrolled": true
   },
   "outputs": [
    {
     "name": "stdout",
     "output_type": "stream",
     "text": [
      "testing data: X ~ (28, 120, 120, 1), y ~ (28, 120, 120, 3)\n",
      "ready to perform #1 / 1 batch of experiments\n"
     ]
    },
    {
     "name": "stderr",
     "output_type": "stream",
     "text": [
      "/home/h4/stfo194b/scratch/attila/attila/util/plots.py:46: UserWarning: No contour levels were found within the data range.\n",
      "  plt.gca().contour(borders, colors='red', levels=[0.5])\n"
     ]
    },
    {
     "name": "stdout",
     "output_type": "stream",
     "text": [
      "ready to perform 8 experiments\n",
      "=== experiment #1 / 8: with_same\n",
      "= dataset training: X ~ (54, 120, 120, 1), y ~ (54, 120, 120, 3)\n",
      "= dataset validation: X ~ (10, 120, 120, 1), y ~ (10, 120, 120, 3)\n",
      "= dataset test: X ~ (28, 120, 120, 1), y ~ (28, 120, 120, 3)\n",
      "=== model\n",
      "= # layers: 25\n",
      "= # total params: 1882115\n",
      "= # trainable params: 1882115\n",
      "= # non-trainable params: 0\n",
      "Epoch 1/5\n",
      "14/14 [==============================] - 1s 49ms/step - loss: 0.3649 - accuracy: 0.8843 - batch_metric-mean_IoU: 0.0094 - batch_metric-DSC: 0.0248 - val_loss: 0.1902 - val_accuracy: 0.9360 - val_batch_metric-mean_IoU: 0.0092 - val_batch_metric-DSC: 0.0293 - lr: 0.0010\n",
      "Epoch 2/5\n",
      "14/14 [==============================] - 0s 17ms/step - loss: 0.1315 - accuracy: 0.9546 - batch_metric-mean_IoU: 0.0304 - batch_metric-DSC: 0.0569 - val_loss: 0.1452 - val_accuracy: 0.9360 - val_batch_metric-mean_IoU: 0.0221 - val_batch_metric-DSC: 0.0676 - lr: 0.0010\n",
      "Epoch 3/5\n",
      "14/14 [==============================] - 0s 17ms/step - loss: 0.0891 - accuracy: 0.9546 - batch_metric-mean_IoU: 0.1581 - batch_metric-DSC: 0.1984 - val_loss: 0.0772 - val_accuracy: 0.9360 - val_batch_metric-mean_IoU: 0.4018 - val_batch_metric-DSC: 0.3672 - lr: 0.0010\n",
      "Epoch 4/5\n",
      "14/14 [==============================] - 0s 16ms/step - loss: 0.0433 - accuracy: 0.9752 - batch_metric-mean_IoU: 0.6134 - batch_metric-DSC: 0.5067 - val_loss: 0.0251 - val_accuracy: 0.9865 - val_batch_metric-mean_IoU: 0.5797 - val_batch_metric-DSC: 0.4536 - lr: 0.0010\n",
      "Epoch 5/5\n",
      "14/14 [==============================] - 0s 16ms/step - loss: 0.0235 - accuracy: 0.9879 - batch_metric-mean_IoU: 0.7361 - batch_metric-DSC: 0.5913 - val_loss: 0.0247 - val_accuracy: 0.9867 - val_batch_metric-mean_IoU: 0.6111 - val_batch_metric-DSC: 0.4415 - lr: 0.0010\n",
      "7/7 [==============================] - 0s 4ms/step\n",
      "=== evaluation stats\n",
      "= metrics on test set (size: 28)\n",
      "= batch_metric-mean_IoU ~ mean 0.558 median 0.825 std 0.407\n",
      "= batch_metric-DSC ~ mean 0.471 median 0.623 std 0.263\n"
     ]
    },
    {
     "name": "stderr",
     "output_type": "stream",
     "text": [
      "/home/h4/stfo194b/scratch/attila/attila/util/plots.py:117: UserWarning: No contour levels were found within the data range.\n",
      "  \n"
     ]
    },
    {
     "name": "stdout",
     "output_type": "stream",
     "text": [
      "=== experiment #2 / 8: without_same\n",
      "= dataset training: X ~ (54, 120, 120, 1), y ~ (54, 120, 120, 3)\n",
      "= dataset validation: X ~ (10, 120, 120, 1), y ~ (10, 120, 120, 3)\n",
      "= dataset test: X ~ (28, 120, 120, 1), y ~ (28, 120, 120, 3)\n",
      "=== model\n",
      "= # layers: 21\n",
      "= # total params: 1697795\n",
      "= # trainable params: 1697795\n",
      "= # non-trainable params: 0\n",
      "Epoch 1/5\n",
      "14/14 [==============================] - 1s 50ms/step - loss: 0.3117 - accuracy: 0.9130 - batch_metric-mean_IoU: 0.0121 - batch_metric-DSC: 0.0340 - val_loss: 0.1815 - val_accuracy: 0.9360 - val_batch_metric-mean_IoU: 0.0181 - val_batch_metric-DSC: 0.0353 - lr: 0.0010\n",
      "Epoch 2/5\n",
      "14/14 [==============================] - 0s 15ms/step - loss: 0.1225 - accuracy: 0.9546 - batch_metric-mean_IoU: 0.0484 - batch_metric-DSC: 0.0824 - val_loss: 0.1276 - val_accuracy: 0.9360 - val_batch_metric-mean_IoU: 0.0597 - val_batch_metric-DSC: 0.1021 - lr: 0.0010\n",
      "Epoch 3/5\n",
      "14/14 [==============================] - 0s 14ms/step - loss: 0.0833 - accuracy: 0.9546 - batch_metric-mean_IoU: 0.2011 - batch_metric-DSC: 0.2611 - val_loss: 0.0806 - val_accuracy: 0.9360 - val_batch_metric-mean_IoU: 0.3986 - val_batch_metric-DSC: 0.3673 - lr: 0.0010\n",
      "Epoch 4/5\n",
      "14/14 [==============================] - 0s 14ms/step - loss: 0.0659 - accuracy: 0.9546 - batch_metric-mean_IoU: 0.4260 - batch_metric-DSC: 0.4223 - val_loss: 0.0702 - val_accuracy: 0.9360 - val_batch_metric-mean_IoU: 0.7028 - val_batch_metric-DSC: 0.6836 - lr: 0.0010\n",
      "Epoch 5/5\n",
      "14/14 [==============================] - 0s 15ms/step - loss: 0.0361 - accuracy: 0.9796 - batch_metric-mean_IoU: 0.7332 - batch_metric-DSC: 0.6756 - val_loss: 0.0255 - val_accuracy: 0.9870 - val_batch_metric-mean_IoU: 0.9128 - val_batch_metric-DSC: 0.7566 - lr: 0.0010\n",
      "7/7 [==============================] - 0s 4ms/step\n",
      "=== evaluation stats\n",
      "= metrics on test set (size: 28)\n",
      "= batch_metric-mean_IoU ~ mean 0.773 median 0.882 std 0.322\n",
      "= batch_metric-DSC ~ mean 0.686 median 0.638 std 0.245\n",
      "=== experiment #3 / 8: with_valid\n",
      "= dataset training: X ~ (54, 120, 120, 1), y ~ (54, 76, 76, 3)\n",
      "= dataset validation: X ~ (10, 120, 120, 1), y ~ (10, 76, 76, 3)\n",
      "= dataset test: X ~ (28, 120, 120, 1), y ~ (28, 76, 76, 3)\n",
      "=== model\n",
      "= # layers: 26\n",
      "= # total params: 1882115\n",
      "= # trainable params: 1882115\n",
      "= # non-trainable params: 0\n",
      "Epoch 1/5\n",
      "14/14 [==============================] - 1s 72ms/step - loss: 0.4241 - accuracy: 0.9501 - batch_metric-mean_IoU: 0.5350 - batch_metric-DSC: 0.5583 - val_loss: 0.3821 - val_accuracy: 0.9325 - val_batch_metric-mean_IoU: 0.3333 - val_batch_metric-DSC: 0.3349 - lr: 0.0010\n",
      "Epoch 2/5\n",
      "14/14 [==============================] - 0s 13ms/step - loss: 0.1825 - accuracy: 0.9541 - batch_metric-mean_IoU: 0.4286 - batch_metric-DSC: 0.4345 - val_loss: 0.1670 - val_accuracy: 0.9325 - val_batch_metric-mean_IoU: 0.3333 - val_batch_metric-DSC: 0.3349 - lr: 0.0010\n",
      "Epoch 3/5\n",
      "14/14 [==============================] - 0s 13ms/step - loss: 0.1080 - accuracy: 0.9541 - batch_metric-mean_IoU: 0.6429 - batch_metric-DSC: 0.6436 - val_loss: 0.1248 - val_accuracy: 0.9325 - val_batch_metric-mean_IoU: 0.3333 - val_batch_metric-DSC: 0.3349 - lr: 0.0010\n",
      "Epoch 4/5\n",
      "14/14 [==============================] - 0s 12ms/step - loss: 0.0722 - accuracy: 0.9541 - batch_metric-mean_IoU: 0.6055 - batch_metric-DSC: 0.6188 - val_loss: 0.0771 - val_accuracy: 0.9325 - val_batch_metric-mean_IoU: 0.7039 - val_batch_metric-DSC: 0.6846 - lr: 0.0010\n",
      "Epoch 5/5\n",
      "14/14 [==============================] - 0s 13ms/step - loss: 0.0419 - accuracy: 0.9706 - batch_metric-mean_IoU: 0.8359 - batch_metric-DSC: 0.7760 - val_loss: 0.0250 - val_accuracy: 0.9879 - val_batch_metric-mean_IoU: 0.9551 - val_batch_metric-DSC: 0.7675 - lr: 0.0010\n",
      "7/7 [==============================] - 0s 3ms/step\n",
      "=== evaluation stats\n",
      "= metrics on test set (size: 28)\n",
      "= batch_metric-mean_IoU ~ mean 0.843 median 0.950 std 0.304\n",
      "= batch_metric-DSC ~ mean 0.742 median 0.655 std 0.298\n",
      "=== experiment #4 / 8: without_valid\n",
      "= dataset training: X ~ (54, 120, 120, 1), y ~ (54, 76, 76, 3)\n",
      "= dataset validation: X ~ (10, 120, 120, 1), y ~ (10, 76, 76, 3)\n",
      "= dataset test: X ~ (28, 120, 120, 1), y ~ (28, 76, 76, 3)\n",
      "=== model\n",
      "= # layers: 22\n",
      "= # total params: 1697795\n",
      "= # trainable params: 1697795\n",
      "= # non-trainable params: 0\n",
      "Epoch 1/5\n",
      "14/14 [==============================] - 1s 46ms/step - loss: 0.3923 - accuracy: 0.8807 - batch_metric-mean_IoU: 0.3003 - batch_metric-DSC: 0.3086 - val_loss: 0.1809 - val_accuracy: 0.9325 - val_batch_metric-mean_IoU: 0.3333 - val_batch_metric-DSC: 0.3349 - lr: 0.0010\n",
      "Epoch 2/5\n",
      "14/14 [==============================] - 0s 12ms/step - loss: 0.1305 - accuracy: 0.9541 - batch_metric-mean_IoU: 0.2857 - batch_metric-DSC: 0.2923 - val_loss: 0.1401 - val_accuracy: 0.9325 - val_batch_metric-mean_IoU: 0.3333 - val_batch_metric-DSC: 0.3349 - lr: 0.0010\n",
      "Epoch 3/5\n",
      "14/14 [==============================] - 0s 12ms/step - loss: 0.1370 - accuracy: 0.9541 - batch_metric-mean_IoU: 0.5653 - batch_metric-DSC: 0.5593 - val_loss: 0.1507 - val_accuracy: 0.9325 - val_batch_metric-mean_IoU: 0.3333 - val_batch_metric-DSC: 0.3349 - lr: 0.0010\n",
      "Epoch 4/5\n",
      "14/14 [==============================] - 0s 12ms/step - loss: 0.1194 - accuracy: 0.9541 - batch_metric-mean_IoU: 0.5203 - batch_metric-DSC: 0.5354 - val_loss: 0.2206 - val_accuracy: 0.9325 - val_batch_metric-mean_IoU: 0.3664 - val_batch_metric-DSC: 0.3912 - lr: 0.0010\n",
      "Epoch 5/5\n",
      "14/14 [==============================] - 0s 12ms/step - loss: 0.0943 - accuracy: 0.9541 - batch_metric-mean_IoU: 0.7638 - batch_metric-DSC: 0.7863 - val_loss: 0.0947 - val_accuracy: 0.9325 - val_batch_metric-mean_IoU: 0.4305 - val_batch_metric-DSC: 0.3782 - lr: 0.0010\n",
      "7/7 [==============================] - 0s 3ms/step\n",
      "=== evaluation stats\n",
      "= metrics on test set (size: 28)\n",
      "= batch_metric-mean_IoU ~ mean 0.701 median 0.667 std 0.333\n",
      "= batch_metric-DSC ~ mean 0.687 median 0.572 std 0.331\n",
      "=== experiment #5 / 8: with_same_se\n",
      "= dataset training: X ~ (54, 120, 120, 1), y ~ (54, 120, 120, 3)\n",
      "= dataset validation: X ~ (10, 120, 120, 1), y ~ (10, 120, 120, 3)\n",
      "= dataset test: X ~ (28, 120, 120, 1), y ~ (28, 120, 120, 3)\n",
      "=== model\n",
      "= # layers: 53\n",
      "= # total params: 1897987\n",
      "= # trainable params: 1897987\n",
      "= # non-trainable params: 0\n",
      "Epoch 1/5\n",
      "14/14 [==============================] - 1s 61ms/step - loss: 0.4568 - accuracy: 0.8890 - batch_metric-mean_IoU: 0.0148 - batch_metric-DSC: 0.0287 - val_loss: 0.3085 - val_accuracy: 0.9360 - val_batch_metric-mean_IoU: 2.8438e-09 - val_batch_metric-DSC: 0.0263 - lr: 0.0010\n",
      "Epoch 2/5\n",
      "14/14 [==============================] - 0s 19ms/step - loss: 0.1458 - accuracy: 0.9546 - batch_metric-mean_IoU: 0.0299 - batch_metric-DSC: 0.0563 - val_loss: 0.1152 - val_accuracy: 0.9360 - val_batch_metric-mean_IoU: 0.1215 - val_batch_metric-DSC: 0.1782 - lr: 0.0010\n",
      "Epoch 3/5\n",
      "14/14 [==============================] - 0s 20ms/step - loss: 0.0942 - accuracy: 0.9546 - batch_metric-mean_IoU: 0.2009 - batch_metric-DSC: 0.2551 - val_loss: 0.0912 - val_accuracy: 0.9360 - val_batch_metric-mean_IoU: 0.3984 - val_batch_metric-DSC: 0.3655 - lr: 0.0010\n",
      "Epoch 4/5\n",
      "14/14 [==============================] - 0s 20ms/step - loss: 0.0650 - accuracy: 0.9546 - batch_metric-mean_IoU: 0.3995 - batch_metric-DSC: 0.4199 - val_loss: 0.0619 - val_accuracy: 0.9360 - val_batch_metric-mean_IoU: 0.5419 - val_batch_metric-DSC: 0.5795 - lr: 0.0010\n",
      "Epoch 5/5\n",
      "14/14 [==============================] - 0s 19ms/step - loss: 0.0311 - accuracy: 0.9775 - batch_metric-mean_IoU: 0.8581 - batch_metric-DSC: 0.6544 - val_loss: 0.0202 - val_accuracy: 0.9887 - val_batch_metric-mean_IoU: 0.9562 - val_batch_metric-DSC: 0.7676 - lr: 0.0010\n",
      "7/7 [==============================] - 0s 4ms/step\n",
      "=== evaluation stats\n",
      "= metrics on test set (size: 28)\n",
      "= batch_metric-mean_IoU ~ mean 0.812 median 0.916 std 0.294\n",
      "= batch_metric-DSC ~ mean 0.697 median 0.647 std 0.206\n",
      "=== experiment #6 / 8: without_same_se\n",
      "= dataset training: X ~ (54, 120, 120, 1), y ~ (54, 120, 120, 3)\n",
      "= dataset validation: X ~ (10, 120, 120, 1), y ~ (10, 120, 120, 3)\n",
      "= dataset test: X ~ (28, 120, 120, 1), y ~ (28, 120, 120, 3)\n",
      "=== model\n",
      "= # layers: 49\n",
      "= # total params: 1713667\n",
      "= # trainable params: 1713667\n",
      "= # non-trainable params: 0\n",
      "Epoch 1/5\n"
     ]
    },
    {
     "name": "stdout",
     "output_type": "stream",
     "text": [
      "14/14 [==============================] - 1s 55ms/step - loss: 0.4078 - accuracy: 0.9486 - batch_metric-mean_IoU: 0.0953 - batch_metric-DSC: 0.1171 - val_loss: 0.2310 - val_accuracy: 0.9360 - val_batch_metric-mean_IoU: 0.0105 - val_batch_metric-DSC: 0.0293 - lr: 0.0010\n",
      "Epoch 2/5\n",
      "14/14 [==============================] - 0s 18ms/step - loss: 0.1337 - accuracy: 0.9546 - batch_metric-mean_IoU: 0.0943 - batch_metric-DSC: 0.1341 - val_loss: 0.1680 - val_accuracy: 0.9360 - val_batch_metric-mean_IoU: 0.0243 - val_batch_metric-DSC: 0.0486 - lr: 0.0010\n",
      "Epoch 3/5\n",
      "14/14 [==============================] - 0s 18ms/step - loss: 0.1087 - accuracy: 0.9546 - batch_metric-mean_IoU: 0.0553 - batch_metric-DSC: 0.0964 - val_loss: 0.1246 - val_accuracy: 0.9360 - val_batch_metric-mean_IoU: 0.1010 - val_batch_metric-DSC: 0.1594 - lr: 0.0010\n",
      "Epoch 4/5\n",
      "14/14 [==============================] - 0s 18ms/step - loss: 0.0856 - accuracy: 0.9546 - batch_metric-mean_IoU: 0.1792 - batch_metric-DSC: 0.2287 - val_loss: 0.0872 - val_accuracy: 0.9360 - val_batch_metric-mean_IoU: 0.2753 - val_batch_metric-DSC: 0.3386 - lr: 0.0010\n",
      "Epoch 5/5\n",
      "14/14 [==============================] - 0s 18ms/step - loss: 0.0841 - accuracy: 0.9547 - batch_metric-mean_IoU: 0.1905 - batch_metric-DSC: 0.2483 - val_loss: 0.1043 - val_accuracy: 0.9360 - val_batch_metric-mean_IoU: 0.0344 - val_batch_metric-DSC: 0.2285 - lr: 0.0010\n",
      "7/7 [==============================] - 0s 4ms/step\n",
      "=== evaluation stats\n",
      "= metrics on test set (size: 28)\n",
      "= batch_metric-mean_IoU ~ mean 0.055 median 0.005 std 0.087\n",
      "= batch_metric-DSC ~ mean 0.234 median 0.227 std 0.174\n",
      "=== experiment #7 / 8: with_valid_se\n",
      "= dataset training: X ~ (54, 120, 120, 1), y ~ (54, 76, 76, 3)\n",
      "= dataset validation: X ~ (10, 120, 120, 1), y ~ (10, 76, 76, 3)\n",
      "= dataset test: X ~ (28, 120, 120, 1), y ~ (28, 76, 76, 3)\n",
      "=== model\n",
      "= # layers: 54\n",
      "= # total params: 1897987\n",
      "= # trainable params: 1897987\n",
      "= # non-trainable params: 0\n",
      "Epoch 1/5\n",
      "14/14 [==============================] - 1s 56ms/step - loss: 0.4071 - accuracy: 0.8975 - batch_metric-mean_IoU: 0.4495 - batch_metric-DSC: 0.4636 - val_loss: 0.3226 - val_accuracy: 0.9325 - val_batch_metric-mean_IoU: 0.3333 - val_batch_metric-DSC: 0.3349 - lr: 0.0010\n",
      "Epoch 2/5\n",
      "14/14 [==============================] - 0s 17ms/step - loss: 0.1654 - accuracy: 0.9541 - batch_metric-mean_IoU: 0.3571 - batch_metric-DSC: 0.3638 - val_loss: 0.1509 - val_accuracy: 0.9325 - val_batch_metric-mean_IoU: 0.3333 - val_batch_metric-DSC: 0.3349 - lr: 0.0010\n",
      "Epoch 3/5\n",
      "14/14 [==============================] - 0s 16ms/step - loss: 0.1028 - accuracy: 0.9541 - batch_metric-mean_IoU: 0.3456 - batch_metric-DSC: 0.3654 - val_loss: 0.0985 - val_accuracy: 0.9325 - val_batch_metric-mean_IoU: 0.5097 - val_batch_metric-DSC: 0.5623 - lr: 0.0010\n",
      "Epoch 4/5\n",
      "14/14 [==============================] - 0s 16ms/step - loss: 0.0836 - accuracy: 0.9541 - batch_metric-mean_IoU: 0.5496 - batch_metric-DSC: 0.5594 - val_loss: 0.1582 - val_accuracy: 0.9325 - val_batch_metric-mean_IoU: 0.3333 - val_batch_metric-DSC: 0.3349 - lr: 0.0010\n",
      "Epoch 5/5\n",
      "14/14 [==============================] - 0s 16ms/step - loss: 0.0999 - accuracy: 0.9541 - batch_metric-mean_IoU: 0.4505 - batch_metric-DSC: 0.4579 - val_loss: 0.0670 - val_accuracy: 0.9325 - val_batch_metric-mean_IoU: 0.8452 - val_batch_metric-DSC: 0.7373 - lr: 0.0010\n"
     ]
    }
   ],
   "source": [
    "do_batch_experiments(experiments, (X, y), config, out_path)"
   ]
  },
  {
   "cell_type": "code",
   "execution_count": null,
   "metadata": {
    "scrolled": true
   },
   "outputs": [],
   "source": [
    "create_tex_experiments(config, out_path, out_path / 'tables.tex')"
   ]
  }
 ],
 "metadata": {
  "kernelspec": {
   "display_name": "attila",
   "language": "python",
   "name": "attila"
  },
  "language_info": {
   "codemirror_mode": {
    "name": "ipython",
    "version": 3
   },
   "file_extension": ".py",
   "mimetype": "text/x-python",
   "name": "python",
   "nbconvert_exporter": "python",
   "pygments_lexer": "ipython3",
   "version": "3.7.4"
  }
 },
 "nbformat": 4,
 "nbformat_minor": 4
}
