{
 "cells": [
  {
   "cell_type": "code",
   "execution_count": 1,
   "metadata": {},
   "outputs": [],
   "source": [
    "%load_ext autoreload\n",
    "%reload_ext autoreload\n",
    "%autoreload 2"
   ]
  },
  {
   "cell_type": "code",
   "execution_count": 2,
   "metadata": {},
   "outputs": [],
   "source": [
    "%matplotlib inline\n",
    "\n",
    "from pathlib import Path\n",
    "\n",
    "from attila.data.parse import parse_data, get_data\n",
    "from attila.util.config import get_config\n",
    "from attila.util.plots import plot_sample\n",
    "from attila.experiments.data import load_experiments\n",
    "from attila.experiments.do import do_batch_experiments\n",
    "from attila.experiments.tools import create_tex_experiments"
   ]
  },
  {
   "cell_type": "code",
   "execution_count": 3,
   "metadata": {},
   "outputs": [],
   "source": [
    "_here = Path('.').resolve()\n",
    "config = get_config(_here / 'config.ini')\n",
    "\n",
    "data_path = _here / config.get('data', 'folder')\n",
    "data_path = data_path.resolve()\n",
    "\n",
    "out_path = Path(config.get('experiments', 'output folder')).resolve()\n",
    "out_path.mkdir(parents=True, exist_ok=True)\n",
    "\n",
    "images_path = data_path / config.get('data', 'images')\n",
    "masks_path = data_path / config.get('data', 'masks')"
   ]
  },
  {
   "cell_type": "code",
   "execution_count": 4,
   "metadata": {},
   "outputs": [],
   "source": [
    "raw = get_data(images_path, masks_path)\n",
    "X, y = parse_data(\n",
    "    raw,\n",
    "    (config.getint('image', 'width'), config.getint('image', 'height'))\n",
    ")"
   ]
  },
  {
   "cell_type": "code",
   "execution_count": 5,
   "metadata": {},
   "outputs": [],
   "source": [
    "experiments_file = _here / 'experiments.json'\n",
    "experiments = load_experiments(experiments_file)"
   ]
  },
  {
   "cell_type": "code",
   "execution_count": null,
   "metadata": {
    "scrolled": true
   },
   "outputs": [
    {
     "name": "stdout",
     "output_type": "stream",
     "text": [
      "testing data: X ~ (28, 512, 512, 1), y ~ (28, 512, 512, 3)\n",
      "ready to perform #1 / 1 batch of experiments\n",
      "augmented training data: X ~ (216, 512, 512, 1), y ~ (216, 512, 512, 3)\n",
      "ready to perform 8 experiments\n",
      "=== experiment #1 / 8: with_same\n",
      "= dataset training: X ~ (216, 512, 512, 1), y ~ (216, 512, 512, 3)\n",
      "= dataset validation: X ~ (10, 512, 512, 1), y ~ (10, 512, 512, 3)\n",
      "= dataset test: X ~ (28, 512, 512, 1), y ~ (28, 512, 512, 3)\n",
      "=== model\n",
      "= # layers: 45\n",
      "= # total params: 31377923\n",
      "= # trainable params: 31377923\n",
      "= # non-trainable params: 0\n",
      "Epoch 1/2\n",
      "54/54 [==============================] - 18s 327ms/step - loss: 2.2247 - accuracy: 0.8807 - batch_metric-mean_IoU: 0.6721 - batch_metric-DSC: 0.7877 - val_loss: 0.1538 - val_accuracy: 0.9511 - val_batch_metric-mean_IoU: 0.6062 - val_batch_metric-DSC: 0.7471 - lr: 0.0010\n",
      "Epoch 2/2\n",
      "54/54 [==============================] - 16s 290ms/step - loss: 0.1730 - accuracy: 0.9373 - batch_metric-mean_IoU: 0.6865 - batch_metric-DSC: 0.8038 - val_loss: 0.1410 - val_accuracy: 0.9511 - val_batch_metric-mean_IoU: 0.6062 - val_batch_metric-DSC: 0.7471 - lr: 0.0010\n",
      "7/7 [==============================] - 1s 84ms/step\n",
      "=== evaluation stats\n",
      "= metrics on test set (size: 28)\n",
      "= batch_metric-mean_IoU ~ mean 0.691 median 0.664 std 0.114\n",
      "= batch_metric-DSC ~ mean 0.812 median 0.798 std 0.080\n",
      "=== experiment #2 / 8: without_same\n",
      "= dataset training: X ~ (216, 512, 512, 1), y ~ (216, 512, 512, 3)\n",
      "= dataset validation: X ~ (10, 512, 512, 1), y ~ (10, 512, 512, 3)\n",
      "= dataset test: X ~ (28, 512, 512, 1), y ~ (28, 512, 512, 3)\n",
      "=== model\n",
      "= # layers: 37\n",
      "= # total params: 28244483\n",
      "= # trainable params: 28244483\n",
      "= # non-trainable params: 0\n"
     ]
    }
   ],
   "source": [
    "do_batch_experiments(experiments, (X, y), config, out_path)"
   ]
  },
  {
   "cell_type": "code",
   "execution_count": null,
   "metadata": {
    "scrolled": true
   },
   "outputs": [],
   "source": [
    "create_tex_experiments(config, out_path, out_path / 'tables.tex')"
   ]
  }
 ],
 "metadata": {
  "kernelspec": {
   "display_name": "attila",
   "language": "python",
   "name": "attila"
  },
  "language_info": {
   "codemirror_mode": {
    "name": "ipython",
    "version": 3
   },
   "file_extension": ".py",
   "mimetype": "text/x-python",
   "name": "python",
   "nbconvert_exporter": "python",
   "pygments_lexer": "ipython3",
   "version": "3.7.4"
  }
 },
 "nbformat": 4,
 "nbformat_minor": 4
}
