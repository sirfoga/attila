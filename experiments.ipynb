{
 "cells": [
  {
   "cell_type": "code",
   "execution_count": 1,
   "metadata": {},
   "outputs": [],
   "source": [
    "%load_ext autoreload\n",
    "%reload_ext autoreload\n",
    "%autoreload 2"
   ]
  },
  {
   "cell_type": "code",
   "execution_count": 2,
   "metadata": {},
   "outputs": [],
   "source": [
    "%matplotlib inline\n",
    "\n",
    "from pathlib import Path\n",
    "\n",
    "from attila.data.parse import parse_data, get_data\n",
    "from attila.util.config import get_config\n",
    "from attila.util.plots import plot_sample\n",
    "from attila.experiments.data import load_experiments\n",
    "from attila.experiments.do import do_batch_experiments\n",
    "from attila.experiments.tools import create_tex_experiments"
   ]
  },
  {
   "cell_type": "code",
   "execution_count": 3,
   "metadata": {},
   "outputs": [],
   "source": [
    "_here = Path('.').resolve()\n",
    "config = get_config(_here / 'config.ini')\n",
    "\n",
    "data_path = _here / config.get('data', 'folder')\n",
    "data_path = data_path.resolve()\n",
    "\n",
    "out_path = Path(config.get('experiments', 'output folder')).resolve()\n",
    "out_path.mkdir(parents=True, exist_ok=True)  # rm and mkdir if existing\n",
    "\n",
    "images_path = data_path / config.get('data', 'images')\n",
    "masks_path = data_path / config.get('data', 'masks')"
   ]
  },
  {
   "cell_type": "code",
   "execution_count": 4,
   "metadata": {},
   "outputs": [],
   "source": [
    "raw = get_data(images_path, masks_path)\n",
    "X, y = parse_data(\n",
    "    raw,\n",
    "    (config.getint('image', 'width'), config.getint('image', 'height'))\n",
    ")"
   ]
  },
  {
   "cell_type": "code",
   "execution_count": 5,
   "metadata": {},
   "outputs": [],
   "source": [
    "experiments_file = _here / 'experiments.json'\n",
    "experiments = load_experiments(experiments_file)"
   ]
  },
  {
   "cell_type": "code",
   "execution_count": null,
   "metadata": {
    "scrolled": true
   },
   "outputs": [
    {
     "name": "stdout",
     "output_type": "stream",
     "text": [
      "testing data: X ~ (28, 256, 256, 1), y ~ (28, 256, 256, 3)\n",
      "ready to perform #1 / 3 batch of experiments\n",
      "augmented training data: X ~ (216, 256, 256, 1), y ~ (216, 256, 256, 3)\n",
      "ready to perform 8 experiments\n",
      "=== experiment #1 / 8: with_same\n",
      "= dataset training: X ~ (216, 256, 256, 1), y ~ (216, 256, 256, 3)\n",
      "= dataset validation: X ~ (10, 256, 256, 1), y ~ (10, 256, 256, 3)\n",
      "= dataset test: X ~ (28, 256, 256, 1), y ~ (28, 256, 256, 3)\n",
      "=== model\n",
      "= # layers: 25\n",
      "= # total params: 1882115\n",
      "= # trainable params: 1882115\n",
      "= # non-trainable params: 0\n",
      "Epoch 1/10\n",
      "53/54 [============================>.] - ETA: 0s - loss: 0.1009 - accuracy: 0.9592 - batch_metric-mean_IoU: 0.5035 - batch_metric-mean_DSC: 0.3917\n",
      "Epoch 00001: loss improved from inf to 0.09945, saving model to /home/h4/stfo194b/scratch/attila/out/run-0/with_same/model.h5\n",
      "54/54 [==============================] - 4s 65ms/step - loss: 0.0994 - accuracy: 0.9597 - batch_metric-mean_IoU: 0.5056 - batch_metric-mean_DSC: 0.3934 - val_loss: 0.0149 - val_accuracy: 0.9916 - val_batch_metric-mean_IoU: 0.6676 - val_batch_metric-mean_DSC: 0.5143 - lr: 0.0010\n",
      "Epoch 2/10\n",
      "53/54 [============================>.] - ETA: 0s - loss: 0.0096 - accuracy: 0.9939 - batch_metric-mean_IoU: 0.7124 - batch_metric-mean_DSC: 0.5443\n",
      "Epoch 00002: loss improved from 0.09945 to 0.00954, saving model to /home/h4/stfo194b/scratch/attila/out/run-0/with_same/model.h5\n",
      "54/54 [==============================] - 3s 50ms/step - loss: 0.0095 - accuracy: 0.9939 - batch_metric-mean_IoU: 0.7134 - batch_metric-mean_DSC: 0.5450 - val_loss: 0.0104 - val_accuracy: 0.9932 - val_batch_metric-mean_IoU: 0.7019 - val_batch_metric-mean_DSC: 0.5323 - lr: 0.0010\n",
      "Epoch 3/10\n",
      "53/54 [============================>.] - ETA: 0s - loss: 0.0069 - accuracy: 0.9957 - batch_metric-mean_IoU: 0.7692 - batch_metric-mean_DSC: 0.5819\n",
      "Epoch 00003: loss improved from 0.00954 to 0.00698, saving model to /home/h4/stfo194b/scratch/attila/out/run-0/with_same/model.h5\n",
      "54/54 [==============================] - 3s 50ms/step - loss: 0.0070 - accuracy: 0.9957 - batch_metric-mean_IoU: 0.7694 - batch_metric-mean_DSC: 0.5821 - val_loss: 0.0067 - val_accuracy: 0.9959 - val_batch_metric-mean_IoU: 0.7651 - val_batch_metric-mean_DSC: 0.5778 - lr: 0.0010\n",
      "Epoch 4/10\n",
      "53/54 [============================>.] - ETA: 0s - loss: 0.0069 - accuracy: 0.9957 - batch_metric-mean_IoU: 0.7756 - batch_metric-mean_DSC: 0.5852\n",
      "Epoch 00004: loss improved from 0.00698 to 0.00688, saving model to /home/h4/stfo194b/scratch/attila/out/run-0/with_same/model.h5\n",
      "54/54 [==============================] - 3s 50ms/step - loss: 0.0069 - accuracy: 0.9957 - batch_metric-mean_IoU: 0.7762 - batch_metric-mean_DSC: 0.5855 - val_loss: 0.0068 - val_accuracy: 0.9957 - val_batch_metric-mean_IoU: 0.7464 - val_batch_metric-mean_DSC: 0.5641 - lr: 0.0010\n",
      "Epoch 5/10\n",
      "53/54 [============================>.] - ETA: 0s - loss: 0.0053 - accuracy: 0.9968 - batch_metric-mean_IoU: 0.8135 - batch_metric-mean_DSC: 0.6055\n",
      "Epoch 00005: loss improved from 0.00688 to 0.00524, saving model to /home/h4/stfo194b/scratch/attila/out/run-0/with_same/model.h5\n",
      "54/54 [==============================] - 3s 50ms/step - loss: 0.0052 - accuracy: 0.9968 - batch_metric-mean_IoU: 0.8140 - batch_metric-mean_DSC: 0.6057 - val_loss: 0.0083 - val_accuracy: 0.9945 - val_batch_metric-mean_IoU: 0.7354 - val_batch_metric-mean_DSC: 0.5580 - lr: 0.0010\n",
      "Epoch 6/10\n",
      "53/54 [============================>.] - ETA: 0s - loss: 0.0057 - accuracy: 0.9965 - batch_metric-mean_IoU: 0.8045 - batch_metric-mean_DSC: 0.6001\n",
      "Epoch 00006: loss did not improve from 0.00524\n",
      "54/54 [==============================] - 3s 48ms/step - loss: 0.0057 - accuracy: 0.9965 - batch_metric-mean_IoU: 0.8048 - batch_metric-mean_DSC: 0.6002 - val_loss: 0.0052 - val_accuracy: 0.9970 - val_batch_metric-mean_IoU: 0.7984 - val_batch_metric-mean_DSC: 0.5949 - lr: 0.0010\n",
      "Epoch 7/10\n",
      "53/54 [============================>.] - ETA: 0s - loss: 0.0045 - accuracy: 0.9972 - batch_metric-mean_IoU: 0.8342 - batch_metric-mean_DSC: 0.6151\n",
      "Epoch 00007: loss improved from 0.00524 to 0.00455, saving model to /home/h4/stfo194b/scratch/attila/out/run-0/with_same/model.h5\n",
      "54/54 [==============================] - 3s 50ms/step - loss: 0.0045 - accuracy: 0.9972 - batch_metric-mean_IoU: 0.8339 - batch_metric-mean_DSC: 0.6150 - val_loss: 0.0055 - val_accuracy: 0.9966 - val_batch_metric-mean_IoU: 0.8225 - val_batch_metric-mean_DSC: 0.6103 - lr: 0.0010\n",
      "Epoch 8/10\n",
      "53/54 [============================>.] - ETA: 0s - loss: 0.0045 - accuracy: 0.9972 - batch_metric-mean_IoU: 0.8359 - batch_metric-mean_DSC: 0.6159\n",
      "Epoch 00008: loss improved from 0.00455 to 0.00443, saving model to /home/h4/stfo194b/scratch/attila/out/run-0/with_same/model.h5\n",
      "54/54 [==============================] - 3s 50ms/step - loss: 0.0044 - accuracy: 0.9972 - batch_metric-mean_IoU: 0.8359 - batch_metric-mean_DSC: 0.6159 - val_loss: 0.0064 - val_accuracy: 0.9963 - val_batch_metric-mean_IoU: 0.7754 - val_batch_metric-mean_DSC: 0.5803 - lr: 0.0010\n",
      "Epoch 9/10\n",
      "54/54 [==============================] - ETA: 0s - loss: 0.0042 - accuracy: 0.9974 - batch_metric-mean_IoU: 0.8422 - batch_metric-mean_DSC: 0.6185\n",
      "Epoch 00009: loss improved from 0.00443 to 0.00423, saving model to /home/h4/stfo194b/scratch/attila/out/run-0/with_same/model.h5\n",
      "54/54 [==============================] - 3s 50ms/step - loss: 0.0042 - accuracy: 0.9974 - batch_metric-mean_IoU: 0.8422 - batch_metric-mean_DSC: 0.6185 - val_loss: 0.0049 - val_accuracy: 0.9970 - val_batch_metric-mean_IoU: 0.8144 - val_batch_metric-mean_DSC: 0.6058 - lr: 0.0010\n",
      "Epoch 10/10\n",
      "53/54 [============================>.] - ETA: 0s - loss: 0.0039 - accuracy: 0.9975 - batch_metric-mean_IoU: 0.8499 - batch_metric-mean_DSC: 0.6217\n",
      "Epoch 00010: loss improved from 0.00423 to 0.00397, saving model to /home/h4/stfo194b/scratch/attila/out/run-0/with_same/model.h5\n",
      "54/54 [==============================] - 3s 50ms/step - loss: 0.0040 - accuracy: 0.9975 - batch_metric-mean_IoU: 0.8495 - batch_metric-mean_DSC: 0.6215 - val_loss: 0.0047 - val_accuracy: 0.9971 - val_batch_metric-mean_IoU: 0.8020 - val_batch_metric-mean_DSC: 0.5981 - lr: 0.0010\n",
      "7/7 [==============================] - 0s 13ms/step\n",
      "=== evaluation stats\n",
      "= metrics on test set (size: 28)\n",
      "= batch_metric-mean_IoU ~ mean 0.840 median 0.842 std 0.022\n",
      "= batch_metric-mean_DSC ~ mean 0.618 median 0.619 std 0.009\n",
      "=== experiment #2 / 8: without_same\n",
      "= dataset training: X ~ (216, 256, 256, 1), y ~ (216, 256, 256, 3)\n",
      "= dataset validation: X ~ (10, 256, 256, 1), y ~ (10, 256, 256, 3)\n",
      "= dataset test: X ~ (28, 256, 256, 1), y ~ (28, 256, 256, 3)\n",
      "=== model\n",
      "= # layers: 21\n",
      "= # total params: 1697795\n",
      "= # trainable params: 1697795\n",
      "= # non-trainable params: 0\n",
      "Epoch 1/10\n",
      "53/54 [============================>.] - ETA: 0s - loss: 0.1497 - accuracy: 0.9604 - batch_metric-mean_IoU: 0.4078 - batch_metric-mean_DSC: 0.3359\n",
      "Epoch 00001: loss improved from inf to 0.14790, saving model to /home/h4/stfo194b/scratch/attila/out/run-0/without_same/model.h5\n",
      "54/54 [==============================] - 3s 57ms/step - loss: 0.1479 - accuracy: 0.9607 - batch_metric-mean_IoU: 0.4097 - batch_metric-mean_DSC: 0.3373 - val_loss: 0.0320 - val_accuracy: 0.9827 - val_batch_metric-mean_IoU: 0.5384 - val_batch_metric-mean_DSC: 0.4368 - lr: 0.0010\n",
      "Epoch 2/10\n",
      "39/54 [====================>.........] - ETA: 0s - loss: 0.0219 - accuracy: 0.9877 - batch_metric-mean_IoU: 0.5870 - batch_metric-mean_DSC: 0.4516"
     ]
    }
   ],
   "source": [
    "do_batch_experiments(experiments, (X, y), config, out_path)"
   ]
  },
  {
   "cell_type": "code",
   "execution_count": null,
   "metadata": {
    "scrolled": true
   },
   "outputs": [],
   "source": [
    "create_tex_experiments(config, out_path)"
   ]
  }
 ],
 "metadata": {
  "kernelspec": {
   "display_name": "attila",
   "language": "python",
   "name": "attila"
  },
  "language_info": {
   "codemirror_mode": {
    "name": "ipython",
    "version": 3
   },
   "file_extension": ".py",
   "mimetype": "text/x-python",
   "name": "python",
   "nbconvert_exporter": "python",
   "pygments_lexer": "ipython3",
   "version": "3.7.4"
  }
 },
 "nbformat": 4,
 "nbformat_minor": 4
}
