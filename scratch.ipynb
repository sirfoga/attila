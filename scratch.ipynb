{
 "cells": [
  {
   "cell_type": "code",
   "execution_count": 171,
   "metadata": {},
   "outputs": [
    {
     "name": "stdout",
     "output_type": "stream",
     "text": [
      "The autoreload extension is already loaded. To reload it, use:\n",
      "  %reload_ext autoreload\n"
     ]
    }
   ],
   "source": [
    "%load_ext autoreload\n",
    "%reload_ext autoreload\n",
    "%autoreload 2"
   ]
  },
  {
   "cell_type": "code",
   "execution_count": 5,
   "metadata": {},
   "outputs": [],
   "source": [
    "%matplotlib inline\n",
    "\n",
    "from pathlib import Path"
   ]
  },
  {
   "cell_type": "code",
   "execution_count": 411,
   "metadata": {},
   "outputs": [],
   "source": [
    "from attila.util.config import get_env\n",
    "from attila.util.plots import plot_history, plot_preds\n",
    "from attila.util.io import load_pickle, append_rows2text, load_json, get_summary, dirs, stuff2pickle\n",
    "from attila.experiments.tools import runs2tex"
   ]
  },
  {
   "cell_type": "code",
   "execution_count": 7,
   "metadata": {},
   "outputs": [],
   "source": [
    "_here = Path('.').resolve()"
   ]
  },
  {
   "cell_type": "code",
   "execution_count": 9,
   "metadata": {},
   "outputs": [],
   "source": [
    "config, data_path, out_path, models_config_path = get_env(_here)"
   ]
  },
  {
   "cell_type": "code",
   "execution_count": 182,
   "metadata": {},
   "outputs": [],
   "source": [
    "config.set('training', 'batch size', '4')\n",
    "config.set('training', 'epochs', '50')\n",
    "config.set('data', 'aug', 'False')"
   ]
  },
  {
   "cell_type": "code",
   "execution_count": null,
   "metadata": {},
   "outputs": [],
   "source": [
    "get_figa(1, 1)\n",
    "\n",
    "metrics = [\n",
    "    {\n",
    "        'name': 'attila_metrics_mean_IoU',\n",
    "        'callback': mean_IoU(get_batch_mean=False)\n",
    "    },\n",
    "    {\n",
    "        'name': 'attila_metrics_DSC',\n",
    "        'callback': DSC(get_batch_mean=False)\n",
    "    }\n",
    "]\n",
    "\n",
    "results = {\n",
    "    m: {\n",
    "        'mean': [],\n",
    "        'std': []\n",
    "    }\n",
    "    for m in [ x['name'] for x in metrics]\n",
    "}\n",
    "ratios = []\n",
    "\n",
    "for folder in dirs(out_path / 'trials' / 'to-aug-or-not'):\n",
    "    tt_ratio = np.float32(str(Path(folder).name).split('-')[-1])\n",
    "    ratios.append(tt_ratio)\n",
    "    summary = get_summary(folder, config)\n",
    "\n",
    "    y_true_batch = summary['preds'][1]\n",
    "    y_pred_batch = summary['preds'][2]\n",
    "\n",
    "    for m in metrics:\n",
    "        key = m['name']\n",
    "        f = m['callback']\n",
    "\n",
    "        vals = f(\n",
    "            normalize_transformation((0, 1))(y_true_batch),\n",
    "            normalize_transformation((0, 1))(y_pred_batch)\n",
    "        ).numpy()\n",
    "\n",
    "        results[key]['mean'].append(vals.mean())\n",
    "        results[key]['std'].append(vals.std())\n",
    "\n",
    "for m in metrics:\n",
    "    key = m['name']\n",
    "    plt.errorbar(\n",
    "        ratios,\n",
    "        results[key]['mean'],\n",
    "        yerr=results[key]['std'],\n",
    "        fmt='o',\n",
    "        label=key\n",
    "    )\n",
    "    plt.plot(ratios[np.argmax(results[key]['mean'])], np.max(results[key]['mean']), marker='x', color='r', markersize=12)\n",
    "\n",
    "plt.xlabel('validation set size (out of 18 training images)')\n",
    "plt.title('Vanilla U-Net')\n",
    "plt.legend()\n",
    "\n",
    "# stuff2pickle(results, 'to-aug-or-not.pkl')"
   ]
  },
  {
   "cell_type": "code",
   "execution_count": 413,
   "metadata": {},
   "outputs": [
    {
     "data": {
      "text/plain": [
       "[1e-06,\n",
       " 1.6238e-06,\n",
       " 2.6367e-06,\n",
       " 4.2813e-06,\n",
       " 6.9519e-06,\n",
       " 1.12884e-05,\n",
       " 1.83298e-05,\n",
       " 2.97635e-05,\n",
       " 4.83293e-05,\n",
       " 7.8476e-05,\n",
       " 0.0001274275,\n",
       " 0.0002069138,\n",
       " 0.0003359818,\n",
       " 0.0005455595,\n",
       " 0.0008858668,\n",
       " 0.00143845,\n",
       " 0.0023357214,\n",
       " 0.00379269,\n",
       " 0.0061584823,\n",
       " 0.01]"
      ]
     },
     "execution_count": 413,
     "metadata": {},
     "output_type": "execute_result"
    }
   ],
   "source": [
    "learning_rates"
   ]
  },
  {
   "cell_type": "code",
   "execution_count": 206,
   "metadata": {},
   "outputs": [
    {
     "name": "stdout",
     "output_type": "stream",
     "text": [
      "pred img saved in /home/stefano/_tmp/_martin/pred_0.png\n",
      "pred img saved in /home/stefano/_tmp/_martin/pred_1.png\n",
      "pred img saved in /home/stefano/_tmp/_martin/pred_2.png\n",
      "pred img saved in /home/stefano/_tmp/_martin/pred_3.png\n",
      "pred img saved in /home/stefano/_tmp/_martin/pred_4.png\n",
      "pred img saved in /home/stefano/_tmp/_martin/pred_5.png\n",
      "pred img saved in /home/stefano/_tmp/_martin/pred_6.png\n",
      "pred img saved in /home/stefano/_tmp/_martin/pred_7.png\n"
     ]
    }
   ],
   "source": [
    "plot_preds(\n",
    "    summary['preds'],\n",
    "    config.get('image', 'cmap'),\n",
    "    out_folder=model_folder\n",
    ")"
   ]
  }
 ],
 "metadata": {
  "kernelspec": {
   "display_name": "attila",
   "language": "python",
   "name": "attila"
  },
  "language_info": {
   "codemirror_mode": {
    "name": "ipython",
    "version": 3
   },
   "file_extension": ".py",
   "mimetype": "text/x-python",
   "name": "python",
   "nbconvert_exporter": "python",
   "pygments_lexer": "ipython3",
   "version": "3.8.5"
  }
 },
 "nbformat": 4,
 "nbformat_minor": 4
}
