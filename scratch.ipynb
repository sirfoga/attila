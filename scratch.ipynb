{
 "cells": [
  {
   "cell_type": "code",
   "execution_count": 171,
   "metadata": {},
   "outputs": [
    {
     "name": "stdout",
     "output_type": "stream",
     "text": [
      "The autoreload extension is already loaded. To reload it, use:\n",
      "  %reload_ext autoreload\n"
     ]
    }
   ],
   "source": [
    "%load_ext autoreload\n",
    "%reload_ext autoreload\n",
    "%autoreload 2"
   ]
  },
  {
   "cell_type": "code",
   "execution_count": 5,
   "metadata": {},
   "outputs": [],
   "source": [
    "%matplotlib inline\n",
    "\n",
    "from pathlib import Path"
   ]
  },
  {
   "cell_type": "code",
   "execution_count": 6,
   "metadata": {},
   "outputs": [],
   "source": [
    "from attila.util.config import get_env\n",
    "from attila.util.plots import plot_history, plot_preds\n",
    "from attila.util.io import load_pickle, append_rows2text, load_json, get_summary, dirs\n",
    "from attila.experiments.tools import experiment2tex, runs2tex"
   ]
  },
  {
   "cell_type": "code",
   "execution_count": 7,
   "metadata": {},
   "outputs": [],
   "source": [
    "_here = Path('.').resolve()"
   ]
  },
  {
   "cell_type": "code",
   "execution_count": 9,
   "metadata": {},
   "outputs": [],
   "source": [
    "config, data_path, out_path, models_config_path = get_env(_here)"
   ]
  },
  {
   "cell_type": "code",
   "execution_count": 182,
   "metadata": {},
   "outputs": [],
   "source": [
    "config.set('training', 'batch size', '4')\n",
    "config.set('training', 'epochs', '50')\n",
    "config.set('data', 'aug', 'False')"
   ]
  },
  {
   "cell_type": "code",
   "execution_count": 250,
   "metadata": {},
   "outputs": [
    {
     "name": "stdout",
     "output_type": "stream",
     "text": [
      "/home/stefano/scratch/attila/out/trials/lost/0.0000010000 0.74856436 0.020825576\n",
      "/home/stefano/scratch/attila/out/trials/lost/0.0000027826 0.88623524 0.01640314\n",
      "/home/stefano/scratch/attila/out/trials/lost/0.0000077426 0.8420622 0.0063037374\n",
      "/home/stefano/scratch/attila/out/trials/lost/0.0000215443 0.8728993 0.008409719\n",
      "/home/stefano/scratch/attila/out/trials/lost/0.0000599484 0.8577289 0.005410955\n",
      "/home/stefano/scratch/attila/out/trials/lost/0.0001668101 0.8612504 0.008670661\n",
      "/home/stefano/scratch/attila/out/trials/lost/0.0004641589 0.8604977 0.008954683\n",
      "/home/stefano/scratch/attila/out/trials/lost/0.0012915497 0.87215877 0.010229671\n",
      "/home/stefano/scratch/attila/out/trials/lost/0.0035938137 7.7357565e-12 4.0067923e-12\n",
      "/home/stefano/scratch/attila/out/trials/lost/0.0100000000 7.7357565e-12 4.0067923e-12\n"
     ]
    }
   ],
   "source": [
    "from attila.util.plots import get_figa\n",
    "from attila.data.transform import normalize_transformation\n",
    "\n",
    "for folder in dirs(out_path / 'trials' / 'lost'):\n",
    "    summary = get_summary(folder, config)\n",
    "\n",
    "    _, results = experiment2tex(summary)\n",
    "    \n",
    "    metrics = mean_IoU(get_batch_mean=False)(\n",
    "        normalize_transformation((0, 1))(summary['preds'][1]),\n",
    "        normalize_transformation((0, 1))(summary['preds'][2])\n",
    "    ).numpy()\n",
    "    \n",
    "    print(folder, np.mean(metrics), np.std(metrics))"
   ]
  },
  {
   "cell_type": "code",
   "execution_count": 252,
   "metadata": {},
   "outputs": [
    {
     "data": {
      "image/png": "[encoded data removed]",
      "text/plain": [
       "<Figure size 432x288 with 2 Axes>"
      ]
     },
     "metadata": {
      "needs_background": "light"
     },
     "output_type": "display_data"
    }
   ],
   "source": [
    "plot_history(\n",
    "    summary['history'],\n",
    "    loss_scale=[0, 0.2], met_scale=[0.5, 1]\n",
    ")"
   ]
  },
  {
   "cell_type": "code",
   "execution_count": 206,
   "metadata": {},
   "outputs": [
    {
     "name": "stdout",
     "output_type": "stream",
     "text": [
      "pred img saved in /home/stefano/_tmp/_martin/pred_0.png\n",
      "pred img saved in /home/stefano/_tmp/_martin/pred_1.png\n",
      "pred img saved in /home/stefano/_tmp/_martin/pred_2.png\n",
      "pred img saved in /home/stefano/_tmp/_martin/pred_3.png\n",
      "pred img saved in /home/stefano/_tmp/_martin/pred_4.png\n",
      "pred img saved in /home/stefano/_tmp/_martin/pred_5.png\n",
      "pred img saved in /home/stefano/_tmp/_martin/pred_6.png\n",
      "pred img saved in /home/stefano/_tmp/_martin/pred_7.png\n"
     ]
    }
   ],
   "source": [
    "plot_preds(\n",
    "    summary['preds'],\n",
    "    config.get('image', 'cmap'),\n",
    "    out_folder=model_folder\n",
    ")"
   ]
  }
 ],
 "metadata": {
  "kernelspec": {
   "display_name": "attila",
   "language": "python",
   "name": "attila"
  },
  "language_info": {
   "codemirror_mode": {
    "name": "ipython",
    "version": 3
   },
   "file_extension": ".py",
   "mimetype": "text/x-python",
   "name": "python",
   "nbconvert_exporter": "python",
   "pygments_lexer": "ipython3",
   "version": "3.8.5"
  }
 },
 "nbformat": 4,
 "nbformat_minor": 4
}
