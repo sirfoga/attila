{
 "cells": [
  {
   "cell_type": "code",
   "execution_count": 171,
   "metadata": {},
   "outputs": [
    {
     "name": "stdout",
     "output_type": "stream",
     "text": [
      "The autoreload extension is already loaded. To reload it, use:\n",
      "  %reload_ext autoreload\n"
     ]
    }
   ],
   "source": [
    "%load_ext autoreload\n",
    "%reload_ext autoreload\n",
    "%autoreload 2"
   ]
  },
  {
   "cell_type": "code",
   "execution_count": 5,
   "metadata": {},
   "outputs": [],
   "source": [
    "%matplotlib inline\n",
    "\n",
    "from pathlib import Path"
   ]
  },
  {
   "cell_type": "code",
   "execution_count": 411,
   "metadata": {},
   "outputs": [],
   "source": [
    "from attila.util.config import get_env\n",
    "from attila.util.plots import plot_history, plot_preds\n",
    "from attila.util.io import load_pickle, append_rows2text, load_json, get_summary, dirs, stuff2pickle\n",
    "from attila.experiments.tools import runs2tex"
   ]
  },
  {
   "cell_type": "code",
   "execution_count": 7,
   "metadata": {},
   "outputs": [],
   "source": [
    "_here = Path('.').resolve()"
   ]
  },
  {
   "cell_type": "code",
   "execution_count": 9,
   "metadata": {},
   "outputs": [],
   "source": [
    "config, data_path, out_path, models_config_path = get_env(_here)"
   ]
  },
  {
   "cell_type": "code",
   "execution_count": 182,
   "metadata": {},
   "outputs": [],
   "source": [
    "config.set('training', 'batch size', '4')\n",
    "config.set('training', 'epochs', '50')\n",
    "config.set('data', 'aug', 'False')"
   ]
  },
  {
   "cell_type": "code",
   "execution_count": 445,
   "metadata": {},
   "outputs": [
    {
     "data": {
      "text/plain": [
       "<matplotlib.legend.Legend at 0x7f6caac4f190>"
      ]
     },
     "execution_count": 445,
     "metadata": {},
     "output_type": "execute_result"
    },
    {
     "data": {
      "image/png": "[encoded data removed]",
      "text/plain": [
       "<Figure size 1440x576 with 1 Axes>"
      ]
     },
     "metadata": {
      "needs_background": "light"
     },
     "output_type": "display_data"
    }
   ],
   "source": [
    "get_figa(1, 1)\n",
    "\n",
    "metrics = [\n",
    "    {\n",
    "        'name': 'attila_metrics_mean_IoU',\n",
    "        'callback': mean_IoU(get_batch_mean=False)\n",
    "    },\n",
    "    {\n",
    "        'name': 'attila_metrics_DSC',\n",
    "        'callback': DSC(get_batch_mean=False)\n",
    "    }\n",
    "]\n",
    "\n",
    "results = {\n",
    "    m: {\n",
    "        'mean': [],\n",
    "        'std': []\n",
    "    }\n",
    "    for m in [ x['name'] for x in metrics]\n",
    "}\n",
    "n_images = []\n",
    "\n",
    "folders = dirs(out_path / 'trials' / 'to-aug-or-not')\n",
    "no_aug_folders = filter(lambda f: f.name.startswith('no-aug'), folders)\n",
    "aug_folders = filter(lambda f: f.name.startswith('aug'), folders)\n",
    "\n",
    "for folder in no_aug_folders:\n",
    "    n_images.append(summary['n images'])\n",
    "    summary = get_summary(folder, config)\n",
    "\n",
    "    y_true_batch = summary['preds'][1]\n",
    "    y_pred_batch = summary['preds'][2]\n",
    "\n",
    "    for m in metrics:\n",
    "        key = m['name']\n",
    "        f = m['callback']\n",
    "\n",
    "        vals = f(\n",
    "            normalize_transformation((0, 1))(y_true_batch),\n",
    "            normalize_transformation((0, 1))(y_pred_batch)\n",
    "        ).numpy()\n",
    "\n",
    "        results[key]['mean'].append(vals.mean())\n",
    "        results[key]['std'].append(vals.std())\n",
    "\n",
    "for m in metrics:\n",
    "    key = m['name']\n",
    "    plt.errorbar(\n",
    "        n_images,\n",
    "        results[key]['mean'],\n",
    "        yerr=results[key]['std'],\n",
    "        fmt='o',\n",
    "        label=key\n",
    "    )\n",
    "    plt.plot(ratios[np.argmax(results[key]['mean'])], np.max(results[key]['mean']), marker='x', color='r', markersize=12)\n",
    "\n",
    "plt.xlabel('validation set size')\n",
    "plt.title('vanilla U-Net')\n",
    "plt.legend()\n",
    "\n",
    "# stuff2pickle(results, 'to-aug-or-not.pkl')"
   ]
  },
  {
   "cell_type": "code",
   "execution_count": 432,
   "metadata": {},
   "outputs": [
    {
     "data": {
      "text/plain": [
       "array([0.05      , 0.09736842, 0.14473684, 0.19210526, 0.23947368,\n",
       "       0.28684211, 0.33421053, 0.38157895, 0.42894737, 0.47631579,\n",
       "       0.52368421, 0.57105263, 0.61842105, 0.66578947, 0.71315789,\n",
       "       0.76052632, 0.80789474, 0.85526316, 0.90263158, 0.95      ])"
      ]
     },
     "execution_count": 432,
     "metadata": {},
     "output_type": "execute_result"
    }
   ],
   "source": [
    "np.linspace(0.05, 0.95, 20)"
   ]
  },
  {
   "cell_type": "code",
   "execution_count": 435,
   "metadata": {},
   "outputs": [
    {
     "data": {
      "text/plain": [
       "array([0.571   , 0.618375, 0.66575 , 0.713125, 0.7605  , 0.807875,\n",
       "       0.85525 , 0.902625, 0.95    ])"
      ]
     },
     "execution_count": 435,
     "metadata": {},
     "output_type": "execute_result"
    }
   ],
   "source": [
    "np.linspace(0.571, 0.95, 9)"
   ]
  },
  {
   "cell_type": "code",
   "execution_count": 413,
   "metadata": {},
   "outputs": [
    {
     "data": {
      "text/plain": [
       "[1e-06,\n",
       " 1.6238e-06,\n",
       " 2.6367e-06,\n",
       " 4.2813e-06,\n",
       " 6.9519e-06,\n",
       " 1.12884e-05,\n",
       " 1.83298e-05,\n",
       " 2.97635e-05,\n",
       " 4.83293e-05,\n",
       " 7.8476e-05,\n",
       " 0.0001274275,\n",
       " 0.0002069138,\n",
       " 0.0003359818,\n",
       " 0.0005455595,\n",
       " 0.0008858668,\n",
       " 0.00143845,\n",
       " 0.0023357214,\n",
       " 0.00379269,\n",
       " 0.0061584823,\n",
       " 0.01]"
      ]
     },
     "execution_count": 413,
     "metadata": {},
     "output_type": "execute_result"
    }
   ],
   "source": [
    "learning_rates"
   ]
  }
 ],
 "metadata": {
  "kernelspec": {
   "display_name": "attila",
   "language": "python",
   "name": "attila"
  },
  "language_info": {
   "codemirror_mode": {
    "name": "ipython",
    "version": 3
   },
   "file_extension": ".py",
   "mimetype": "text/x-python",
   "name": "python",
   "nbconvert_exporter": "python",
   "pygments_lexer": "ipython3",
   "version": "3.8.5"
  }
 },
 "nbformat": 4,
 "nbformat_minor": 4
}
