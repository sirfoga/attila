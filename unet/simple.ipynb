{
 "cells": [
  {
   "cell_type": "code",
   "execution_count": 2,
   "metadata": {
    "colab": {
     "base_uri": "https://localhost:8080/",
     "height": 54
    },
    "id": "pMvtX24yRSrU",
    "outputId": "390dd9fc-9e0e-41cc-ea5c-0ac73edfef83"
   },
   "outputs": [
    {
     "name": "stdout",
     "output_type": "stream",
     "text": [
      "getting data from /home/h4/stfo194b/rp/martin/attila/unet/../data/toy/fluo, folders there are: ['images', 'masks']\n"
     ]
    }
   ],
   "source": [
    "import os\n",
    "\n",
    "import tensorflow as tf\n",
    "\n",
    "from tensorflow.keras import Input, Model\n",
    "from tensorflow.keras.optimizers import Adam\n",
    "from tensorflow.keras.layers import Conv2D, MaxPooling2D, UpSampling2D, Concatenate, concatenate, BatchNormalization, Activation, Dropout\n",
    "from tensorflow.keras.callbacks import EarlyStopping, ModelCheckpoint, ReduceLROnPlateau\n",
    "from tensorflow.keras.preprocessing.image import ImageDataGenerator\n",
    "\n",
    "from skimage.transform import resize\n",
    "from sklearn.model_selection import train_test_split\n",
    "from tensorflow.keras.preprocessing.image import img_to_array, load_img, save_img\n",
    "\n",
    "import random\n",
    "import numpy as np\n",
    "from matplotlib import pyplot as plt\n",
    "\n",
    "try:\n",
    "  from google.colab import drive\n",
    "  drive.mount('/content/gdrive')\n",
    "  data_path = '/content/gdrive/My Drive/Colab Notebooks/martin/fluo'\n",
    "  # augmented: data_path = '/content/gdrive/My Drive/Colab Notebooks/martin/fluo/aug'\n",
    "except:\n",
    "  import os\n",
    "  from pathlib import Path\n",
    "  here = os.getcwd()  # os.path.abspath(os.path.dirname(__file__))\n",
    "  data_path = str(Path(here).joinpath('../data/toy/fluo'))\n",
    "\n",
    "print('getting data from {}, folders there are: {}'.format(data_path, list(os.walk(data_path))[0][1]))\n",
    "\n",
    "image_size = (1024, 512)\n",
    "input_shape = (*image_size, 1)\n",
    "verbose = 1\n",
    "batch_size = 3\n",
    "epochs = 25\n",
    "best_model_weights = 'model.h5'"
   ]
  },
  {
   "cell_type": "code",
   "execution_count": 3,
   "metadata": {
    "colab": {
     "base_uri": "https://localhost:8080/",
     "height": 53
    },
    "id": "72TCEDnJRSsg",
    "outputId": "1358a273-f48d-4b7f-9412-b3a0520c83cc"
   },
   "outputs": [
    {
     "name": "stderr",
     "output_type": "stream",
     "text": [
      "/software/ml/JupyterHub/conda-env-20191018-0822/lib/python3.6/site-packages/skimage/transform/_warps.py:110: UserWarning: Anti-aliasing will be enabled by default in skimage 0.15 to avoid aliasing artifacts when down-sampling images.\n",
      "  warn(\"Anti-aliasing will be enabled by default in skimage 0.15 to \"\n"
     ]
    }
   ],
   "source": [
    "def get_data(imgs_path, masks_path, im_size):\n",
    "    \"\"\" Get and resize train images and masks \"\"\"\n",
    "\n",
    "    im_height, im_width = im_size\n",
    "    list_imgs = next(os.walk(imgs_path))[2]\n",
    "    X = np.zeros((len(list_imgs), im_width, im_height, 1), dtype=np.float32)\n",
    "    y = np.zeros((len(list_imgs), im_width, im_height, 1), dtype=np.float32)\n",
    "    \n",
    "    for i, img_name in enumerate(list_imgs):\n",
    "        mask_name = img_name.replace('img_', 'mask_')\n",
    "        \n",
    "        # load images\n",
    "        img = img_to_array(load_img(imgs_path + '/' + img_name, color_mode = \"grayscale\"))\n",
    "        img = resize(img, (im_width, im_height, 1), mode='constant', preserve_range=True)\n",
    "\n",
    "        # load masks\n",
    "        mask = img_to_array(load_img(masks_path + '/' + mask_name, color_mode = \"grayscale\"))\n",
    "        mask = resize(mask, (im_width, im_height, 1), mode='constant', preserve_range=True)\n",
    "\n",
    "        # save images\n",
    "        X[i, ..., 0] = img.squeeze() / 255\n",
    "        y[i] = mask / 255\n",
    "\n",
    "    return X, y\n",
    "\n",
    "# get data\n",
    "X, y = get_data(data_path + '/images', data_path + '/masks', image_size)\n",
    "X_train, X_valid, y_train, y_valid = train_test_split(X, y, test_size=0.15)  # split train and test"
   ]
  },
  {
   "cell_type": "code",
   "execution_count": 4,
   "metadata": {
    "id": "Plddb1LRdQyO"
   },
   "outputs": [
    {
     "data": {
      "text/plain": [
       "9"
      ]
     },
     "execution_count": 4,
     "metadata": {},
     "output_type": "execute_result"
    },
    {
     "data": {
      "image/png": "[encoded data removed]",
      "text/plain": [
       "<Figure size 1152x576 with 2 Axes>"
      ]
     },
     "metadata": {
      "needs_background": "light"
     },
     "output_type": "display_data"
    }
   ],
   "source": [
    "def plot_train_sample(X, y, ix=None):\n",
    "    if ix is None:\n",
    "        ix = random.randint(0, len(X) - 1)\n",
    "\n",
    "    fig, ax = plt.subplots(1, 2, figsize=(16, 8))\n",
    "    ax[0].imshow(X[ix, ..., 0], cmap='gray')\n",
    "    ax[0].set_title('image (input)')\n",
    "\n",
    "    ax[1].imshow(y[ix].squeeze(), cmap='gray')\n",
    "    ax[1].set_title('mask (output)')\n",
    "\n",
    "    return ix\n",
    "\n",
    "def plot_pred_sample(X, y, preds, ix=None):\n",
    "    if ix is None:\n",
    "        ix = random.randint(0, len(X) - 1)\n",
    "\n",
    "    fig, ax = plt.subplots(1, 2, figsize=(16, 8))\n",
    "    ax[0].imshow(X[ix, ..., 0], cmap='gray')\n",
    "    ax[0].contour(y[ix].squeeze(), colors='yellow', levels=[0.5])\n",
    "    ax[0].set_title('image + mask')\n",
    "\n",
    "    ax[1].imshow(preds[ix].squeeze(), cmap='gray')\n",
    "    ax[1].contour(y[ix].squeeze(), colors='yellow', levels=[0.5])\n",
    "    ax[1].set_title('predicted + original mask')\n",
    "\n",
    "    return ix\n",
    "\n",
    "def plot_results(results):\n",
    "    plt.figure(figsize=(24, 8))\n",
    "\n",
    "    plt.plot(results.history[\"loss\"], label=\"loss\")\n",
    "    plt.plot(results.history[\"val_loss\"], label=\"val_loss\")\n",
    "    # plt.plot(results.history[\"accuracy\"], label=\"accuracy\")\n",
    "    # plt.plot(results.history[\"val_accuracy\"], label=\"val_acc\")\n",
    "    plt.plot(np.argmin(results.history[\"val_loss\"]), np.min(results.history[\"val_loss\"]), marker=\"x\", color=\"r\", label=\"best model\")\n",
    "\n",
    "    plt.xlabel(\"epochs\")\n",
    "    plt.ylabel(\"log loss\")\n",
    "    plt.legend()\n",
    "\n",
    "plot_train_sample(X_train, y_train)  # check if training data looks all right"
   ]
  },
  {
   "cell_type": "code",
   "execution_count": 5,
   "metadata": {
    "id": "WImyQox4RKcd"
   },
   "outputs": [
    {
     "name": "stderr",
     "output_type": "stream",
     "text": [
      "WARNING: Logging before flag parsing goes to stderr.\n",
      "W1027 12:15:25.105646 35184372383184 deprecation.py:506] From /software/ml/JupyterHub/conda-env-20191018-0822/lib/python3.6/site-packages/tensorflow/python/ops/init_ops.py:1251: calling VarianceScaling.__init__ (from tensorflow.python.ops.init_ops) with dtype is deprecated and will be removed in a future version.\n",
      "Instructions for updating:\n",
      "Call initializer instance with the dtype argument instead of passing it to the constructor\n",
      "W1027 12:15:25.155451 35184372383184 deprecation.py:323] From /software/ml/JupyterHub/conda-env-20191018-0822/lib/python3.6/site-packages/tensorflow/python/ops/nn_impl.py:180: add_dispatch_support.<locals>.wrapper (from tensorflow.python.ops.array_ops) is deprecated and will be removed in a future version.\n",
      "Instructions for updating:\n",
      "Use tf.where in 2.0, which has the same broadcast rule as np.where\n"
     ]
    }
   ],
   "source": [
    "def unet(input_size, dropout, batch_norm):\n",
    "    inputs = Input(input_size)\n",
    "    \n",
    "    conv1 = Conv2D(64, 3, activation = 'relu', padding = 'same', kernel_initializer = 'he_normal')(inputs)\n",
    "    if batch_norm:\n",
    "        conv1 = BatchNormalization(axis=3)(conv1)\n",
    "    conv1 = Conv2D(64, 3, activation = 'relu', padding = 'same', kernel_initializer = 'he_normal')(conv1)\n",
    "    if batch_norm:\n",
    "        conv1 = BatchNormalization(axis=3)(conv1)\n",
    "    pool1 = MaxPooling2D(pool_size=(2, 2))(conv1)\n",
    "    \n",
    "    conv2 = Conv2D(128, 3, activation = 'relu', padding = 'same', kernel_initializer = 'he_normal')(pool1)\n",
    "    if batch_norm:\n",
    "        conv2 = BatchNormalization(axis=3)(conv2)\n",
    "    conv2 = Conv2D(128, 3, activation = 'relu', padding = 'same', kernel_initializer = 'he_normal')(conv2)\n",
    "    if batch_norm:\n",
    "        conv2 = BatchNormalization(axis=3)(conv2)\n",
    "    pool2 = MaxPooling2D(pool_size=(2, 2))(conv2)\n",
    "    \n",
    "    conv3 = Conv2D(256, 3, activation = 'relu', padding = 'same', kernel_initializer = 'he_normal')(pool2)\n",
    "    if batch_norm:\n",
    "        conv3 = BatchNormalization(axis=3)(conv3)\n",
    "    conv3 = Conv2D(256, 3, activation = 'relu', padding = 'same', kernel_initializer = 'he_normal')(conv3)\n",
    "    if batch_norm:\n",
    "        conv3 = BatchNormalization(axis=3)(conv3)\n",
    "    pool3 = MaxPooling2D(pool_size=(2, 2))(conv3)\n",
    "    \n",
    "    conv4 = Conv2D(512, 3, activation = 'relu', padding = 'same', kernel_initializer = 'he_normal')(pool3)\n",
    "    if batch_norm:\n",
    "        conv4 = BatchNormalization(axis=3)(conv4)\n",
    "    conv4 = Conv2D(512, 3, activation = 'relu', padding = 'same', kernel_initializer = 'he_normal')(conv4)\n",
    "    if batch_norm:\n",
    "        conv4 = BatchNormalization(axis=3)(conv4)\n",
    "    drop4 = Dropout(dropout)(conv4)\n",
    "    pool4 = MaxPooling2D(pool_size=(2, 2))(drop4)\n",
    "\n",
    "    conv5 = Conv2D(1024, 3, activation = 'relu', padding = 'same', kernel_initializer = 'he_normal')(pool4)\n",
    "    conv5 = Conv2D(1024, 3, activation = 'relu', padding = 'same', kernel_initializer = 'he_normal')(conv5)\n",
    "    drop5 = Dropout(0.5)(conv5)\n",
    "\n",
    "    up6 = Conv2D(512, 2, activation = 'relu', padding = 'same', kernel_initializer = 'he_normal')(UpSampling2D(size = (2,2))(drop5))\n",
    "    merge6 = concatenate([drop4,up6], axis = 3)\n",
    "    conv6 = Conv2D(512, 3, activation = 'relu', padding = 'same', kernel_initializer = 'he_normal')(merge6)\n",
    "    conv6 = Conv2D(512, 3, activation = 'relu', padding = 'same', kernel_initializer = 'he_normal')(conv6)\n",
    "\n",
    "    up7 = Conv2D(256, 2, activation = 'relu', padding = 'same', kernel_initializer = 'he_normal')(UpSampling2D(size = (2,2))(conv6))\n",
    "    merge7 = concatenate([conv3,up7], axis = 3)\n",
    "    conv7 = Conv2D(256, 3, activation = 'relu', padding = 'same', kernel_initializer = 'he_normal')(merge7)\n",
    "    conv7 = Conv2D(256, 3, activation = 'relu', padding = 'same', kernel_initializer = 'he_normal')(conv7)\n",
    "\n",
    "    up8 = Conv2D(128, 2, activation = 'relu', padding = 'same', kernel_initializer = 'he_normal')(UpSampling2D(size = (2,2))(conv7))\n",
    "    merge8 = concatenate([conv2,up8], axis = 3)\n",
    "    conv8 = Conv2D(128, 3, activation = 'relu', padding = 'same', kernel_initializer = 'he_normal')(merge8)\n",
    "    conv8 = Conv2D(128, 3, activation = 'relu', padding = 'same', kernel_initializer = 'he_normal')(conv8)\n",
    "\n",
    "    up9 = Conv2D(64, 2, activation = 'relu', padding = 'same', kernel_initializer = 'he_normal')(UpSampling2D(size = (2,2))(conv8))\n",
    "    merge9 = concatenate([conv1,up9], axis = 3)\n",
    "    conv9 = Conv2D(64, 3, activation = 'relu', padding = 'same', kernel_initializer = 'he_normal')(merge9)\n",
    "    conv9 = Conv2D(64, 3, activation = 'relu', padding = 'same', kernel_initializer = 'he_normal')(conv9)\n",
    "    conv9 = Conv2D(2, 3, activation = 'relu', padding = 'same', kernel_initializer = 'he_normal')(conv9)\n",
    "    conv10 = Conv2D(1, 1, activation = 'sigmoid')(conv9)\n",
    "\n",
    "    return Model(inputs = inputs, outputs = conv10)\n",
    "\n",
    "\n",
    "model = unet((512, 1024, 1), 0.5, True)\n",
    "model.compile(optimizer = Adam(lr = 1e-4), loss = 'binary_crossentropy', metrics = ['accuracy'])\n",
    "# model.summary()"
   ]
  },
  {
   "cell_type": "code",
   "execution_count": null,
   "metadata": {
    "colab": {
     "base_uri": "https://localhost:8080/",
     "height": 1000
    },
    "id": "x_-ElNmhvCFI",
    "outputId": "671378b6-e274-4d39-b64f-46a2590426c9"
   },
   "outputs": [
    {
     "name": "stdout",
     "output_type": "stream",
     "text": [
      "Train on 78 samples, validate on 14 samples\n",
      "Epoch 1/25\n",
      "76/78 [============================>.] - ETA: 0s - loss: 0.0323 - acc: 0.9320\n",
      "Epoch 00001: loss improved from inf to 0.03161, saving model to model.h5\n",
      "78/78 [==============================] - 36s 460ms/sample - loss: 0.0316 - acc: 0.9312 - val_loss: 0.0244 - val_acc: 0.9280\n",
      "Epoch 2/25\n",
      "76/78 [============================>.] - ETA: 0s - loss: 0.0026 - acc: 0.9307\n",
      "Epoch 00002: loss improved from 0.03161 to 0.00261, saving model to model.h5\n",
      "78/78 [==============================] - 17s 217ms/sample - loss: 0.0026 - acc: 0.9312 - val_loss: 0.0505 - val_acc: 0.9280\n",
      "Epoch 3/25\n",
      "76/78 [============================>.] - ETA: 0s - loss: 0.0023 - acc: 0.9308\n",
      "Epoch 00003: loss improved from 0.00261 to 0.00230, saving model to model.h5\n",
      "78/78 [==============================] - 17s 217ms/sample - loss: 0.0023 - acc: 0.9312 - val_loss: 0.0513 - val_acc: 0.9280\n",
      "Epoch 4/25\n",
      "76/78 [============================>.] - ETA: 0s - loss: 0.0023 - acc: 0.9310\n",
      "Epoch 00004: ReduceLROnPlateau reducing learning rate to 1e-05.\n",
      "\n",
      "Epoch 00004: loss improved from 0.00230 to 0.00228, saving model to model.h5\n",
      "78/78 [==============================] - 17s 218ms/sample - loss: 0.0023 - acc: 0.9312 - val_loss: 0.0553 - val_acc: 0.9280\n",
      "Epoch 5/25\n",
      "76/78 [============================>.] - ETA: 0s - loss: 0.0023 - acc: 0.9311\n",
      "Epoch 00005: loss improved from 0.00228 to 0.00227, saving model to model.h5\n",
      "78/78 [==============================] - 17s 217ms/sample - loss: 0.0023 - acc: 0.9312 - val_loss: 0.0552 - val_acc: 0.9280\n",
      "Epoch 6/25\n",
      "76/78 [============================>.] - ETA: 0s - loss: 0.0022 - acc: 0.9320\n",
      "Epoch 00006: loss improved from 0.00227 to 0.00227, saving model to model.h5\n",
      "78/78 [==============================] - 17s 217ms/sample - loss: 0.0023 - acc: 0.9312 - val_loss: 0.0513 - val_acc: 0.9280\n",
      "Epoch 7/25\n",
      "76/78 [============================>.] - ETA: 0s - loss: 0.0023 - acc: 0.9310\n",
      "Epoch 00007: loss improved from 0.00227 to 0.00227, saving model to model.h5\n",
      "78/78 [==============================] - 17s 217ms/sample - loss: 0.0023 - acc: 0.9312 - val_loss: 0.0420 - val_acc: 0.9280\n",
      "Epoch 8/25\n",
      "76/78 [============================>.] - ETA: 0s - loss: 0.0022 - acc: 0.9319\n",
      "Epoch 00008: loss improved from 0.00227 to 0.00227, saving model to model.h5\n",
      "78/78 [==============================] - 17s 217ms/sample - loss: 0.0023 - acc: 0.9312 - val_loss: 0.0341 - val_acc: 0.9280\n",
      "Epoch 9/25\n",
      "76/78 [============================>.] - ETA: 0s - loss: 0.0023 - acc: 0.9308\n",
      "Epoch 00009: loss improved from 0.00227 to 0.00227, saving model to model.h5\n",
      "78/78 [==============================] - 17s 217ms/sample - loss: 0.0023 - acc: 0.9312 - val_loss: 0.0280 - val_acc: 0.9280\n",
      "Epoch 10/25\n",
      "76/78 [============================>.] - ETA: 0s - loss: 0.0023 - acc: 0.9312\n",
      "Epoch 00010: loss did not improve from 0.00227\n",
      "78/78 [==============================] - 16s 202ms/sample - loss: 0.0023 - acc: 0.9312 - val_loss: 0.0236 - val_acc: 0.9280\n",
      "Epoch 11/25\n",
      "76/78 [============================>.] - ETA: 0s - loss: 0.0023 - acc: 0.9316\n",
      "Epoch 00011: loss improved from 0.00227 to 0.00227, saving model to model.h5\n",
      "78/78 [==============================] - 17s 218ms/sample - loss: 0.0023 - acc: 0.9312 - val_loss: 0.0213 - val_acc: 0.9280\n",
      "Epoch 12/25\n",
      "76/78 [============================>.] - ETA: 0s - loss: 0.0023 - acc: 0.9316\n",
      "Epoch 00012: loss did not improve from 0.00227\n",
      "78/78 [==============================] - 16s 202ms/sample - loss: 0.0023 - acc: 0.9312 - val_loss: 0.0187 - val_acc: 0.9280\n",
      "Epoch 13/25\n",
      "76/78 [============================>.] - ETA: 0s - loss: 0.0023 - acc: 0.9308\n",
      "Epoch 00013: loss did not improve from 0.00227\n",
      "78/78 [==============================] - 16s 203ms/sample - loss: 0.0023 - acc: 0.9312 - val_loss: 0.0161 - val_acc: 0.9280\n",
      "Epoch 14/25\n",
      "76/78 [============================>.] - ETA: 0s - loss: 0.0023 - acc: 0.9315\n",
      "Epoch 00014: loss did not improve from 0.00227\n",
      "78/78 [==============================] - 16s 203ms/sample - loss: 0.0023 - acc: 0.9312 - val_loss: 0.0138 - val_acc: 0.9280\n",
      "Epoch 15/25\n",
      "76/78 [============================>.] - ETA: 0s - loss: 0.0022 - acc: 0.9320\n",
      "Epoch 00015: loss did not improve from 0.00227\n",
      "78/78 [==============================] - 16s 202ms/sample - loss: 0.0023 - acc: 0.9312 - val_loss: 0.0123 - val_acc: 0.9280\n",
      "Epoch 16/25\n",
      "76/78 [============================>.] - ETA: 0s - loss: 0.0022 - acc: 0.9318\n",
      "Epoch 00016: loss did not improve from 0.00227\n",
      "78/78 [==============================] - 16s 202ms/sample - loss: 0.0023 - acc: 0.9312 - val_loss: 0.0115 - val_acc: 0.9280\n",
      "Epoch 17/25\n",
      "76/78 [============================>.] - ETA: 0s - loss: 0.0023 - acc: 0.9313\n",
      "Epoch 00017: loss did not improve from 0.00227\n",
      "78/78 [==============================] - 16s 202ms/sample - loss: 0.0023 - acc: 0.9312 - val_loss: 0.0109 - val_acc: 0.9280\n",
      "Epoch 18/25\n",
      "76/78 [============================>.] - ETA: 0s - loss: 0.0023 - acc: 0.9309\n",
      "Epoch 00018: loss improved from 0.00227 to 0.00227, saving model to model.h5\n",
      "78/78 [==============================] - 17s 217ms/sample - loss: 0.0023 - acc: 0.9312 - val_loss: 0.0103 - val_acc: 0.9280\n",
      "Epoch 19/25\n",
      "76/78 [============================>.] - ETA: 0s - loss: 0.0023 - acc: 0.9311\n",
      "Epoch 00019: loss did not improve from 0.00227\n",
      "78/78 [==============================] - 16s 202ms/sample - loss: 0.0023 - acc: 0.9312 - val_loss: 0.0086 - val_acc: 0.9280\n",
      "Epoch 20/25\n",
      "76/78 [============================>.] - ETA: 0s - loss: 0.0022 - acc: 0.9319\n",
      "Epoch 00020: loss improved from 0.00227 to 0.00227, saving model to model.h5\n",
      "78/78 [==============================] - 17s 218ms/sample - loss: 0.0023 - acc: 0.9312 - val_loss: 0.0064 - val_acc: 0.9280\n",
      "Epoch 21/25\n",
      "76/78 [============================>.] - ETA: 0s - loss: 0.0023 - acc: 0.9307\n",
      "Epoch 00021: loss did not improve from 0.00227\n",
      "78/78 [==============================] - 16s 202ms/sample - loss: 0.0023 - acc: 0.9312 - val_loss: 0.0044 - val_acc: 0.9280\n",
      "Epoch 22/25\n",
      "72/78 [==========================>...] - ETA: 1s - loss: 0.0023 - acc: 0.9304"
     ]
    }
   ],
   "source": [
    "callbacks = [\n",
    "    EarlyStopping(patience=10, verbose=verbose),\n",
    "    ReduceLROnPlateau(factor=0.1, patience=3, min_lr=1e-5, verbose=verbose),\n",
    "    ModelCheckpoint(best_model_weights, monitor='loss', verbose=verbose, save_best_only=True, save_weights_only=True)\n",
    "]\n",
    "results = model.fit(X_train, y_train, batch_size=4, epochs=epochs, callbacks=callbacks, validation_data=(X_valid, y_valid))\n",
    "\n",
    "plot_results(results)\n",
    "\n",
    "model.load_weights(best_model_weights)  # load best model\n",
    "model.evaluate(X_valid, y_valid, verbose=verbose)  # evaluate on validation set\n",
    "\n",
    "preds_train = model.predict(X_train, verbose=verbose)  # predict\n",
    "preds_val = model.predict(X_valid, verbose=verbose)"
   ]
  },
  {
   "cell_type": "code",
   "execution_count": null,
   "metadata": {
    "colab": {
     "base_uri": "https://localhost:8080/",
     "height": 524
    },
    "id": "9vzoi2FT1eOa",
    "outputId": "f5f49636-c025-4216-c02b-376ac384974d"
   },
   "outputs": [],
   "source": [
    "# plot_pred_sample(X_train, y_train, preds_train)  # predictions on training data\n",
    "plot_pred_sample(X_valid, y_valid, preds_val)  # predictions on test data"
   ]
  }
 ],
 "metadata": {
  "accelerator": "GPU",
  "colab": {
   "name": "simple.ipynb",
   "provenance": []
  },
  "kernelspec": {
   "display_name": "Python 3",
   "language": "python",
   "name": "python3"
  },
  "language_info": {
   "codemirror_mode": {
    "name": "ipython",
    "version": 3
   },
   "file_extension": ".py",
   "mimetype": "text/x-python",
   "name": "python",
   "nbconvert_exporter": "python",
   "pygments_lexer": "ipython3",
   "version": "3.6.9"
  }
 },
 "nbformat": 4,
 "nbformat_minor": 4
}
