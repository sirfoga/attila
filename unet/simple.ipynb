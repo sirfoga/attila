{
 "cells": [
  {
   "cell_type": "code",
   "execution_count": 60,
   "metadata": {},
   "outputs": [],
   "source": [
    "import tensorflow as tf\n",
    "\n",
    "from tensorflow.keras import Input, Model\n",
    "from tensorflow.keras.optimizers import Adam\n",
    "from tensorflow.keras.layers import Conv2D, MaxPooling2D, UpSampling2D, concatenate\n",
    "\n",
    "import numpy as np"
   ]
  },
  {
   "cell_type": "code",
   "execution_count": 29,
   "metadata": {},
   "outputs": [],
   "source": [
    "def compose_f(functions, x):\n",
    "    out = x\n",
    "    \n",
    "    for f in functions:\n",
    "        out = f(out)\n",
    "    \n",
    "    return out"
   ]
  },
  {
   "cell_type": "code",
   "execution_count": 7,
   "metadata": {},
   "outputs": [],
   "source": [
    "def conv_layer(n_filters, size, activation = 'relu', padding = 'same', kernel_initializer = 'he_normal'):\n",
    "    return Conv2D(n_filters, size, activation = activation, padding = padding, kernel_initializer = kernel_initializer)"
   ]
  },
  {
   "cell_type": "code",
   "execution_count": 10,
   "metadata": {},
   "outputs": [],
   "source": [
    "def pool_layer(pool_size=(2, 2)):\n",
    "    return MaxPooling2D(pool_size=pool_size)"
   ]
  },
  {
   "cell_type": "code",
   "execution_count": 35,
   "metadata": {},
   "outputs": [],
   "source": [
    "def contracting_layer(n_filters, x):\n",
    "    x = conv_layer(n_filters, 3)(conv_layer(n_filters, 3)(x))\n",
    "    skip_conn = x  # save to concat in corresponding skip connection later\n",
    "    \n",
    "    x = pool_layer()(x)\n",
    "    return x, skip_conn"
   ]
  },
  {
   "cell_type": "code",
   "execution_count": 37,
   "metadata": {},
   "outputs": [],
   "source": [
    "def contracting_path(x, start_layers=64, n_layers=4):\n",
    "    current_n_layers = start_layers\n",
    "    skip_conns = []\n",
    "    \n",
    "    for _ in range(n_layers):\n",
    "        x, skip_conn = contracting_layer(current_n_layers, x)\n",
    "        \n",
    "        skip_conns.append(skip_conn)\n",
    "        current_n_layers *= 2\n",
    "    \n",
    "    # todo: dropout ?\n",
    "    return x, skip_conns"
   ]
  },
  {
   "cell_type": "code",
   "execution_count": 38,
   "metadata": {},
   "outputs": [],
   "source": [
    "def upconv_layer(x, n_filters, size, up_sampling_size, activation = 'relu', padding = 'same', kernel_initializer = 'he_normal'):\n",
    "    x = UpSampling2D(size = up_sampling_size)(x)\n",
    "    x = conv_layer(n_filters, size)(x)\n",
    "    return x"
   ]
  },
  {
   "cell_type": "code",
   "execution_count": 41,
   "metadata": {},
   "outputs": [],
   "source": [
    "def expanding_layer(n_filters, x, skip_conn):\n",
    "    x = upconv_layer(x, n_filters, 2, (2,2))  # up-convolution\n",
    "    x = concatenate([skip_conn, x], axis=3)  # concat in 3rd dim\n",
    "    x = conv_layer(n_filters, 3)(x)\n",
    "    x = conv_layer(n_filters, 3)(x)\n",
    "    return x"
   ]
  },
  {
   "cell_type": "code",
   "execution_count": 44,
   "metadata": {},
   "outputs": [],
   "source": [
    "def expanding_path(x, skip_conns, start_layers=512):\n",
    "    current_n_layers = start_layers\n",
    "    \n",
    "    for skip_conn in reversed(skip_conns):\n",
    "        x = expanding_layer(current_n_layers, x, skip_conn)\n",
    "        \n",
    "        current_n_layers /= 2\n",
    "    \n",
    "    return x"
   ]
  },
  {
   "cell_type": "code",
   "execution_count": 52,
   "metadata": {},
   "outputs": [],
   "source": [
    "def _unet(input_size = (256, 256, 1)):\n",
    "    x = Input(input_size)\n",
    "    inputs = x\n",
    "    \n",
    "    x, skip_conns = contracting_path(x)\n",
    "    x = conv_layer(1024, 3)(conv_layer(1024, 3)(x))  # todo: dropout ?\n",
    "    \n",
    "    x = expanding_path(x, skip_conns)\n",
    "    \n",
    "    x = conv_layer(2, 3)(x)  # output segmentation map\n",
    "    x = conv_layer(1, 1, activation = 'sigmoid')(x)\n",
    "    \n",
    "    outputs = x\n",
    "    return inputs, outputs"
   ]
  },
  {
   "cell_type": "code",
   "execution_count": 69,
   "metadata": {},
   "outputs": [],
   "source": [
    "def unet(optimizer = Adam(lr = 1e-4), loss = 'binary_crossentropy', metrics = ['accuracy']):\n",
    "    inputs, outputs = _unet()\n",
    "    \n",
    "    model = Model(inputs = inputs, outputs = outputs, name='simple UNet')\n",
    "    model.compile(optimizer=optimizer, loss=loss, metrics=metrics)\n",
    "    model.summary()\n",
    "    \n",
    "    return model"
   ]
  },
  {
   "cell_type": "code",
   "execution_count": 70,
   "metadata": {},
   "outputs": [
    {
     "name": "stdout",
     "output_type": "stream",
     "text": [
      "Model: \"simple UNet\"\n",
      "__________________________________________________________________________________________________\n",
      "Layer (type)                    Output Shape         Param #     Connected to                     \n",
      "==================================================================================================\n",
      "input_8 (InputLayer)            [(None, 256, 256, 1) 0                                            \n",
      "__________________________________________________________________________________________________\n",
      "conv2d_141 (Conv2D)             (None, 256, 256, 64) 640         input_8[0][0]                    \n",
      "__________________________________________________________________________________________________\n",
      "conv2d_140 (Conv2D)             (None, 256, 256, 64) 36928       conv2d_141[0][0]                 \n",
      "__________________________________________________________________________________________________\n",
      "max_pooling2d_28 (MaxPooling2D) (None, 128, 128, 64) 0           conv2d_140[0][0]                 \n",
      "__________________________________________________________________________________________________\n",
      "conv2d_143 (Conv2D)             (None, 128, 128, 128 73856       max_pooling2d_28[0][0]           \n",
      "__________________________________________________________________________________________________\n",
      "conv2d_142 (Conv2D)             (None, 128, 128, 128 147584      conv2d_143[0][0]                 \n",
      "__________________________________________________________________________________________________\n",
      "max_pooling2d_29 (MaxPooling2D) (None, 64, 64, 128)  0           conv2d_142[0][0]                 \n",
      "__________________________________________________________________________________________________\n",
      "conv2d_145 (Conv2D)             (None, 64, 64, 256)  295168      max_pooling2d_29[0][0]           \n",
      "__________________________________________________________________________________________________\n",
      "conv2d_144 (Conv2D)             (None, 64, 64, 256)  590080      conv2d_145[0][0]                 \n",
      "__________________________________________________________________________________________________\n",
      "max_pooling2d_30 (MaxPooling2D) (None, 32, 32, 256)  0           conv2d_144[0][0]                 \n",
      "__________________________________________________________________________________________________\n",
      "conv2d_147 (Conv2D)             (None, 32, 32, 512)  1180160     max_pooling2d_30[0][0]           \n",
      "__________________________________________________________________________________________________\n",
      "conv2d_146 (Conv2D)             (None, 32, 32, 512)  2359808     conv2d_147[0][0]                 \n",
      "__________________________________________________________________________________________________\n",
      "max_pooling2d_31 (MaxPooling2D) (None, 16, 16, 512)  0           conv2d_146[0][0]                 \n",
      "__________________________________________________________________________________________________\n",
      "conv2d_149 (Conv2D)             (None, 16, 16, 1024) 4719616     max_pooling2d_31[0][0]           \n",
      "__________________________________________________________________________________________________\n",
      "conv2d_148 (Conv2D)             (None, 16, 16, 1024) 9438208     conv2d_149[0][0]                 \n",
      "__________________________________________________________________________________________________\n",
      "up_sampling2d_20 (UpSampling2D) (None, 32, 32, 1024) 0           conv2d_148[0][0]                 \n",
      "__________________________________________________________________________________________________\n",
      "conv2d_150 (Conv2D)             (None, 32, 32, 512)  2097664     up_sampling2d_20[0][0]           \n",
      "__________________________________________________________________________________________________\n",
      "concatenate_20 (Concatenate)    (None, 32, 32, 1024) 0           conv2d_146[0][0]                 \n",
      "                                                                 conv2d_150[0][0]                 \n",
      "__________________________________________________________________________________________________\n",
      "conv2d_151 (Conv2D)             (None, 32, 32, 512)  4719104     concatenate_20[0][0]             \n",
      "__________________________________________________________________________________________________\n",
      "conv2d_152 (Conv2D)             (None, 32, 32, 512)  2359808     conv2d_151[0][0]                 \n",
      "__________________________________________________________________________________________________\n",
      "up_sampling2d_21 (UpSampling2D) (None, 64, 64, 512)  0           conv2d_152[0][0]                 \n",
      "__________________________________________________________________________________________________\n",
      "conv2d_153 (Conv2D)             (None, 64, 64, 256)  524544      up_sampling2d_21[0][0]           \n",
      "__________________________________________________________________________________________________\n",
      "concatenate_21 (Concatenate)    (None, 64, 64, 512)  0           conv2d_144[0][0]                 \n",
      "                                                                 conv2d_153[0][0]                 \n",
      "__________________________________________________________________________________________________\n",
      "conv2d_154 (Conv2D)             (None, 64, 64, 256)  1179904     concatenate_21[0][0]             \n",
      "__________________________________________________________________________________________________\n",
      "conv2d_155 (Conv2D)             (None, 64, 64, 256)  590080      conv2d_154[0][0]                 \n",
      "__________________________________________________________________________________________________\n",
      "up_sampling2d_22 (UpSampling2D) (None, 128, 128, 256 0           conv2d_155[0][0]                 \n",
      "__________________________________________________________________________________________________\n",
      "conv2d_156 (Conv2D)             (None, 128, 128, 128 131200      up_sampling2d_22[0][0]           \n",
      "__________________________________________________________________________________________________\n",
      "concatenate_22 (Concatenate)    (None, 128, 128, 256 0           conv2d_142[0][0]                 \n",
      "                                                                 conv2d_156[0][0]                 \n",
      "__________________________________________________________________________________________________\n",
      "conv2d_157 (Conv2D)             (None, 128, 128, 128 295040      concatenate_22[0][0]             \n",
      "__________________________________________________________________________________________________\n",
      "conv2d_158 (Conv2D)             (None, 128, 128, 128 147584      conv2d_157[0][0]                 \n",
      "__________________________________________________________________________________________________\n",
      "up_sampling2d_23 (UpSampling2D) (None, 256, 256, 128 0           conv2d_158[0][0]                 \n",
      "__________________________________________________________________________________________________\n",
      "conv2d_159 (Conv2D)             (None, 256, 256, 64) 32832       up_sampling2d_23[0][0]           \n",
      "__________________________________________________________________________________________________\n",
      "concatenate_23 (Concatenate)    (None, 256, 256, 128 0           conv2d_140[0][0]                 \n",
      "                                                                 conv2d_159[0][0]                 \n",
      "__________________________________________________________________________________________________\n",
      "conv2d_160 (Conv2D)             (None, 256, 256, 64) 73792       concatenate_23[0][0]             \n",
      "__________________________________________________________________________________________________\n",
      "conv2d_161 (Conv2D)             (None, 256, 256, 64) 36928       conv2d_160[0][0]                 \n",
      "__________________________________________________________________________________________________\n",
      "conv2d_162 (Conv2D)             (None, 256, 256, 2)  1154        conv2d_161[0][0]                 \n",
      "__________________________________________________________________________________________________\n",
      "conv2d_163 (Conv2D)             (None, 256, 256, 1)  3           conv2d_162[0][0]                 \n",
      "==================================================================================================\n",
      "Total params: 31,031,685\n",
      "Trainable params: 31,031,685\n",
      "Non-trainable params: 0\n",
      "__________________________________________________________________________________________________\n"
     ]
    }
   ],
   "source": [
    "u = unet()"
   ]
  }
 ],
 "metadata": {
  "kernelspec": {
   "display_name": "Python 3",
   "language": "python",
   "name": "python3"
  },
  "language_info": {
   "codemirror_mode": {
    "name": "ipython",
    "version": 3
   },
   "file_extension": ".py",
   "mimetype": "text/x-python",
   "name": "python",
   "nbconvert_exporter": "python",
   "pygments_lexer": "ipython3",
   "version": "3.8.5"
  }
 },
 "nbformat": 4,
 "nbformat_minor": 4
}
