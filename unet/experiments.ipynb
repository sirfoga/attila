{
 "cells": [
  {
   "cell_type": "code",
   "execution_count": 2,
   "metadata": {
    "colab": {
     "base_uri": "https://localhost:8080/"
    },
    "id": "gWvEFTLdBFMG",
    "outputId": "82d216aa-8bf2-4ce2-ca72-034b65cd173e"
   },
   "outputs": [
    {
     "data": {
      "text/plain": [
       "[PhysicalDevice(name='/physical_device:CPU:0', device_type='CPU'),\n",
       " PhysicalDevice(name='/physical_device:XLA_CPU:0', device_type='XLA_CPU')]"
      ]
     },
     "execution_count": 2,
     "metadata": {},
     "output_type": "execute_result"
    }
   ],
   "source": [
    "from tensorflow.keras import backend as K\n",
    "K.clear_session()\n",
    "\n",
    "import tensorflow as tf\n",
    "tf.config.experimental.list_physical_devices()"
   ]
  },
  {
   "cell_type": "code",
   "execution_count": 3,
   "metadata": {
    "id": "_tDPynmHBFMR"
   },
   "outputs": [],
   "source": [
    "import random\n",
    "import numpy as np\n",
    "from matplotlib import pyplot as plt\n",
    "\n",
    "from tifffile import imread\n",
    "\n",
    "from tensorflow.keras import Input, Model\n",
    "from tensorflow.keras.layers import Conv2D, MaxPooling2D, UpSampling2D, concatenate, BatchNormalization, Activation, Dropout\n",
    "from tensorflow.keras.layers.experimental.preprocessing import CenterCrop\n",
    "from tensorflow.keras.callbacks import EarlyStopping, ModelCheckpoint, ReduceLROnPlateau\n",
    "from tensorflow.keras.metrics import MeanIoU\n",
    "\n",
    "from sklearn.preprocessing import minmax_scale\n",
    "from tensorflow.keras.preprocessing.image import img_to_array, load_img, save_img\n",
    "from sklearn.model_selection import train_test_split"
   ]
  },
  {
   "cell_type": "code",
   "execution_count": 4,
   "metadata": {
    "colab": {
     "base_uri": "https://localhost:8080/",
     "height": 111,
     "resources": {
      "http://localhost:8080/nbextensions/google.colab/files.js": {
       "data": "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",
       "headers": [
        [
         "content-type",
         "application/javascript"
        ]
       ],
       "ok": true,
       "status": 200,
       "status_text": ""
      }
     }
    },
    "id": "tnsLgZy3sc9g",
    "outputId": "9acff00e-d62c-4f02-ef8b-dc78480190cd"
   },
   "outputs": [
    {
     "name": "stdout",
     "output_type": "stream",
     "text": [
      "no colab detected -> reading from local disk\n"
     ]
    },
    {
     "data": {
      "text/plain": [
       "['./config.ini']"
      ]
     },
     "execution_count": 4,
     "metadata": {},
     "output_type": "execute_result"
    }
   ],
   "source": [
    "from configparser import ConfigParser\n",
    "\n",
    "try:\n",
    "    from google.colab import files\n",
    "    \n",
    "    print('upload `config.ini`')\n",
    "    uploaded = files.upload()\n",
    "except:\n",
    "    print('no colab detected -> reading from local disk')\n",
    "\n",
    "config = ConfigParser()\n",
    "config.read('./config.ini')"
   ]
  },
  {
   "cell_type": "code",
   "execution_count": 5,
   "metadata": {},
   "outputs": [
    {
     "name": "stdout",
     "output_type": "stream",
     "text": [
      "getting data from /home/stefano/scratch/attila/data/toy/fluo, folders there are: ['masks', 'images']\n"
     ]
    }
   ],
   "source": [
    "import os\n",
    "from pathlib import Path\n",
    "\n",
    "try:\n",
    "  from google.colab import drive\n",
    "  drive.mount('/content/gdrive')\n",
    "  data_path = Path(config.get('data folder', 'colab'))\n",
    "except:\n",
    "  import os\n",
    "  from pathlib import Path\n",
    "  here = Path(os.getcwd())\n",
    "  data_path = here / config.get('data folder', 'taurus')\n",
    "\n",
    "data_path = data_path.resolve()\n",
    "print('getting data from {}, folders there are: {}'.format(data_path, list(os.walk(data_path))[0][1]))"
   ]
  },
  {
   "cell_type": "code",
   "execution_count": 6,
   "metadata": {},
   "outputs": [],
   "source": [
    "def load_tiff(f):\n",
    "  return imread(f)\n",
    "\n",
    "\n",
    "def load_image(f):\n",
    "  return load_tiff(f)\n",
    "\n",
    "\n",
    "def load_mask(f):\n",
    "  return load_tiff(f)\n",
    "\n",
    "\n",
    "def get_data(imgs_path, masks_path):\n",
    "  list_imgs = list(imgs_path.iterdir())\n",
    "  \n",
    "  images = []\n",
    "  masks = []\n",
    " \n",
    "  for img_path in list_imgs:\n",
    "    img = load_image(img_path).squeeze()\n",
    "    \n",
    "    mask_path = str(img_path).replace(str(imgs_path), str(masks_path)).replace('img_', 'mask_')\n",
    "    mask = load_mask(mask_path)\n",
    "     \n",
    "    images.append(np.array(img))\n",
    "    masks.append(np.array(mask))\n",
    "\n",
    "  return images, masks"
   ]
  },
  {
   "cell_type": "code",
   "execution_count": 7,
   "metadata": {},
   "outputs": [],
   "source": [
    "def normalize_transformation(feature_range):\n",
    "  def _f(x):\n",
    "    shape = x.shape\n",
    "    x = minmax_scale(x.ravel(), feature_range=feature_range)\n",
    "    x = x.reshape(shape)  # original size\n",
    "    return x\n",
    "  \n",
    "  return _f\n",
    "\n",
    "\n",
    "def crop_center_transformation(shape):\n",
    "  (height, width) = shape\n",
    "\n",
    "  def get_start_point(dim, cropping):\n",
    "    return dim // 2 - cropping // 2\n",
    "  \n",
    "  def get_end_point(start, cropping):\n",
    "    return start + cropping\n",
    "  \n",
    "  def _f(img):\n",
    "    (y, x) = img.shape\n",
    "    (start_x, start_y) = (get_start_point(x, width), get_start_point(y, height))\n",
    "    (end_x, end_y) = (get_end_point(start_x, width), get_end_point(start_y, height))\n",
    "    return img[start_y : end_y, start_x : end_x]\n",
    "  \n",
    "  return _f\n",
    "\n",
    "\n",
    "def rm_percentiles_transformation(min_p=0.0, max_p=100.0):\n",
    "  def _f(x):\n",
    "    shape = x.shape\n",
    "    x = x.ravel()\n",
    "    new_min, new_max = np.percentile(x, [min_p, max_p])\n",
    "    x[x < new_min] = new_min\n",
    "    x[x > new_max] = new_max\n",
    "    return x.reshape(shape)\n",
    "  \n",
    "  return _f\n",
    "\n",
    "\n",
    "def add_dim():\n",
    "  def _f(x):\n",
    "    new_dim_index = len(x.shape)\n",
    "    x = np.expand_dims(x, new_dim_index)\n",
    "    return x\n",
    "\n",
    "  return _f\n",
    "\n",
    "def compose_transformations(transformations):\n",
    "  def _f(x):\n",
    "    for t in transformations:\n",
    "      x = t(x)\n",
    "    return x\n",
    "  \n",
    "  return _f\n",
    "\n",
    "\n",
    "def apply_transformations(lst, transformations):\n",
    "  t = compose_transformations(transformations) \n",
    "  return [\n",
    "    t(x) for x in lst\n",
    "  ]\n",
    "\n",
    "\n",
    "def do_transformations(X, y, transformations):\n",
    "  X = apply_transformations(X, transformations)\n",
    "  y = apply_transformations(y, transformations)\n",
    "  return X, y"
   ]
  },
  {
   "cell_type": "code",
   "execution_count": 8,
   "metadata": {},
   "outputs": [
    {
     "name": "stdout",
     "output_type": "stream",
     "text": [
      "found 5 samples: 4 training, 1 validation\n"
     ]
    }
   ],
   "source": [
    "X, y = get_data(\n",
    "  data_path / config.get('data folder', 'images'),\n",
    "  data_path / config.get('data folder', 'masks')\n",
    ")\n",
    "\n",
    "img_shape = (config.getint('image', 'width'), config.getint('image', 'height'))\n",
    "transformations = [\n",
    "  np.array,  # just in case parser did not np.array-ed\n",
    "  crop_center_transformation(img_shape),\n",
    "  rm_percentiles_transformation(1, 98),  # threshold outliers\n",
    "  normalize_transformation((0, 1)),  # pixel values in [0, 1]\n",
    "  add_dim()  # keras accepts only 2D images + channels (grayscale => 1 channel)  \n",
    "]\n",
    "X, y = apply_transformations(X, transformations), apply_transformations(y, transformations)\n",
    "X, y = np.array(X), np.array(y)\n",
    "\n",
    "X_train, X_valid, y_train, y_valid = train_test_split(X, y, test_size=config.getfloat('experiment', 'test size'))\n",
    "print('found {} samples: {} training, {} validation'.format(len(X), len(X_train), len(X_valid)))"
   ]
  },
  {
   "cell_type": "code",
   "execution_count": 10,
   "metadata": {
    "colab": {
     "base_uri": "https://localhost:8080/",
     "height": 498
    },
    "id": "Plddb1LRdQyO",
    "outputId": "4f7fd9b1-c58f-4f17-fd93-f0c14d9c08d1"
   },
   "outputs": [],
   "source": [
    "def plot_train_sample(X, y, ix=None):\n",
    "  if ix is None:\n",
    "    ix = random.randint(0, len(X) - 1)\n",
    "\n",
    "  fig, ax = plt.subplots(1, 3, figsize=(12, 4))\n",
    "\n",
    "  im = ax[0].imshow(X[ix, ..., 0], cmap=config.get('image', 'cmap'))\n",
    "  fig.colorbar(im, ax=ax[0])\n",
    "  ax[0].set_title('image')\n",
    "\n",
    "  ax[1].hist(X[ix, ..., 0].ravel(), bins=256)\n",
    "  ax[1].set_title('histogram of image')\n",
    "\n",
    "  ax[2].imshow(y[ix].squeeze(), cmap='gray')\n",
    "  ax[2].set_title('mask')\n",
    "    \n",
    "  return ix\n",
    "\n",
    "def plot_pred_sample(X, y, preds, ix=None):\n",
    "  if ix is None:\n",
    "    ix = random.randint(0, len(X) - 1)\n",
    "\n",
    "  fig, ax = plt.subplots(1, 2, figsize=(8, 4))\n",
    "  \n",
    "  im = ax[0].imshow(X[ix, ..., 0], cmap=config.get('image', 'cmap'))\n",
    "  fig.colorbar(im, ax=ax[0])\n",
    "  ax[0].set_title('image + mask (contour)')\n",
    "\n",
    "  ax[1].imshow(preds[ix].squeeze(), cmap='gray')\n",
    "  ax[1].contour(y[ix].squeeze(), colors='yellow', levels=[0.5])\n",
    "  ax[1].set_title('predicted + original mask (contour)')\n",
    "\n",
    "  return ix"
   ]
  },
  {
   "cell_type": "code",
   "execution_count": 11,
   "metadata": {},
   "outputs": [
    {
     "data": {
      "text/plain": [
       "3"
      ]
     },
     "execution_count": 11,
     "metadata": {},
     "output_type": "execute_result"
    },
    {
     "data": {
      "image/png": "[encoded data removed]",
      "text/plain": [
       "<Figure size 864x288 with 4 Axes>"
      ]
     },
     "metadata": {
      "needs_background": "light"
     },
     "output_type": "display_data"
    }
   ],
   "source": [
    "plot_train_sample(X_train, y_train)  # check if training data looks all right"
   ]
  },
  {
   "cell_type": "code",
   "execution_count": 12,
   "metadata": {
    "id": "WImyQox4RKcd"
   },
   "outputs": [],
   "source": [
    "def conv2d_block(n_filters, kernel_shape, padding, dropout=0.0, batchnorm=True):\n",
    "  activation = 'relu'\n",
    "\n",
    "  def _f(x):\n",
    "    n_layers = 2\n",
    "\n",
    "    for _ in range(n_layers):\n",
    "      x = Conv2D(n_filters, kernel_shape, padding=padding)(x)\n",
    "      \n",
    "      if batchnorm:\n",
    "        x = BatchNormalization()(x)\n",
    "      \n",
    "      x = Activation(activation=activation)(x)\n",
    "\n",
    "      if dropout > 0:\n",
    "        x = Dropout(dropout)(x)\n",
    "\n",
    "    return x\n",
    "\n",
    "  return _f\n",
    "\n",
    "\n",
    "def contracting_block(n_filters, kernel_shape, pool_shape, padding, dropout, batchnorm):\n",
    "  pooling = MaxPooling2D(pool_shape)\n",
    "\n",
    "  def _f(x):\n",
    "    x = conv2d_block(n_filters, kernel_shape, padding, dropout, batchnorm)(x)\n",
    "    skip_conn = x  # save for expanding path\n",
    "    x = pooling(x)  # ready for next block\n",
    "    \n",
    "    return x, skip_conn\n",
    "\n",
    "  return _f\n",
    "\n",
    "\n",
    "def contracting_path(n_filters, n_layers, kernel_shape, pool_shape, use_skip_conn, padding, dropout, batchnorm):\n",
    "  def _f(x):\n",
    "    skip_conns = []\n",
    "    current_n_filters = n_filters\n",
    "\n",
    "    for _ in range(n_layers):\n",
    "      x, s = contracting_block(current_n_filters, kernel_shape, pool_shape, padding, dropout, batchnorm)(x)\n",
    "    \n",
    "      current_n_filters *= 2\n",
    "      \n",
    "      if not use_skip_conn:\n",
    "        s = None  # not to be used\n",
    "      \n",
    "      skip_conns.append(s)\n",
    "\n",
    "    return x, skip_conns\n",
    "\n",
    "  return _f\n",
    "\n",
    "\n",
    "def middle_path(kernel_shape, padding, dropout, batchnorm):\n",
    "  def _f(x):\n",
    "    n_filters = x.shape[-1] * 2\n",
    "    x = conv2d_block(n_filters, kernel_shape, padding, dropout, batchnorm)(x)\n",
    "    return x\n",
    "\n",
    "  return _f\n",
    "\n",
    "\n",
    "def expanding_block(n_filters, skip_conn, kernel_shape, pool_shape, padding, dropout, batchnorm):\n",
    "  upsampling = UpSampling2D(pool_shape)\n",
    "\n",
    "  def _f(x):\n",
    "    x = upsampling(x)\n",
    "    using_skip_conn = not (skip_conn is None)\n",
    "    \n",
    "    if using_skip_conn:\n",
    "      s = CenterCrop(x.shape[1], x.shape[2])(skip_conn)\n",
    "      x = concatenate([x, s])\n",
    "    \n",
    "    x = conv2d_block(n_filters, kernel_shape, padding, dropout, batchnorm)(x)\n",
    "    return x\n",
    "\n",
    "  return _f\n",
    "\n",
    "\n",
    "def expanding_path(skip_conns, kernel_shape, pool_shape, padding, dropout, batchnorm):\n",
    "  def _f(x):\n",
    "    current_n_filters = skip_conns[-1].shape[-1]\n",
    "\n",
    "    for skip_conn in reversed(skip_conns):\n",
    "      x = expanding_block(current_n_filters, skip_conn, kernel_shape, pool_shape, padding, dropout, batchnorm)(x)\n",
    "      current_n_filters /= 2\n",
    "\n",
    "    return x\n",
    "\n",
    "  return _f\n",
    "\n",
    "\n",
    "def final_path(n_classes, activation, padding):\n",
    "  def _f(x):\n",
    "    x = Conv2D(n_classes, (1, 1), padding=padding, activation=activation)(x)\n",
    "    return x\n",
    "\n",
    "  return _f\n",
    "\n",
    "\n",
    "def get_unet(img_shape, n_filters, n_layers, kernel_size, pool_size, n_classes, final_activation, padding, use_skip_conn, dropout=0.0, batchnorm=False):\n",
    "  n_dim = 2\n",
    "  kernel_shape = (kernel_size, ) * n_dim\n",
    "  pool_shape = (pool_size, ) * n_dim\n",
    "  \n",
    "  inp = Input(img_shape)\n",
    "  x = inp\n",
    "  x, skip_conns = contracting_path(n_filters, n_layers, kernel_shape, pool_shape, use_skip_conn, padding, dropout, batchnorm)(x)\n",
    "  x = middle_path(kernel_shape, padding, dropout, batchnorm)(x)\n",
    "  x = expanding_path(skip_conns, kernel_shape, pool_shape, padding, dropout, batchnorm)(x)\n",
    "  output = final_path(n_classes, final_activation, padding)(x)\n",
    "\n",
    "  model = Model(inputs=[inp], outputs=[output])\n",
    "  return model"
   ]
  },
  {
   "cell_type": "code",
   "execution_count": 14,
   "metadata": {},
   "outputs": [],
   "source": [
    "def do_training(model, X_train, y_train, best_model_weights_file, training_batch_size, epochs, callbacks, compile_args):\n",
    "  verbose = config.getint('experiment', 'verbose')\n",
    "  \n",
    "  model.compile(**compile_args)\n",
    "  results = model.fit(X_train, y_train, batch_size=training_batch_size, epochs=epochs, callbacks=callbacks, validation_data=(X_valid, y_valid))\n",
    "  model.load_weights(best_model_weights)\n",
    "  preds_val = model.predict(X_valid, verbose=verbose)\n",
    "  \n",
    "  return results\n",
    "\n",
    "def do_inference(model, best_model_weights_file, data):\n",
    "  verbose = config.getint('experiment', 'verbose')\n",
    "  \n",
    "  model.load_weights(best_model_weights)\n",
    "  preds_val = model.predict(data, verbose=verbose)\n",
    "  return preds_val"
   ]
  },
  {
   "cell_type": "code",
   "execution_count": 25,
   "metadata": {},
   "outputs": [],
   "source": [
    "experiments = [\n",
    "  {\n",
    "    'use_skip_conn': True,  # obviously\n",
    "    'padding': 'same',  # usual\n",
    "    'best_model_weights': 'with_same.h5',\n",
    "    'results': None\n",
    "  },\n",
    "  {\n",
    "    'use_skip_conn': False,\n",
    "    'padding': 'same',  # usual\n",
    "    'best_model_weights': 'without_same.h5',\n",
    "    'results': None\n",
    "  },\n",
    "  {\n",
    "    'use_skip_conn': True,  # obviously\n",
    "    'padding': 'valid',\n",
    "    'best_model_weights': 'with_valid.h5',\n",
    "    'results': None\n",
    "  },\n",
    "  {\n",
    "    'use_skip_conn': False,\n",
    "    'padding': 'valid',\n",
    "    'best_model_weights': 'without_valid.h5',\n",
    "    'results': None\n",
    "  }\n",
    "]\n",
    "\n",
    "base_args = {\n",
    "  'img_shape': (*img_shape, config.getint('image', 'depth')),\n",
    "  'n_filters': config.getint('unet', 'n filters'),\n",
    "  'n_layers': config.getint('unet', 'n layers'),\n",
    "  'kernel_size': 3,\n",
    "  'pool_size': 2,\n",
    "  'n_classes': 1,  # the other is 1 - (because it's a probability distribution)\n",
    "  'final_activation': config.get('unet', 'final activation'),\n",
    "  'dropout': config.getfloat('unet', 'dropout'),\n",
    "  'batchnorm': config.getboolean('unet', 'batchnorm')\n",
    "}\n",
    "\n",
    "compile_args = {\n",
    "  'optimizer': config.get('training', 'optimizer'),\n",
    "  'loss': config.get('training', 'loss'),\n",
    "  'metrics': ['accuracy', MeanIoU(num_classes=2)]  # todo re-implement\n",
    "}"
   ]
  },
  {
   "cell_type": "code",
   "execution_count": null,
   "metadata": {},
   "outputs": [],
   "source": [
    "def calc_out_size(n_layers):\n",
    "  \"\"\" calculate output size in a U-Net assuming padded convolutions \"\"\"\n",
    "\n",
    "  def _div_tup(t, y):\n",
    "    return (x / y for x in t)\n",
    "\n",
    "  def _mul_tup(t, y):\n",
    "    return (x * y for x in t)\n",
    "\n",
    "  def _sub_tup(t, y):\n",
    "    return (x - y for x in t)\n",
    "\n",
    "  def _f(x):\n",
    "    for _ in range(n_layers):  # contracting path\n",
    "      x = _sub_tup(x, 4)  # conv\n",
    "      x = _div_tup(x, 2)  # pool\n",
    "\n",
    "    x = _sub_tup(x, 4)  # conv\n",
    "\n",
    "    for _ in range(n_layers):  # expanding path\n",
    "      x = _mul_tup(x, 2)  # upsample\n",
    "      x = _sub_tup(x, 4)  # conv\n",
    "\n",
    "    x = tuple(int(_x) for _x in x)\n",
    "    return x\n",
    "\n",
    "  return _f\n",
    "\n",
    "def prepare_data(X_train, X_valid, y_train, y_valid, experiment):\n",
    "  if experiment['padding'] == 'valid':  # we have to reduce size of output\n",
    "    img_out_shape = calc_out_size(config.getint('unet', 'n layers'))(img_shape)\n",
    "    output_shape = (*output_size, config.getint('image', 'depth'))"
   ]
  },
  {
   "cell_type": "code",
   "execution_count": null,
   "metadata": {
    "colab": {
     "base_uri": "https://localhost:8080/",
     "height": 1000
    },
    "id": "x_-ElNmhvCFI",
    "outputId": "e10bd1b5-18b8-40ee-aabe-6cc553e2f448"
   },
   "outputs": [
    {
     "name": "stdout",
     "output_type": "stream",
     "text": [
      "Epoch 1/20\n"
     ]
    }
   ],
   "source": [
    "for experiment in experiments:\n",
    "  # prepare data\n",
    "  \n",
    "  \n",
    "  args = {\n",
    "    **base_args,\n",
    "    'padding': experiment['padding'],\n",
    "    'use_skip_conn': experiment['use_skip_conn']\n",
    "  }\n",
    "\n",
    "  verbose = config.getint('experiment', 'verbose')\n",
    "  callbacks = [\n",
    "    EarlyStopping(patience=10, verbose=verbose),  # todo what does it do?\n",
    "    ReduceLROnPlateau(factor=1e-1, patience=3, min_lr=1e-5, verbose=verbose),\n",
    "    ModelCheckpoint(experiment['best_model_weights'], monitor='loss', verbose=verbose, save_best_only=True, save_weights_only=True)\n",
    "  ]\n",
    "\n",
    "  model = get_unet(**args)\n",
    "  experiment['results'] = do_training(\n",
    "    model,\n",
    "    X_train,\n",
    "    y_train,\n",
    "    experiment['best_model_weights'], \n",
    "    config.getint('training', 'batch size'), \n",
    "    config.getint('training', 'epochs'),  # todo try 100\n",
    "    callbacks,\n",
    "    compile_args\n",
    "  )\n",
    "  # preds = do_inference(model, experiment['best_model_weights'], X_valid)"
   ]
  },
  {
   "cell_type": "code",
   "execution_count": null,
   "metadata": {},
   "outputs": [],
   "source": []
  }
 ],
 "metadata": {
  "accelerator": "GPU",
  "colab": {
   "collapsed_sections": [],
   "name": "simple.ipynb",
   "provenance": []
  },
  "kernelspec": {
   "display_name": "Python 3",
   "language": "python",
   "name": "python3"
  },
  "language_info": {
   "codemirror_mode": {
    "name": "ipython",
    "version": 3
   },
   "file_extension": ".py",
   "mimetype": "text/x-python",
   "name": "python",
   "nbconvert_exporter": "python",
   "pygments_lexer": "ipython3",
   "version": "3.8.5"
  }
 },
 "nbformat": 4,
 "nbformat_minor": 1
}
