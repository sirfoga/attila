{
 "cells": [
  {
   "cell_type": "code",
   "execution_count": null,
   "metadata": {},
   "outputs": [],
   "source": [
    "%load_ext autoreload\n",
    "%reload_ext autoreload\n",
    "%autoreload 2"
   ]
  },
  {
   "cell_type": "code",
   "execution_count": null,
   "metadata": {},
   "outputs": [],
   "source": [
    "%matplotlib inline\n",
    "\n",
    "from pathlib import Path\n",
    "from sklearn.model_selection import train_test_split\n",
    "import numpy as np\n",
    "\n",
    "from attila.data.parse import parse_data, get_data\n",
    "from attila.experiments.do import do_batch_experiments, do_experiment\n",
    "from attila.util.config import get_env\n",
    "from attila.util.io import load_json, stuff2pickle\n",
    "from attila.util.plots import extract_preds"
   ]
  },
  {
   "cell_type": "code",
   "execution_count": null,
   "metadata": {},
   "outputs": [],
   "source": [
    "_here = Path('.').resolve()"
   ]
  },
  {
   "cell_type": "code",
   "execution_count": null,
   "metadata": {},
   "outputs": [],
   "source": [
    "config, data_path, out_path, _ = get_env(_here)\n",
    "out_path.mkdir(parents=True, exist_ok=True)  # rm and mkdir if existing\n",
    "\n",
    "images_path = data_path / config.get('data', 'images')\n",
    "masks_path = data_path / config.get('data', 'masks')"
   ]
  },
  {
   "cell_type": "code",
   "execution_count": null,
   "metadata": {},
   "outputs": [],
   "source": [
    "raw = get_data(images_path, masks_path)\n",
    "X, y = parse_data(\n",
    "    raw,\n",
    "    (config.getint('image', 'width'), config.getint('image', 'height'))\n",
    ")"
   ]
  },
  {
   "cell_type": "code",
   "execution_count": null,
   "metadata": {},
   "outputs": [],
   "source": [
    "config.set('experiments', 'test size', '0.95')  # or any other big amount (< 1)\n",
    "\n",
    "X_train, X_test, y_train, y_test = train_test_split(\n",
    "    X, y,\n",
    "    test_size=config.getfloat('experiments', 'test size'),\n",
    "    random_state=42  # reproducible results\n",
    ")\n",
    "print('train/val data: X ~ {}, y ~ {}'.format(X_train.shape, y_train.shape))\n",
    "print('test data: X ~ {}, y ~ {}'.format(X_test.shape, y_test.shape))\n",
    "\n",
    "num_plots = 4\n",
    "plot_ids = np.random.randint(len(X_test), size=num_plots)"
   ]
  },
  {
   "cell_type": "code",
   "execution_count": null,
   "metadata": {},
   "outputs": [],
   "source": [
    "experiment = {\n",
    "  \"use_skip_conn\": True,\n",
    "  \"padding\": \"same\",\n",
    "  \"use_se_block\": False,\n",
    "  \"name\": \"with_same\"\n",
    "}\n",
    "\n",
    "config.set('experiments', 'val size', '0.5')  # not very necessary to validate\n",
    "config.set('training', 'batch size', '2')  # very mini-batch size\n",
    "config.set('training', 'epochs', '20')  # or any other small amount"
   ]
  },
  {
   "cell_type": "code",
   "execution_count": null,
   "metadata": {},
   "outputs": [],
   "source": [
    "config.set('data', 'aug', 'False')\n",
    "\n",
    "summary = do_experiment(experiment, (X_train, X_test, y_train, y_test), 0, config, plot_ids)\n",
    "\n",
    "out_folder = out_path / 'trials' / 'to-aug-or-not' / 'no-aug'\n",
    "out_folder.mkdir(parents=True, exist_ok=True)\n",
    "out_f = out_folder / config.get('experiments', 'output file')\n",
    "stuff2pickle(summary, out_f)"
   ]
  },
  {
   "cell_type": "code",
   "execution_count": null,
   "metadata": {},
   "outputs": [],
   "source": [
    "config.set('data', 'aug', 'True')\n",
    "\n",
    "summary = do_experiment(experiment, (X_train, X_test, y_train, y_test), 0, config, plot_ids)\n",
    "\n",
    "out_folder = out_path / 'trials' / 'to-aug-or-not' / 'aug'\n",
    "out_folder.mkdir(parents=True, exist_ok=True)\n",
    "out_f = out_folder / config.get('experiments', 'output file')\n",
    "stuff2pickle(summary, out_f)"
   ]
  },
  {
   "cell_type": "code",
   "execution_count": null,
   "metadata": {},
   "outputs": [],
   "source": [
    "for folder in dirs(out_path / 'trials' / 'to-aug-or-not'):\n",
    "  summary = get_summary(folder, config)\n",
    "  plot_history(\n",
    "    summary['history'],\n",
    "    out_folder=folder\n",
    "  )\n",
    "  print('history img saved in {}'.format(model_folder))"
   ]
  }
 ],
 "metadata": {
  "kernelspec": {
   "display_name": "attila",
   "language": "python",
   "name": "attila"
  },
  "language_info": {
   "codemirror_mode": {
    "name": "ipython",
    "version": 3
   },
   "file_extension": ".py",
   "mimetype": "text/x-python",
   "name": "python",
   "nbconvert_exporter": "python",
   "pygments_lexer": "ipython3",
   "version": "3.8.5"
  }
 },
 "nbformat": 4,
 "nbformat_minor": 2
}
