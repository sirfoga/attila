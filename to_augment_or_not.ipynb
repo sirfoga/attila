{
 "cells": [
  {
   "cell_type": "code",
   "execution_count": 1,
   "metadata": {},
   "outputs": [],
   "source": [
    "%load_ext autoreload\n",
    "%reload_ext autoreload\n",
    "%autoreload 2"
   ]
  },
  {
   "cell_type": "code",
   "execution_count": 2,
   "metadata": {},
   "outputs": [
    {
     "name": "stderr",
     "output_type": "stream",
     "text": [
      "Using TensorFlow backend.\n"
     ]
    }
   ],
   "source": [
    "%matplotlib inline\n",
    "\n",
    "from pathlib import Path\n",
    "from sklearn.model_selection import train_test_split\n",
    "import numpy as np\n",
    "\n",
    "from attila.data.parse import parse_data, get_data\n",
    "from attila.experiments.do import do_batch_experiments, do_experiment\n",
    "from attila.util.config import get_env\n",
    "from attila.util.io import load_json, stuff2pickle\n",
    "from attila.util.plots import extract_preds"
   ]
  },
  {
   "cell_type": "code",
   "execution_count": 3,
   "metadata": {},
   "outputs": [],
   "source": [
    "_here = Path('.').resolve()"
   ]
  },
  {
   "cell_type": "code",
   "execution_count": 4,
   "metadata": {},
   "outputs": [],
   "source": [
    "config, data_path, out_path, _ = get_env(_here)\n",
    "out_path.mkdir(parents=True, exist_ok=True)  # rm and mkdir if existing\n",
    "\n",
    "images_path = data_path / config.get('data', 'images')\n",
    "masks_path = data_path / config.get('data', 'masks')"
   ]
  },
  {
   "cell_type": "code",
   "execution_count": 5,
   "metadata": {},
   "outputs": [],
   "source": [
    "raw = get_data(images_path, masks_path)\n",
    "X, y = parse_data(\n",
    "    raw,\n",
    "    (config.getint('image', 'width'), config.getint('image', 'height'))\n",
    ")"
   ]
  },
  {
   "cell_type": "code",
   "execution_count": 6,
   "metadata": {},
   "outputs": [
    {
     "name": "stdout",
     "output_type": "stream",
     "text": [
      "train/val data: X ~ (4, 512, 512, 1), y ~ (4, 512, 512, 3)\n",
      "test data: X ~ (88, 512, 512, 1), y ~ (88, 512, 512, 3)\n"
     ]
    }
   ],
   "source": [
    "config.set('experiments', 'test size', '0.95')  # or any other big amount (< 1)\n",
    "\n",
    "X_train, X_test, y_train, y_test = train_test_split(\n",
    "    X, y,\n",
    "    test_size=config.getfloat('experiments', 'test size'),\n",
    "    random_state=42  # reproducible results\n",
    ")\n",
    "print('train/val data: X ~ {}, y ~ {}'.format(X_train.shape, y_train.shape))\n",
    "print('test data: X ~ {}, y ~ {}'.format(X_test.shape, y_test.shape))\n",
    "\n",
    "num_plots = 4\n",
    "plot_ids = np.random.randint(len(X_test), size=num_plots)"
   ]
  },
  {
   "cell_type": "code",
   "execution_count": 7,
   "metadata": {},
   "outputs": [],
   "source": [
    "experiment = {\n",
    "  \"use_skip_conn\": True,\n",
    "  \"padding\": \"same\",\n",
    "  \"use_se_block\": False,\n",
    "  \"name\": \"with_same\"\n",
    "}\n",
    "\n",
    "config.set('experiments', 'val size', '0.5')  # not very necessary to validate\n",
    "config.set('training', 'batch size', '2')  # very mini-batch size\n",
    "config.set('training', 'epochs', '20')  # or any other small amount"
   ]
  },
  {
   "cell_type": "code",
   "execution_count": 8,
   "metadata": {},
   "outputs": [
    {
     "name": "stdout",
     "output_type": "stream",
     "text": [
      "training data: X ~ (4, 512, 512, 1), y ~ (4, 512, 512, 3)\n",
      "testing data: X ~ (88, 512, 512, 1), y ~ (88, 512, 512, 3)\n",
      "Epoch 1/20\n",
      "8/8 [==============================] - 14s 2s/step - loss: 1.0859 - accuracy: 0.0901 - attila_metrics_mean_IoU: 0.0356 - attila_metrics_DSC: 0.0653 - val_loss: 1.0760 - val_accuracy: 0.2682 - val_attila_metrics_mean_IoU: 0.0406 - val_attila_metrics_DSC: 0.0733 - lr: 2.0000e-05\n",
      "Epoch 2/20\n",
      "8/8 [==============================] - 13s 2s/step - loss: 1.0715 - accuracy: 0.6942 - attila_metrics_mean_IoU: 0.0356 - attila_metrics_DSC: 0.0653 - val_loss: 1.0599 - val_accuracy: 0.9434 - val_attila_metrics_mean_IoU: 0.0406 - val_attila_metrics_DSC: 0.0733 - lr: 2.0000e-05\n",
      "Epoch 3/20\n",
      "8/8 [==============================] - 13s 2s/step - loss: 1.0508 - accuracy: 0.9617 - attila_metrics_mean_IoU: 0.0356 - attila_metrics_DSC: 0.0653 - val_loss: 1.0236 - val_accuracy: 0.9751 - val_attila_metrics_mean_IoU: 0.0406 - val_attila_metrics_DSC: 0.0733 - lr: 2.0000e-05\n",
      "Epoch 4/20\n",
      "8/8 [==============================] - 13s 2s/step - loss: 0.9272 - accuracy: 0.9738 - attila_metrics_mean_IoU: 0.0309 - attila_metrics_DSC: 0.0573 - val_loss: 0.6350 - val_accuracy: 0.9373 - val_attila_metrics_mean_IoU: 0.5494 - val_attila_metrics_DSC: 0.5944 - lr: 2.0000e-05\n",
      "Epoch 5/20\n",
      "8/8 [==============================] - 13s 2s/step - loss: 0.5181 - accuracy: 0.9434 - attila_metrics_mean_IoU: 0.6605 - attila_metrics_DSC: 0.6771 - val_loss: 0.4087 - val_accuracy: 0.9353 - val_attila_metrics_mean_IoU: 0.6574 - val_attila_metrics_DSC: 0.6709 - lr: 2.0000e-05\n",
      "Epoch 6/20\n",
      "8/8 [==============================] - 13s 2s/step - loss: 0.3565 - accuracy: 0.9443 - attila_metrics_mean_IoU: 0.6605 - attila_metrics_DSC: 0.6771 - val_loss: 0.3018 - val_accuracy: 0.9360 - val_attila_metrics_mean_IoU: 0.6574 - val_attila_metrics_DSC: 0.6709 - lr: 2.0000e-05\n",
      "Epoch 7/20\n",
      "8/8 [==============================] - 13s 2s/step - loss: 0.2513 - accuracy: 0.9445 - attila_metrics_mean_IoU: 0.6605 - attila_metrics_DSC: 0.6771 - val_loss: 0.2254 - val_accuracy: 0.9400 - val_attila_metrics_mean_IoU: 0.6574 - val_attila_metrics_DSC: 0.6709 - lr: 2.0000e-05\n",
      "Epoch 8/20\n",
      "8/8 [==============================] - 13s 2s/step - loss: 0.1819 - accuracy: 0.9491 - attila_metrics_mean_IoU: 0.6605 - attila_metrics_DSC: 0.6771 - val_loss: 0.1823 - val_accuracy: 0.9464 - val_attila_metrics_mean_IoU: 0.6584 - val_attila_metrics_DSC: 0.6724 - lr: 2.0000e-05\n",
      "Epoch 9/20\n",
      "8/8 [==============================] - 13s 2s/step - loss: 0.1454 - accuracy: 0.9626 - attila_metrics_mean_IoU: 0.7004 - attila_metrics_DSC: 0.7274 - val_loss: 0.1548 - val_accuracy: 0.9583 - val_attila_metrics_mean_IoU: 0.7087 - val_attila_metrics_DSC: 0.7329 - lr: 2.0000e-05\n",
      "Epoch 10/20\n",
      "8/8 [==============================] - 13s 2s/step - loss: 0.1244 - accuracy: 0.9677 - attila_metrics_mean_IoU: 0.7443 - attila_metrics_DSC: 0.7748 - val_loss: 0.1328 - val_accuracy: 0.9635 - val_attila_metrics_mean_IoU: 0.7442 - val_attila_metrics_DSC: 0.7674 - lr: 2.0000e-05\n",
      "Epoch 11/20\n",
      "8/8 [==============================] - 13s 2s/step - loss: 0.1085 - accuracy: 0.9704 - attila_metrics_mean_IoU: 0.7831 - attila_metrics_DSC: 0.8137 - val_loss: 0.1126 - val_accuracy: 0.9667 - val_attila_metrics_mean_IoU: 0.7594 - val_attila_metrics_DSC: 0.7812 - lr: 2.0000e-05\n",
      "Epoch 12/20\n",
      "8/8 [==============================] - 13s 2s/step - loss: 0.0915 - accuracy: 0.9745 - attila_metrics_mean_IoU: 0.8269 - attila_metrics_DSC: 0.8656 - val_loss: 0.0928 - val_accuracy: 0.9730 - val_attila_metrics_mean_IoU: 0.8124 - val_attila_metrics_DSC: 0.8483 - lr: 2.0000e-05\n",
      "Epoch 13/20\n",
      "8/8 [==============================] - 13s 2s/step - loss: 0.0769 - accuracy: 0.9797 - attila_metrics_mean_IoU: 0.9009 - attila_metrics_DSC: 0.9335 - val_loss: 0.0782 - val_accuracy: 0.9795 - val_attila_metrics_mean_IoU: 0.8832 - val_attila_metrics_DSC: 0.9158 - lr: 2.0000e-05\n",
      "Epoch 14/20\n",
      "8/8 [==============================] - 13s 2s/step - loss: 0.0652 - accuracy: 0.9829 - attila_metrics_mean_IoU: 0.9334 - attila_metrics_DSC: 0.9586 - val_loss: 0.0681 - val_accuracy: 0.9823 - val_attila_metrics_mean_IoU: 0.9121 - val_attila_metrics_DSC: 0.9398 - lr: 2.0000e-05\n",
      "Epoch 15/20\n",
      "8/8 [==============================] - 13s 2s/step - loss: 0.0566 - accuracy: 0.9846 - attila_metrics_mean_IoU: 0.9516 - attila_metrics_DSC: 0.9716 - val_loss: 0.0614 - val_accuracy: 0.9831 - val_attila_metrics_mean_IoU: 0.9179 - val_attila_metrics_DSC: 0.9449 - lr: 2.0000e-05\n",
      "Epoch 16/20\n",
      "8/8 [==============================] - 13s 2s/step - loss: 0.0508 - accuracy: 0.9856 - attila_metrics_mean_IoU: 0.9564 - attila_metrics_DSC: 0.9750 - val_loss: 0.0561 - val_accuracy: 0.9842 - val_attila_metrics_mean_IoU: 0.9286 - val_attila_metrics_DSC: 0.9528 - lr: 2.0000e-05\n",
      "Epoch 17/20\n",
      "8/8 [==============================] - 13s 2s/step - loss: 0.0465 - accuracy: 0.9863 - attila_metrics_mean_IoU: 0.9599 - attila_metrics_DSC: 0.9771 - val_loss: 0.0520 - val_accuracy: 0.9853 - val_attila_metrics_mean_IoU: 0.9392 - val_attila_metrics_DSC: 0.9601 - lr: 2.0000e-05\n",
      "Epoch 18/20\n",
      "8/8 [==============================] - 13s 2s/step - loss: 0.0429 - accuracy: 0.9869 - attila_metrics_mean_IoU: 0.9626 - attila_metrics_DSC: 0.9785 - val_loss: 0.0490 - val_accuracy: 0.9855 - val_attila_metrics_mean_IoU: 0.9426 - val_attila_metrics_DSC: 0.9631 - lr: 2.0000e-05\n",
      "Epoch 19/20\n",
      "8/8 [==============================] - 13s 2s/step - loss: 0.0400 - accuracy: 0.9874 - attila_metrics_mean_IoU: 0.9628 - attila_metrics_DSC: 0.9786 - val_loss: 0.0475 - val_accuracy: 0.9853 - val_attila_metrics_mean_IoU: 0.9325 - val_attila_metrics_DSC: 0.9567 - lr: 2.0000e-05\n",
      "Epoch 20/20\n",
      "8/8 [==============================] - 13s 2s/step - loss: 0.0374 - accuracy: 0.9879 - attila_metrics_mean_IoU: 0.9610 - attila_metrics_DSC: 0.9774 - val_loss: 0.0440 - val_accuracy: 0.9864 - val_attila_metrics_mean_IoU: 0.9544 - val_attila_metrics_DSC: 0.9716 - lr: 2.0000e-05\n"
     ]
    }
   ],
   "source": [
    "config.set('data', 'aug', 'False')\n",
    "\n",
    "summary = do_experiment(experiment, (X_train, X_test, y_train, y_test), 0, config, plot_ids)\n",
    "\n",
    "out_folder = out_path / 'trials' / 'no-aug'\n",
    "out_folder.mkdir(parents=True, exist_ok=True)\n",
    "out_f = out_folder / config.get('experiments', 'output file')\n",
    "stuff2pickle(summary, out_f)"
   ]
  },
  {
   "cell_type": "code",
   "execution_count": 9,
   "metadata": {},
   "outputs": [
    {
     "name": "stdout",
     "output_type": "stream",
     "text": [
      "training data: X ~ (4, 512, 512, 1), y ~ (4, 512, 512, 3)\n",
      "testing data: X ~ (88, 512, 512, 1), y ~ (88, 512, 512, 3)\n",
      "Epoch 1/20\n",
      "8/8 [==============================] - 14s 2s/step - loss: 1.0879 - accuracy: 0.2905 - attila_metrics_mean_IoU: 0.0356 - attila_metrics_DSC: 0.0653 - val_loss: 1.0753 - val_accuracy: 0.8413 - val_attila_metrics_mean_IoU: 0.0406 - val_attila_metrics_DSC: 0.0733 - lr: 2.0000e-05\n",
      "Epoch 2/20\n",
      "8/8 [==============================] - 13s 2s/step - loss: 1.0683 - accuracy: 0.9301 - attila_metrics_mean_IoU: 0.0356 - attila_metrics_DSC: 0.0653 - val_loss: 1.0540 - val_accuracy: 0.9668 - val_attila_metrics_mean_IoU: 0.0406 - val_attila_metrics_DSC: 0.0733 - lr: 2.0000e-05\n",
      "Epoch 3/20\n",
      "8/8 [==============================] - 13s 2s/step - loss: 1.0437 - accuracy: 0.9748 - attila_metrics_mean_IoU: 0.0356 - attila_metrics_DSC: 0.0653 - val_loss: 1.0132 - val_accuracy: 0.9837 - val_attila_metrics_mean_IoU: 0.0406 - val_attila_metrics_DSC: 0.0733 - lr: 2.0000e-05\n",
      "Epoch 4/20\n",
      "8/8 [==============================] - ETA: 0s - loss: 0.8907 - accuracy: 0.9747 - attila_metrics_mean_IoU: 0.0490 - attila_metrics_DSC: 0.0800"
     ]
    },
    {
     "ename": "KeyboardInterrupt",
     "evalue": "",
     "output_type": "error",
     "traceback": [
      "\u001b[0;31m---------------------------------------------------------------------------\u001b[0m",
      "\u001b[0;31mKeyboardInterrupt\u001b[0m                         Traceback (most recent call last)",
      "\u001b[0;32m<ipython-input-9-58625d5982b1>\u001b[0m in \u001b[0;36m<module>\u001b[0;34m\u001b[0m\n\u001b[1;32m      1\u001b[0m \u001b[0mconfig\u001b[0m\u001b[0;34m.\u001b[0m\u001b[0mset\u001b[0m\u001b[0;34m(\u001b[0m\u001b[0;34m'data'\u001b[0m\u001b[0;34m,\u001b[0m \u001b[0;34m'aug'\u001b[0m\u001b[0;34m,\u001b[0m \u001b[0;34m'True'\u001b[0m\u001b[0;34m)\u001b[0m\u001b[0;34m\u001b[0m\u001b[0;34m\u001b[0m\u001b[0m\n\u001b[1;32m      2\u001b[0m \u001b[0;34m\u001b[0m\u001b[0m\n\u001b[0;32m----> 3\u001b[0;31m \u001b[0msummary\u001b[0m \u001b[0;34m=\u001b[0m \u001b[0mdo_experiment\u001b[0m\u001b[0;34m(\u001b[0m\u001b[0mexperiment\u001b[0m\u001b[0;34m,\u001b[0m \u001b[0;34m(\u001b[0m\u001b[0mX_train\u001b[0m\u001b[0;34m,\u001b[0m \u001b[0mX_test\u001b[0m\u001b[0;34m,\u001b[0m \u001b[0my_train\u001b[0m\u001b[0;34m,\u001b[0m \u001b[0my_test\u001b[0m\u001b[0;34m)\u001b[0m\u001b[0;34m,\u001b[0m \u001b[0;36m0\u001b[0m\u001b[0;34m,\u001b[0m \u001b[0mconfig\u001b[0m\u001b[0;34m,\u001b[0m \u001b[0mplot_ids\u001b[0m\u001b[0;34m)\u001b[0m\u001b[0;34m\u001b[0m\u001b[0;34m\u001b[0m\u001b[0m\n\u001b[0m\u001b[1;32m      4\u001b[0m \u001b[0;34m\u001b[0m\u001b[0m\n\u001b[1;32m      5\u001b[0m \u001b[0mout_folder\u001b[0m \u001b[0;34m=\u001b[0m \u001b[0mout_path\u001b[0m \u001b[0;34m/\u001b[0m \u001b[0;34m'trails'\u001b[0m \u001b[0;34m/\u001b[0m \u001b[0;34m'no-aug'\u001b[0m\u001b[0;34m\u001b[0m\u001b[0;34m\u001b[0m\u001b[0m\n",
      "\u001b[0;32m/home/h4/stfo194b/scratch/attila/attila/experiments/do.py\u001b[0m in \u001b[0;36mdo_experiment\u001b[0;34m(experiment, data, split_seed, config, plot_ids, do_sanity_checks)\u001b[0m\n\u001b[1;32m    232\u001b[0m             \u001b[0mn_epochs\u001b[0m\u001b[0;34m,\u001b[0m\u001b[0;34m\u001b[0m\u001b[0;34m\u001b[0m\u001b[0m\n\u001b[1;32m    233\u001b[0m             \u001b[0mcompile_args\u001b[0m\u001b[0;34m,\u001b[0m\u001b[0;34m\u001b[0m\u001b[0;34m\u001b[0m\u001b[0m\n\u001b[0;32m--> 234\u001b[0;31m             \u001b[0mcallbacks\u001b[0m\u001b[0;34m\u001b[0m\u001b[0;34m\u001b[0m\u001b[0m\n\u001b[0m\u001b[1;32m    235\u001b[0m         )\n\u001b[1;32m    236\u001b[0m \u001b[0;34m\u001b[0m\u001b[0m\n",
      "\u001b[0;32m/home/h4/stfo194b/scratch/attila/attila/nn/core.py\u001b[0m in \u001b[0;36mdo_training\u001b[0;34m(model, data_gen, training_steps_per_epoch, validation_steps_per_epoch, n_epochs, compile_args, callbacks)\u001b[0m\n\u001b[1;32m     14\u001b[0m         \u001b[0msteps_per_epoch\u001b[0m\u001b[0;34m=\u001b[0m\u001b[0mtraining_steps_per_epoch\u001b[0m\u001b[0;34m,\u001b[0m\u001b[0;34m\u001b[0m\u001b[0;34m\u001b[0m\u001b[0m\n\u001b[1;32m     15\u001b[0m         \u001b[0mepochs\u001b[0m\u001b[0;34m=\u001b[0m\u001b[0mn_epochs\u001b[0m\u001b[0;34m,\u001b[0m\u001b[0;34m\u001b[0m\u001b[0;34m\u001b[0m\u001b[0m\n\u001b[0;32m---> 16\u001b[0;31m         \u001b[0mcallbacks\u001b[0m\u001b[0;34m=\u001b[0m\u001b[0mcallbacks\u001b[0m\u001b[0;34m,\u001b[0m\u001b[0;34m\u001b[0m\u001b[0;34m\u001b[0m\u001b[0m\n\u001b[0m\u001b[1;32m     17\u001b[0m         \u001b[0;31m# workers=1,  # todo fix taurus writing\u001b[0m\u001b[0;34m\u001b[0m\u001b[0;34m\u001b[0m\u001b[0;34m\u001b[0m\u001b[0m\n\u001b[1;32m     18\u001b[0m         \u001b[0;31m# use_multiprocessing=False,\u001b[0m\u001b[0;34m\u001b[0m\u001b[0;34m\u001b[0m\u001b[0;34m\u001b[0m\u001b[0m\n",
      "\u001b[0;32m/sw/installed/TensorFlow/2.2.0-fosscuda-2019b-Python-3.7.4/lib/python3.7/site-packages/tensorflow/python/keras/engine/training.py\u001b[0m in \u001b[0;36m_method_wrapper\u001b[0;34m(self, *args, **kwargs)\u001b[0m\n\u001b[1;32m     64\u001b[0m   \u001b[0;32mdef\u001b[0m \u001b[0m_method_wrapper\u001b[0m\u001b[0;34m(\u001b[0m\u001b[0mself\u001b[0m\u001b[0;34m,\u001b[0m \u001b[0;34m*\u001b[0m\u001b[0margs\u001b[0m\u001b[0;34m,\u001b[0m \u001b[0;34m**\u001b[0m\u001b[0mkwargs\u001b[0m\u001b[0;34m)\u001b[0m\u001b[0;34m:\u001b[0m\u001b[0;34m\u001b[0m\u001b[0;34m\u001b[0m\u001b[0m\n\u001b[1;32m     65\u001b[0m     \u001b[0;32mif\u001b[0m \u001b[0;32mnot\u001b[0m \u001b[0mself\u001b[0m\u001b[0;34m.\u001b[0m\u001b[0m_in_multi_worker_mode\u001b[0m\u001b[0;34m(\u001b[0m\u001b[0;34m)\u001b[0m\u001b[0;34m:\u001b[0m  \u001b[0;31m# pylint: disable=protected-access\u001b[0m\u001b[0;34m\u001b[0m\u001b[0;34m\u001b[0m\u001b[0m\n\u001b[0;32m---> 66\u001b[0;31m       \u001b[0;32mreturn\u001b[0m \u001b[0mmethod\u001b[0m\u001b[0;34m(\u001b[0m\u001b[0mself\u001b[0m\u001b[0;34m,\u001b[0m \u001b[0;34m*\u001b[0m\u001b[0margs\u001b[0m\u001b[0;34m,\u001b[0m \u001b[0;34m**\u001b[0m\u001b[0mkwargs\u001b[0m\u001b[0;34m)\u001b[0m\u001b[0;34m\u001b[0m\u001b[0;34m\u001b[0m\u001b[0m\n\u001b[0m\u001b[1;32m     67\u001b[0m \u001b[0;34m\u001b[0m\u001b[0m\n\u001b[1;32m     68\u001b[0m     \u001b[0;31m# Running inside `run_distribute_coordinator` already.\u001b[0m\u001b[0;34m\u001b[0m\u001b[0;34m\u001b[0m\u001b[0;34m\u001b[0m\u001b[0m\n",
      "\u001b[0;32m/sw/installed/TensorFlow/2.2.0-fosscuda-2019b-Python-3.7.4/lib/python3.7/site-packages/tensorflow/python/keras/engine/training.py\u001b[0m in \u001b[0;36mfit\u001b[0;34m(self, x, y, batch_size, epochs, verbose, callbacks, validation_split, validation_data, shuffle, class_weight, sample_weight, initial_epoch, steps_per_epoch, validation_steps, validation_batch_size, validation_freq, max_queue_size, workers, use_multiprocessing)\u001b[0m\n\u001b[1;32m    870\u001b[0m               \u001b[0mworkers\u001b[0m\u001b[0;34m=\u001b[0m\u001b[0mworkers\u001b[0m\u001b[0;34m,\u001b[0m\u001b[0;34m\u001b[0m\u001b[0;34m\u001b[0m\u001b[0m\n\u001b[1;32m    871\u001b[0m               \u001b[0muse_multiprocessing\u001b[0m\u001b[0;34m=\u001b[0m\u001b[0muse_multiprocessing\u001b[0m\u001b[0;34m,\u001b[0m\u001b[0;34m\u001b[0m\u001b[0;34m\u001b[0m\u001b[0m\n\u001b[0;32m--> 872\u001b[0;31m               return_dict=True)\n\u001b[0m\u001b[1;32m    873\u001b[0m           \u001b[0mval_logs\u001b[0m \u001b[0;34m=\u001b[0m \u001b[0;34m{\u001b[0m\u001b[0;34m'val_'\u001b[0m \u001b[0;34m+\u001b[0m \u001b[0mname\u001b[0m\u001b[0;34m:\u001b[0m \u001b[0mval\u001b[0m \u001b[0;32mfor\u001b[0m \u001b[0mname\u001b[0m\u001b[0;34m,\u001b[0m \u001b[0mval\u001b[0m \u001b[0;32min\u001b[0m \u001b[0mval_logs\u001b[0m\u001b[0;34m.\u001b[0m\u001b[0mitems\u001b[0m\u001b[0;34m(\u001b[0m\u001b[0;34m)\u001b[0m\u001b[0;34m}\u001b[0m\u001b[0;34m\u001b[0m\u001b[0;34m\u001b[0m\u001b[0m\n\u001b[1;32m    874\u001b[0m           \u001b[0mepoch_logs\u001b[0m\u001b[0;34m.\u001b[0m\u001b[0mupdate\u001b[0m\u001b[0;34m(\u001b[0m\u001b[0mval_logs\u001b[0m\u001b[0;34m)\u001b[0m\u001b[0;34m\u001b[0m\u001b[0;34m\u001b[0m\u001b[0m\n",
      "\u001b[0;32m/sw/installed/TensorFlow/2.2.0-fosscuda-2019b-Python-3.7.4/lib/python3.7/site-packages/tensorflow/python/keras/engine/training.py\u001b[0m in \u001b[0;36m_method_wrapper\u001b[0;34m(self, *args, **kwargs)\u001b[0m\n\u001b[1;32m     64\u001b[0m   \u001b[0;32mdef\u001b[0m \u001b[0m_method_wrapper\u001b[0m\u001b[0;34m(\u001b[0m\u001b[0mself\u001b[0m\u001b[0;34m,\u001b[0m \u001b[0;34m*\u001b[0m\u001b[0margs\u001b[0m\u001b[0;34m,\u001b[0m \u001b[0;34m**\u001b[0m\u001b[0mkwargs\u001b[0m\u001b[0;34m)\u001b[0m\u001b[0;34m:\u001b[0m\u001b[0;34m\u001b[0m\u001b[0;34m\u001b[0m\u001b[0m\n\u001b[1;32m     65\u001b[0m     \u001b[0;32mif\u001b[0m \u001b[0;32mnot\u001b[0m \u001b[0mself\u001b[0m\u001b[0;34m.\u001b[0m\u001b[0m_in_multi_worker_mode\u001b[0m\u001b[0;34m(\u001b[0m\u001b[0;34m)\u001b[0m\u001b[0;34m:\u001b[0m  \u001b[0;31m# pylint: disable=protected-access\u001b[0m\u001b[0;34m\u001b[0m\u001b[0;34m\u001b[0m\u001b[0m\n\u001b[0;32m---> 66\u001b[0;31m       \u001b[0;32mreturn\u001b[0m \u001b[0mmethod\u001b[0m\u001b[0;34m(\u001b[0m\u001b[0mself\u001b[0m\u001b[0;34m,\u001b[0m \u001b[0;34m*\u001b[0m\u001b[0margs\u001b[0m\u001b[0;34m,\u001b[0m \u001b[0;34m**\u001b[0m\u001b[0mkwargs\u001b[0m\u001b[0;34m)\u001b[0m\u001b[0;34m\u001b[0m\u001b[0;34m\u001b[0m\u001b[0m\n\u001b[0m\u001b[1;32m     67\u001b[0m \u001b[0;34m\u001b[0m\u001b[0m\n\u001b[1;32m     68\u001b[0m     \u001b[0;31m# Running inside `run_distribute_coordinator` already.\u001b[0m\u001b[0;34m\u001b[0m\u001b[0;34m\u001b[0m\u001b[0;34m\u001b[0m\u001b[0m\n",
      "\u001b[0;32m/sw/installed/TensorFlow/2.2.0-fosscuda-2019b-Python-3.7.4/lib/python3.7/site-packages/tensorflow/python/keras/engine/training.py\u001b[0m in \u001b[0;36mevaluate\u001b[0;34m(self, x, y, batch_size, verbose, sample_weight, steps, callbacks, max_queue_size, workers, use_multiprocessing, return_dict)\u001b[0m\n\u001b[1;32m   1079\u001b[0m                 step_num=step):\n\u001b[1;32m   1080\u001b[0m               \u001b[0mcallbacks\u001b[0m\u001b[0;34m.\u001b[0m\u001b[0mon_test_batch_begin\u001b[0m\u001b[0;34m(\u001b[0m\u001b[0mstep\u001b[0m\u001b[0;34m)\u001b[0m\u001b[0;34m\u001b[0m\u001b[0;34m\u001b[0m\u001b[0m\n\u001b[0;32m-> 1081\u001b[0;31m               \u001b[0mtmp_logs\u001b[0m \u001b[0;34m=\u001b[0m \u001b[0mtest_function\u001b[0m\u001b[0;34m(\u001b[0m\u001b[0miterator\u001b[0m\u001b[0;34m)\u001b[0m\u001b[0;34m\u001b[0m\u001b[0;34m\u001b[0m\u001b[0m\n\u001b[0m\u001b[1;32m   1082\u001b[0m               \u001b[0;31m# Catch OutOfRangeError for Datasets of unknown size.\u001b[0m\u001b[0;34m\u001b[0m\u001b[0;34m\u001b[0m\u001b[0;34m\u001b[0m\u001b[0m\n\u001b[1;32m   1083\u001b[0m               \u001b[0;31m# This blocks until the batch has finished executing.\u001b[0m\u001b[0;34m\u001b[0m\u001b[0;34m\u001b[0m\u001b[0;34m\u001b[0m\u001b[0m\n",
      "\u001b[0;32m/sw/installed/TensorFlow/2.2.0-fosscuda-2019b-Python-3.7.4/lib/python3.7/site-packages/tensorflow/python/eager/def_function.py\u001b[0m in \u001b[0;36m__call__\u001b[0;34m(self, *args, **kwds)\u001b[0m\n\u001b[1;32m    578\u001b[0m         \u001b[0mxla_context\u001b[0m\u001b[0;34m.\u001b[0m\u001b[0mExit\u001b[0m\u001b[0;34m(\u001b[0m\u001b[0;34m)\u001b[0m\u001b[0;34m\u001b[0m\u001b[0;34m\u001b[0m\u001b[0m\n\u001b[1;32m    579\u001b[0m     \u001b[0;32melse\u001b[0m\u001b[0;34m:\u001b[0m\u001b[0;34m\u001b[0m\u001b[0;34m\u001b[0m\u001b[0m\n\u001b[0;32m--> 580\u001b[0;31m       \u001b[0mresult\u001b[0m \u001b[0;34m=\u001b[0m \u001b[0mself\u001b[0m\u001b[0;34m.\u001b[0m\u001b[0m_call\u001b[0m\u001b[0;34m(\u001b[0m\u001b[0;34m*\u001b[0m\u001b[0margs\u001b[0m\u001b[0;34m,\u001b[0m \u001b[0;34m**\u001b[0m\u001b[0mkwds\u001b[0m\u001b[0;34m)\u001b[0m\u001b[0;34m\u001b[0m\u001b[0;34m\u001b[0m\u001b[0m\n\u001b[0m\u001b[1;32m    581\u001b[0m \u001b[0;34m\u001b[0m\u001b[0m\n\u001b[1;32m    582\u001b[0m     \u001b[0;32mif\u001b[0m \u001b[0mtracing_count\u001b[0m \u001b[0;34m==\u001b[0m \u001b[0mself\u001b[0m\u001b[0;34m.\u001b[0m\u001b[0m_get_tracing_count\u001b[0m\u001b[0;34m(\u001b[0m\u001b[0;34m)\u001b[0m\u001b[0;34m:\u001b[0m\u001b[0;34m\u001b[0m\u001b[0;34m\u001b[0m\u001b[0m\n",
      "\u001b[0;32m/sw/installed/TensorFlow/2.2.0-fosscuda-2019b-Python-3.7.4/lib/python3.7/site-packages/tensorflow/python/eager/def_function.py\u001b[0m in \u001b[0;36m_call\u001b[0;34m(self, *args, **kwds)\u001b[0m\n\u001b[1;32m    616\u001b[0m       \u001b[0;31m# In this case we have not created variables on the first call. So we can\u001b[0m\u001b[0;34m\u001b[0m\u001b[0;34m\u001b[0m\u001b[0;34m\u001b[0m\u001b[0m\n\u001b[1;32m    617\u001b[0m       \u001b[0;31m# run the first trace but we should fail if variables are created.\u001b[0m\u001b[0;34m\u001b[0m\u001b[0;34m\u001b[0m\u001b[0;34m\u001b[0m\u001b[0m\n\u001b[0;32m--> 618\u001b[0;31m       \u001b[0mresults\u001b[0m \u001b[0;34m=\u001b[0m \u001b[0mself\u001b[0m\u001b[0;34m.\u001b[0m\u001b[0m_stateful_fn\u001b[0m\u001b[0;34m(\u001b[0m\u001b[0;34m*\u001b[0m\u001b[0margs\u001b[0m\u001b[0;34m,\u001b[0m \u001b[0;34m**\u001b[0m\u001b[0mkwds\u001b[0m\u001b[0;34m)\u001b[0m\u001b[0;34m\u001b[0m\u001b[0;34m\u001b[0m\u001b[0m\n\u001b[0m\u001b[1;32m    619\u001b[0m       \u001b[0;32mif\u001b[0m \u001b[0mself\u001b[0m\u001b[0;34m.\u001b[0m\u001b[0m_created_variables\u001b[0m\u001b[0;34m:\u001b[0m\u001b[0;34m\u001b[0m\u001b[0;34m\u001b[0m\u001b[0m\n\u001b[1;32m    620\u001b[0m         raise ValueError(\"Creating variables on a non-first call to a function\"\n",
      "\u001b[0;32m/sw/installed/TensorFlow/2.2.0-fosscuda-2019b-Python-3.7.4/lib/python3.7/site-packages/tensorflow/python/eager/function.py\u001b[0m in \u001b[0;36m__call__\u001b[0;34m(self, *args, **kwargs)\u001b[0m\n\u001b[1;32m   2418\u001b[0m     \u001b[0;32mwith\u001b[0m \u001b[0mself\u001b[0m\u001b[0;34m.\u001b[0m\u001b[0m_lock\u001b[0m\u001b[0;34m:\u001b[0m\u001b[0;34m\u001b[0m\u001b[0;34m\u001b[0m\u001b[0m\n\u001b[1;32m   2419\u001b[0m       \u001b[0mgraph_function\u001b[0m\u001b[0;34m,\u001b[0m \u001b[0margs\u001b[0m\u001b[0;34m,\u001b[0m \u001b[0mkwargs\u001b[0m \u001b[0;34m=\u001b[0m \u001b[0mself\u001b[0m\u001b[0;34m.\u001b[0m\u001b[0m_maybe_define_function\u001b[0m\u001b[0;34m(\u001b[0m\u001b[0margs\u001b[0m\u001b[0;34m,\u001b[0m \u001b[0mkwargs\u001b[0m\u001b[0;34m)\u001b[0m\u001b[0;34m\u001b[0m\u001b[0;34m\u001b[0m\u001b[0m\n\u001b[0;32m-> 2420\u001b[0;31m     \u001b[0;32mreturn\u001b[0m \u001b[0mgraph_function\u001b[0m\u001b[0;34m.\u001b[0m\u001b[0m_filtered_call\u001b[0m\u001b[0;34m(\u001b[0m\u001b[0margs\u001b[0m\u001b[0;34m,\u001b[0m \u001b[0mkwargs\u001b[0m\u001b[0;34m)\u001b[0m  \u001b[0;31m# pylint: disable=protected-access\u001b[0m\u001b[0;34m\u001b[0m\u001b[0;34m\u001b[0m\u001b[0m\n\u001b[0m\u001b[1;32m   2421\u001b[0m \u001b[0;34m\u001b[0m\u001b[0m\n\u001b[1;32m   2422\u001b[0m   \u001b[0;34m@\u001b[0m\u001b[0mproperty\u001b[0m\u001b[0;34m\u001b[0m\u001b[0;34m\u001b[0m\u001b[0m\n",
      "\u001b[0;32m/sw/installed/TensorFlow/2.2.0-fosscuda-2019b-Python-3.7.4/lib/python3.7/site-packages/tensorflow/python/eager/function.py\u001b[0m in \u001b[0;36m_filtered_call\u001b[0;34m(self, args, kwargs)\u001b[0m\n\u001b[1;32m   1663\u001b[0m          if isinstance(t, (ops.Tensor,\n\u001b[1;32m   1664\u001b[0m                            resource_variable_ops.BaseResourceVariable))),\n\u001b[0;32m-> 1665\u001b[0;31m         self.captured_inputs)\n\u001b[0m\u001b[1;32m   1666\u001b[0m \u001b[0;34m\u001b[0m\u001b[0m\n\u001b[1;32m   1667\u001b[0m   \u001b[0;32mdef\u001b[0m \u001b[0m_call_flat\u001b[0m\u001b[0;34m(\u001b[0m\u001b[0mself\u001b[0m\u001b[0;34m,\u001b[0m \u001b[0margs\u001b[0m\u001b[0;34m,\u001b[0m \u001b[0mcaptured_inputs\u001b[0m\u001b[0;34m,\u001b[0m \u001b[0mcancellation_manager\u001b[0m\u001b[0;34m=\u001b[0m\u001b[0;32mNone\u001b[0m\u001b[0;34m)\u001b[0m\u001b[0;34m:\u001b[0m\u001b[0;34m\u001b[0m\u001b[0;34m\u001b[0m\u001b[0m\n",
      "\u001b[0;32m/sw/installed/TensorFlow/2.2.0-fosscuda-2019b-Python-3.7.4/lib/python3.7/site-packages/tensorflow/python/eager/function.py\u001b[0m in \u001b[0;36m_call_flat\u001b[0;34m(self, args, captured_inputs, cancellation_manager)\u001b[0m\n\u001b[1;32m   1744\u001b[0m       \u001b[0;31m# No tape is watching; skip to running the function.\u001b[0m\u001b[0;34m\u001b[0m\u001b[0;34m\u001b[0m\u001b[0;34m\u001b[0m\u001b[0m\n\u001b[1;32m   1745\u001b[0m       return self._build_call_outputs(self._inference_function.call(\n\u001b[0;32m-> 1746\u001b[0;31m           ctx, args, cancellation_manager=cancellation_manager))\n\u001b[0m\u001b[1;32m   1747\u001b[0m     forward_backward = self._select_forward_and_backward_functions(\n\u001b[1;32m   1748\u001b[0m         \u001b[0margs\u001b[0m\u001b[0;34m,\u001b[0m\u001b[0;34m\u001b[0m\u001b[0;34m\u001b[0m\u001b[0m\n",
      "\u001b[0;32m/sw/installed/TensorFlow/2.2.0-fosscuda-2019b-Python-3.7.4/lib/python3.7/site-packages/tensorflow/python/eager/function.py\u001b[0m in \u001b[0;36mcall\u001b[0;34m(self, ctx, args, cancellation_manager)\u001b[0m\n\u001b[1;32m    596\u001b[0m               \u001b[0minputs\u001b[0m\u001b[0;34m=\u001b[0m\u001b[0margs\u001b[0m\u001b[0;34m,\u001b[0m\u001b[0;34m\u001b[0m\u001b[0;34m\u001b[0m\u001b[0m\n\u001b[1;32m    597\u001b[0m               \u001b[0mattrs\u001b[0m\u001b[0;34m=\u001b[0m\u001b[0mattrs\u001b[0m\u001b[0;34m,\u001b[0m\u001b[0;34m\u001b[0m\u001b[0;34m\u001b[0m\u001b[0m\n\u001b[0;32m--> 598\u001b[0;31m               ctx=ctx)\n\u001b[0m\u001b[1;32m    599\u001b[0m         \u001b[0;32melse\u001b[0m\u001b[0;34m:\u001b[0m\u001b[0;34m\u001b[0m\u001b[0;34m\u001b[0m\u001b[0m\n\u001b[1;32m    600\u001b[0m           outputs = execute.execute_with_cancellation(\n",
      "\u001b[0;32m/sw/installed/TensorFlow/2.2.0-fosscuda-2019b-Python-3.7.4/lib/python3.7/site-packages/tensorflow/python/eager/execute.py\u001b[0m in \u001b[0;36mquick_execute\u001b[0;34m(op_name, num_outputs, inputs, attrs, ctx, name)\u001b[0m\n\u001b[1;32m     58\u001b[0m     \u001b[0mctx\u001b[0m\u001b[0;34m.\u001b[0m\u001b[0mensure_initialized\u001b[0m\u001b[0;34m(\u001b[0m\u001b[0;34m)\u001b[0m\u001b[0;34m\u001b[0m\u001b[0;34m\u001b[0m\u001b[0m\n\u001b[1;32m     59\u001b[0m     tensors = pywrap_tfe.TFE_Py_Execute(ctx._handle, device_name, op_name,\n\u001b[0;32m---> 60\u001b[0;31m                                         inputs, attrs, num_outputs)\n\u001b[0m\u001b[1;32m     61\u001b[0m   \u001b[0;32mexcept\u001b[0m \u001b[0mcore\u001b[0m\u001b[0;34m.\u001b[0m\u001b[0m_NotOkStatusException\u001b[0m \u001b[0;32mas\u001b[0m \u001b[0me\u001b[0m\u001b[0;34m:\u001b[0m\u001b[0;34m\u001b[0m\u001b[0;34m\u001b[0m\u001b[0m\n\u001b[1;32m     62\u001b[0m     \u001b[0;32mif\u001b[0m \u001b[0mname\u001b[0m \u001b[0;32mis\u001b[0m \u001b[0;32mnot\u001b[0m \u001b[0;32mNone\u001b[0m\u001b[0;34m:\u001b[0m\u001b[0;34m\u001b[0m\u001b[0;34m\u001b[0m\u001b[0m\n",
      "\u001b[0;31mKeyboardInterrupt\u001b[0m: "
     ]
    }
   ],
   "source": [
    "config.set('data', 'aug', 'True')\n",
    "\n",
    "summary = do_experiment(experiment, (X_train, X_test, y_train, y_test), 0, config, plot_ids)\n",
    "\n",
    "out_folder = out_path / 'trials' / 'aug'\n",
    "out_folder.mkdir(parents=True, exist_ok=True)\n",
    "out_f = out_folder / config.get('experiments', 'output file')\n",
    "stuff2pickle(summary, out_f)"
   ]
  }
 ],
 "metadata": {
  "kernelspec": {
   "display_name": "attila",
   "language": "python",
   "name": "attila"
  },
  "language_info": {
   "codemirror_mode": {
    "name": "ipython",
    "version": 3
   },
   "file_extension": ".py",
   "mimetype": "text/x-python",
   "name": "python",
   "nbconvert_exporter": "python",
   "pygments_lexer": "ipython3",
   "version": "3.8.5"
  }
 },
 "nbformat": 4,
 "nbformat_minor": 2
}
