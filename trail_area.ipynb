{
 "cells": [
  {
   "cell_type": "code",
   "execution_count": null,
   "metadata": {},
   "outputs": [],
   "source": [
    "%load_ext autoreload\n",
    "%reload_ext autoreload\n",
    "%autoreload 2"
   ]
  },
  {
   "cell_type": "code",
   "execution_count": null,
   "metadata": {},
   "outputs": [],
   "source": [
    "%matplotlib inline\n",
    "\n",
    "from pathlib import Path\n",
    "\n",
    "from attila.data.parse import parse_data, get_data\n",
    "from attila.experiments.do import do_batch_experiments\n",
    "from attila.util.config import get_env\n",
    "from attila.util.io import load_json"
   ]
  },
  {
   "cell_type": "code",
   "execution_count": null,
   "metadata": {},
   "outputs": [],
   "source": [
    "_here = Path('.').resolve()"
   ]
  },
  {
   "cell_type": "code",
   "execution_count": null,
   "metadata": {},
   "outputs": [],
   "source": [
    "config, data_path, out_path, models_config_path = get_env(_here)\n",
    "out_path.mkdir(parents=True, exist_ok=True)  # rm and mkdir if existing\n",
    "\n",
    "images_path = data_path / config.get('data', 'images')\n",
    "masks_path = data_path / config.get('data', 'masks')"
   ]
  },
  {
   "cell_type": "code",
   "execution_count": null,
   "metadata": {},
   "outputs": [],
   "source": [
    "raw = get_data(images_path, masks_path)\n",
    "X, y = parse_data(\n",
    "    raw,\n",
    "    (config.getint('image', 'width'), config.getint('image', 'height'))\n",
    ")"
   ]
  },
  {
   "cell_type": "code",
   "execution_count": null,
   "metadata": {
    "scrolled": true
   },
   "outputs": [],
   "source": [
    "models_config = load_json(models_config_path)\n",
    "do_batch_experiments(models_config, (X, y), config, out_path)"
   ]
  }
 ],
 "metadata": {
  "kernelspec": {
   "display_name": "attila",
   "language": "python",
   "name": "attila"
  },
  "language_info": {
   "codemirror_mode": {
    "name": "ipython",
    "version": 3
   },
   "file_extension": ".py",
   "mimetype": "text/x-python",
   "name": "python",
   "nbconvert_exporter": "python",
   "pygments_lexer": "ipython3",
   "version": "3.7.4"
  }
 },
 "nbformat": 4,
 "nbformat_minor": 4
}
